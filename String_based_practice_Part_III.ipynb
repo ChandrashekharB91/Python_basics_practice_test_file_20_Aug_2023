{
 "cells": [
  {
   "cell_type": "code",
   "execution_count": 67,
   "id": "23207c27-5cc5-4ad3-8f1c-1a55c9c4cb13",
   "metadata": {
    "tags": []
   },
   "outputs": [],
   "source": [
    "import numpy as np\n",
    "import math\n",
    "from collections import Counter\n",
    "import random"
   ]
  },
  {
   "cell_type": "markdown",
   "id": "73e630f8-38a0-48e0-a6cd-209068126089",
   "metadata": {},
   "source": [
    "# <span style='color:green'>Topic: Tuple Based Practice Problems</span>"
   ]
  },
  {
   "cell_type": "markdown",
   "id": "5dc86b3a-63a9-465c-84aa-7023e5900002",
   "metadata": {},
   "source": [
    "1. Create a tuple with integers from 1 to 5."
   ]
  },
  {
   "cell_type": "code",
   "execution_count": 2,
   "id": "2e904160-d366-40d4-9c24-15e22221316a",
   "metadata": {
    "tags": []
   },
   "outputs": [
    {
     "data": {
      "text/plain": [
       "(1, 2, 3, 4, 5)"
      ]
     },
     "execution_count": 2,
     "metadata": {},
     "output_type": "execute_result"
    }
   ],
   "source": [
    "tuple1 = tuple(i for i in range(1, 6)) # Using this we can generalize the tuple upto n.\n",
    "tuple1"
   ]
  },
  {
   "cell_type": "markdown",
   "id": "368486ce-fc0d-4168-9b25-5fae044abdcc",
   "metadata": {},
   "source": [
    "2. Access the third element of a tuple."
   ]
  },
  {
   "cell_type": "code",
   "execution_count": 3,
   "id": "cc00db19-4796-4020-9719-8db8bfb4783e",
   "metadata": {
    "tags": []
   },
   "outputs": [
    {
     "data": {
      "text/plain": [
       "4"
      ]
     },
     "execution_count": 3,
     "metadata": {},
     "output_type": "execute_result"
    }
   ],
   "source": [
    "a = tuple1[3]\n",
    "a"
   ]
  },
  {
   "cell_type": "markdown",
   "id": "0c07c922-38d4-4da7-b3a4-6fa2f786f577",
   "metadata": {},
   "source": [
    "3. Find the length of a tuple without using the `len()` function."
   ]
  },
  {
   "cell_type": "code",
   "execution_count": 4,
   "id": "8ca6a9e2-afc5-47b1-ae56-cb5789e60d8c",
   "metadata": {
    "tags": []
   },
   "outputs": [
    {
     "data": {
      "text/plain": [
       "5"
      ]
     },
     "execution_count": 4,
     "metadata": {},
     "output_type": "execute_result"
    }
   ],
   "source": [
    "length_of_tuple = tuple1.index(tuple1[-1]) + 1\n",
    "length_of_tuple"
   ]
  },
  {
   "cell_type": "markdown",
   "id": "a82162c6-0741-4c90-bea4-eb4446d03557",
   "metadata": {},
   "source": [
    "4. Count the occurrences of an element in a tuple."
   ]
  },
  {
   "cell_type": "code",
   "execution_count": 5,
   "id": "34435603-cc74-48f0-8a74-176e9d35a42f",
   "metadata": {
    "tags": []
   },
   "outputs": [],
   "source": [
    "def count_occurances(tup):\n",
    "    tup_count = []\n",
    "    for i in tup:\n",
    "        j = tup.count(i)\n",
    "        tup_count.append(j)\n",
    "    tup_counts = dict(zip(tup, tup_count))\n",
    "    return tup_counts"
   ]
  },
  {
   "cell_type": "code",
   "execution_count": 6,
   "id": "f689439a-f63d-4867-86f1-088a8fd0d411",
   "metadata": {
    "tags": []
   },
   "outputs": [
    {
     "name": "stdout",
     "output_type": "stream",
     "text": [
      "Number of times the each element occured in the tupple is {1: 2, 2: 3, 3: 2, 6: 5, 7: 1}\n"
     ]
    }
   ],
   "source": [
    "tuple2 = (1, 1, 2, 2, 2, 3, 3, 6, 6, 6, 6, 6, 7)\n",
    "\n",
    "result = count_occurances(tuple2)\n",
    "print('Number of times the each element occured in the tupple is', result)"
   ]
  },
  {
   "cell_type": "code",
   "execution_count": 7,
   "id": "dffb136f-b02b-4e62-8e0e-1e842f539b1f",
   "metadata": {
    "tags": []
   },
   "outputs": [
    {
     "name": "stdout",
     "output_type": "stream",
     "text": [
      "Number of times each element occurred in the tuple is {1: 2, 2: 3, 3: 2, 6: 5, 7: 1}\n"
     ]
    }
   ],
   "source": [
    "# We can define the function in other way also\n",
    "\n",
    "def count_occurrences(tup):\n",
    "    tup_counts = dict(Counter(tup))\n",
    "    return tup_counts\n",
    "\n",
    "tuple2 = (1, 1, 2, 2, 2, 3, 3, 6, 6, 6, 6, 6, 7)\n",
    "\n",
    "result = count_occurrences(tuple2)\n",
    "print('Number of times each element occurred in the tuple is', result)"
   ]
  },
  {
   "cell_type": "markdown",
   "id": "4bfd0642-33a0-4ca0-9276-e8ab83b3e8c2",
   "metadata": {},
   "source": [
    "5. Find the index of the first occurrence of an element in a tuple.    "
   ]
  },
  {
   "cell_type": "code",
   "execution_count": 8,
   "id": "fc3b05bc-71a8-45e2-9c0c-0d630c8443f0",
   "metadata": {
    "tags": []
   },
   "outputs": [
    {
     "name": "stdout",
     "output_type": "stream",
     "text": [
      "The first occurrence of 6 is at index 7.\n"
     ]
    }
   ],
   "source": [
    "my_tuple = (1, 1, 2, 2, 2, 3, 3, 6, 6, 6, 6, 6, 7)\n",
    "element_to_find = 6\n",
    "\n",
    "try:\n",
    "    index = my_tuple.index(element_to_find)\n",
    "    print(f\"The first occurrence of {element_to_find} is at index {index}.\")\n",
    "except ValueError:\n",
    "    print(f\"{element_to_find} is not in the tuple.\")"
   ]
  },
  {
   "cell_type": "markdown",
   "id": "e08d4109-a433-4154-b4a4-d047e5771ade",
   "metadata": {},
   "source": [
    "6. Check if an element exists in a tuple."
   ]
  },
  {
   "cell_type": "code",
   "execution_count": 9,
   "id": "c985e474-0304-410a-af9d-4e42d01bd703",
   "metadata": {
    "tags": []
   },
   "outputs": [
    {
     "name": "stdout",
     "output_type": "stream",
     "text": [
      "Element 20 is in the given tuple.\n"
     ]
    }
   ],
   "source": [
    "def is_element_of_tup(element, my_tuple):\n",
    "    for elt in my_tuple:\n",
    "        if elt == element:\n",
    "            return True\n",
    "    return False\n",
    "\n",
    "my_tuple = (10, 15, 20, 100, 450, 600, 190, 255)\n",
    "element_to_check = 20\n",
    "\n",
    "if is_element_of_tup(element_to_check, my_tuple):\n",
    "    print(f'Element {element_to_check} is in the given tuple.')\n",
    "else:\n",
    "    print(f'Element {element_to_check} is not in the given tuple.')"
   ]
  },
  {
   "cell_type": "markdown",
   "id": "b81a6837-dbf9-483c-a895-919a41ae0584",
   "metadata": {},
   "source": [
    "7. Convert a tuple to a list."
   ]
  },
  {
   "cell_type": "code",
   "execution_count": 10,
   "id": "9c62899c-0f71-48f7-97b4-2e93b60a9eda",
   "metadata": {
    "tags": []
   },
   "outputs": [
    {
     "data": {
      "text/plain": [
       "[1, 2, 3, 4, 5, 6, 7, 8, 9, 10]"
      ]
     },
     "execution_count": 10,
     "metadata": {},
     "output_type": "execute_result"
    }
   ],
   "source": [
    "tup = (1, 2, 3, 4, 5, 6, 7, 8, 9, 10)\n",
    "list_tup = list(tup)\n",
    "list_tup"
   ]
  },
  {
   "cell_type": "markdown",
   "id": "1ca9bbe9-a5cf-4b52-9b1f-be08ebff9ba5",
   "metadata": {},
   "source": [
    "8. Convert a list to a tuple."
   ]
  },
  {
   "cell_type": "code",
   "execution_count": 11,
   "id": "69c207ff-4840-411c-a3ed-3822cef9eaad",
   "metadata": {
    "tags": []
   },
   "outputs": [
    {
     "data": {
      "text/plain": [
       "(1, 2, 3, 4, 5)"
      ]
     },
     "execution_count": 11,
     "metadata": {},
     "output_type": "execute_result"
    }
   ],
   "source": [
    "lst = [1, 2, 3, 4, 5]\n",
    "tup = tuple(lst)\n",
    "tup"
   ]
  },
  {
   "cell_type": "markdown",
   "id": "54274edd-6318-4708-9688-e3eb0d34f083",
   "metadata": {},
   "source": [
    "9. Unpack the elements of a tuple into variables."
   ]
  },
  {
   "cell_type": "code",
   "execution_count": 12,
   "id": "11d7fd2b-eaa6-49d9-934d-abe5dabed2ae",
   "metadata": {
    "tags": []
   },
   "outputs": [
    {
     "name": "stdout",
     "output_type": "stream",
     "text": [
      "a\n",
      "b\n",
      "c\n",
      "d\n",
      "f\n"
     ]
    }
   ],
   "source": [
    "tup = ('a', 'b', 'c', 'd', 'f')\n",
    "\n",
    "for elt in tup:\n",
    "    print(elt)"
   ]
  },
  {
   "cell_type": "markdown",
   "id": "9c5d862a-4398-4a6d-a537-8370729afa55",
   "metadata": {},
   "source": [
    "10. Create a tuple of even numbers from 1 to 10."
   ]
  },
  {
   "cell_type": "code",
   "execution_count": 13,
   "id": "f10ecbc6-b4dd-4d3c-84b1-175fa4914e54",
   "metadata": {
    "tags": []
   },
   "outputs": [
    {
     "name": "stdout",
     "output_type": "stream",
     "text": [
      "2\n",
      "4\n",
      "6\n",
      "8\n",
      "10\n"
     ]
    }
   ],
   "source": [
    "# Using for loop\n",
    "for i in range(1, 11):\n",
    "    if i % 2 == 0:\n",
    "        print(i)"
   ]
  },
  {
   "cell_type": "code",
   "execution_count": 14,
   "id": "7a015b43-9b74-4113-8d85-e0ddeabea811",
   "metadata": {
    "tags": []
   },
   "outputs": [
    {
     "name": "stdout",
     "output_type": "stream",
     "text": [
      "Even numbers from 1 to 10 are: (2, 4, 6, 8, 10)\n"
     ]
    }
   ],
   "source": [
    "# Using list comprehension\n",
    "even_numbers = tuple(i for i in range(1, 11) if i % 2 == 0)\n",
    "print('Even numbers from 1 to 10 are:', even_numbers)"
   ]
  },
  {
   "cell_type": "markdown",
   "id": "7045ecca-7f8a-4d77-b781-7eb7563c795e",
   "metadata": {},
   "source": [
    "11. Create a tuple of odd numbers from 1 to 10."
   ]
  },
  {
   "cell_type": "code",
   "execution_count": 15,
   "id": "fc522bcd-5481-436d-abea-f29b0d1851fa",
   "metadata": {
    "tags": []
   },
   "outputs": [
    {
     "name": "stdout",
     "output_type": "stream",
     "text": [
      "Odd numbers from 1 to 10 are: (1, 3, 5, 7, 9)\n"
     ]
    }
   ],
   "source": [
    "odd_numbers = tuple(i for i in range(1, 11) if i % 2 == 1)\n",
    "print('Odd numbers from 1 to 10 are:', odd_numbers)"
   ]
  },
  {
   "cell_type": "markdown",
   "id": "71ef8a37-5f98-440f-8e2a-8b93c4d098c8",
   "metadata": {},
   "source": [
    "12. Concatenate two tuples."
   ]
  },
  {
   "cell_type": "code",
   "execution_count": 16,
   "id": "f6134961-027f-4271-80be-808f5dd19f97",
   "metadata": {
    "tags": []
   },
   "outputs": [
    {
     "data": {
      "text/plain": [
       "(1, 2, 3, 4, 5, 6, 7, 8, 9, 10)"
      ]
     },
     "execution_count": 16,
     "metadata": {},
     "output_type": "execute_result"
    }
   ],
   "source": [
    "tup1 = (1, 2, 3, 4, 5)\n",
    "tup2 = (6, 7, 8, 9, 10)\n",
    "\n",
    "concat_tup = set(tup1).union(tup2)\n",
    "concat_tup = tuple(concat_tup)\n",
    "concat_tup"
   ]
  },
  {
   "cell_type": "markdown",
   "id": "ce75483f-25e9-462a-9d02-31cdf93c757b",
   "metadata": {},
   "source": [
    "13. Repeat a tuple three times."
   ]
  },
  {
   "cell_type": "code",
   "execution_count": 17,
   "id": "a64fc1a4-a203-4cfa-a04c-3f7c06a8bedc",
   "metadata": {
    "tags": []
   },
   "outputs": [
    {
     "name": "stdout",
     "output_type": "stream",
     "text": [
      "(1, 2, 3, 4, 1, 2, 3, 4, 1, 2, 3, 4)\n"
     ]
    }
   ],
   "source": [
    "tup = (1, 2, 3, 4)\n",
    "new_tup = tup * 3\n",
    "print(new_tup)"
   ]
  },
  {
   "cell_type": "markdown",
   "id": "0a3e0c6f-fe3d-4bfd-a6b3-eedebb11dfb9",
   "metadata": {},
   "source": [
    "14. Check if a tuple is empty."
   ]
  },
  {
   "cell_type": "code",
   "execution_count": 18,
   "id": "fe2c1460-1530-472a-81d5-bf579bcc033e",
   "metadata": {
    "tags": []
   },
   "outputs": [],
   "source": [
    "def is_empty_tup(tup):\n",
    "    if len(tup) == 0:\n",
    "        print('Given tuple is empty')\n",
    "    else:\n",
    "        print('Given tuple is not empty')"
   ]
  },
  {
   "cell_type": "code",
   "execution_count": 19,
   "id": "33439ad6-2586-45e0-98d3-cdae51304814",
   "metadata": {
    "tags": []
   },
   "outputs": [
    {
     "name": "stdout",
     "output_type": "stream",
     "text": [
      "Given tuple is empty\n"
     ]
    }
   ],
   "source": [
    "tup = ()\n",
    "is_empty_tup(tup)"
   ]
  },
  {
   "cell_type": "markdown",
   "id": "4fc1d6e8-1377-4401-b856-de379cb9fb08",
   "metadata": {},
   "source": [
    "15. Create a nested tuple."
   ]
  },
  {
   "cell_type": "markdown",
   "id": "431eb5e3-ad46-4997-ad3c-9657957c2166",
   "metadata": {},
   "source": [
    "16. Access the first element of a nested tuple."
   ]
  },
  {
   "cell_type": "code",
   "execution_count": 20,
   "id": "e29e00f1-0349-4286-b233-553e73e308fc",
   "metadata": {
    "tags": []
   },
   "outputs": [
    {
     "data": {
      "text/plain": [
       "((1, 2), (3, 4), (5, 6))"
      ]
     },
     "execution_count": 20,
     "metadata": {},
     "output_type": "execute_result"
    }
   ],
   "source": [
    "nested_tup = ((1, 2), (3, 4), (5, 6))\n",
    "nested_tup"
   ]
  },
  {
   "cell_type": "code",
   "execution_count": 21,
   "id": "85f6caa1-0008-4fab-80f4-7e253f5a4c50",
   "metadata": {
    "tags": []
   },
   "outputs": [
    {
     "name": "stdout",
     "output_type": "stream",
     "text": [
      "(1, 2)\n",
      "(5, 6)\n"
     ]
    }
   ],
   "source": [
    "# We can access the each element of the tuple\n",
    "print(nested_tup[0])\n",
    "print(nested_tup[2])"
   ]
  },
  {
   "cell_type": "markdown",
   "id": "7d7f4d83-db33-4fd8-b333-fe131c60c5b0",
   "metadata": {},
   "source": [
    "17. Create a tuple with a single element."
   ]
  },
  {
   "cell_type": "code",
   "execution_count": 22,
   "id": "86d4a7cc-13ad-4bad-b1ec-db1414e58b72",
   "metadata": {
    "tags": []
   },
   "outputs": [
    {
     "data": {
      "text/plain": [
       "(1,)"
      ]
     },
     "execution_count": 22,
     "metadata": {},
     "output_type": "execute_result"
    }
   ],
   "source": [
    "tup_one_elt = (1,)\n",
    "tup_one_elt"
   ]
  },
  {
   "cell_type": "markdown",
   "id": "b9c06e11-9666-4d2f-8294-cb9c0c56ce7b",
   "metadata": {},
   "source": [
    "18. Compare two tuples."
   ]
  },
  {
   "cell_type": "markdown",
   "id": "355f9c90-85dc-48a6-a66d-4d2093695820",
   "metadata": {},
   "source": [
    "* Python compares elements from left to right. If the first elements of both tuples are equal, it moves on to the next elements and so on. The     comparison stops as soon as a difference is found, and the result is determined based on that."
   ]
  },
  {
   "cell_type": "code",
   "execution_count": 23,
   "id": "1c32192e-2e0c-48ca-9480-3e42f4d49152",
   "metadata": {
    "tags": []
   },
   "outputs": [
    {
     "name": "stdout",
     "output_type": "stream",
     "text": [
      "Tuple1 is less than Tuple2\n"
     ]
    }
   ],
   "source": [
    "tuple1 = (1, 2, 3)\n",
    "tuple2 = (1, 2, 4)\n",
    "\n",
    "if tuple1 < tuple2:\n",
    "    print(\"Tuple1 is less than Tuple2\")\n",
    "elif tuple1 > tuple2:\n",
    "    print(\"Tuple1 is greater than Tuple2\")\n",
    "else:\n",
    "    print(\"Tuples are equal\")"
   ]
  },
  {
   "cell_type": "markdown",
   "id": "67fd6fc2-5143-455b-94b1-553b2485f9c2",
   "metadata": {},
   "source": [
    "19. Delete a tuple."
   ]
  },
  {
   "cell_type": "code",
   "execution_count": 24,
   "id": "e8217d45-c91c-47e3-82ec-4ec4384576d2",
   "metadata": {
    "tags": []
   },
   "outputs": [],
   "source": [
    "tup1 = (1, 2, 3, 4, 5)"
   ]
  },
  {
   "cell_type": "code",
   "execution_count": 25,
   "id": "d6308962-24d0-471e-b0f5-bf739a596848",
   "metadata": {
    "tags": []
   },
   "outputs": [],
   "source": [
    "del tup1"
   ]
  },
  {
   "cell_type": "code",
   "execution_count": 26,
   "id": "ad0f4a4e-7559-4e65-bebc-54835eb09885",
   "metadata": {
    "tags": []
   },
   "outputs": [
    {
     "ename": "NameError",
     "evalue": "name 'tup1' is not defined",
     "output_type": "error",
     "traceback": [
      "\u001b[1;31m---------------------------------------------------------------------------\u001b[0m",
      "\u001b[1;31mNameError\u001b[0m                                 Traceback (most recent call last)",
      "Cell \u001b[1;32mIn[26], line 1\u001b[0m\n\u001b[1;32m----> 1\u001b[0m tup1\n",
      "\u001b[1;31mNameError\u001b[0m: name 'tup1' is not defined"
     ]
    }
   ],
   "source": [
    "tup1"
   ]
  },
  {
   "cell_type": "markdown",
   "id": "3a8e47cc-2e3b-482a-97d6-a6cf69d1300c",
   "metadata": {},
   "source": [
    "20. Slice a tuple."
   ]
  },
  {
   "cell_type": "code",
   "execution_count": null,
   "id": "95133332-c655-4060-8632-e804e335145c",
   "metadata": {
    "tags": []
   },
   "outputs": [],
   "source": [
    "# We can slice the tuple using the index number of elements\n",
    "tup1 = (1, 2, 3, 4, 5, 6, 7, 8, 9, 10)\n",
    "tup1_sliced = tup1[0:3]\n",
    "tup1_sliced"
   ]
  },
  {
   "cell_type": "markdown",
   "id": "e87bff62-9641-4fd2-a483-07a21aa273b7",
   "metadata": {},
   "source": [
    "21. Find the maximum value in a tuple."
   ]
  },
  {
   "cell_type": "code",
   "execution_count": null,
   "id": "7da92858-8845-43e9-8694-9dc57e266c3b",
   "metadata": {
    "tags": []
   },
   "outputs": [],
   "source": [
    "max_value = max(tup1)\n",
    "max_value"
   ]
  },
  {
   "cell_type": "markdown",
   "id": "f3f60068-5ab4-4b49-931a-8a482c275163",
   "metadata": {},
   "source": [
    "22. Find the minimum value in a tuple."
   ]
  },
  {
   "cell_type": "code",
   "execution_count": 56,
   "id": "bf44075c-3a06-47c9-b5ca-263208602c6e",
   "metadata": {
    "tags": []
   },
   "outputs": [
    {
     "data": {
      "text/plain": [
       "1"
      ]
     },
     "execution_count": 56,
     "metadata": {},
     "output_type": "execute_result"
    }
   ],
   "source": [
    "tup1 = (1, 2, 3, 4, 5, 6, 7, 8, 9, 10)\n",
    "min_value = min(tup1)\n",
    "min_value"
   ]
  },
  {
   "cell_type": "markdown",
   "id": "22b6eaea-52a7-40fe-856b-547fe32ff336",
   "metadata": {},
   "source": [
    "23. Convert a string to a tuple of characters."
   ]
  },
  {
   "cell_type": "code",
   "execution_count": 28,
   "id": "d9de1b7e-68e4-4ea6-82fe-c3aca545bbfb",
   "metadata": {
    "tags": []
   },
   "outputs": [
    {
     "data": {
      "text/plain": [
       "('p', 'y', 't', 'h', 'o', 'n', ' ', 'c', 'o', 'd', 'i', 'n', 'g')"
      ]
     },
     "execution_count": 28,
     "metadata": {},
     "output_type": "execute_result"
    }
   ],
   "source": [
    "# Looping through each character of string\n",
    "word_string = 'python coding'\n",
    "word_char = tuple(char for char in word_string)\n",
    "word_char"
   ]
  },
  {
   "cell_type": "code",
   "execution_count": 29,
   "id": "8d442e7b-942a-46dd-84b2-80b377141c3f",
   "metadata": {
    "tags": []
   },
   "outputs": [
    {
     "data": {
      "text/plain": [
       "('It', 'is', 'raining', 'today')"
      ]
     },
     "execution_count": 29,
     "metadata": {},
     "output_type": "execute_result"
    }
   ],
   "source": [
    "# We can also form a tuple words from the string\n",
    "string = 'It is raining today'\n",
    "word_list = string.split()\n",
    "word_tuple = tuple(word_list)\n",
    "word_tuple"
   ]
  },
  {
   "cell_type": "markdown",
   "id": "ccb42330-9efb-4e5f-ab53-fe839a11a35d",
   "metadata": {},
   "source": [
    "24. Convert a tuple of characters to a string."
   ]
  },
  {
   "cell_type": "code",
   "execution_count": 30,
   "id": "bafc9b16-1427-4034-90dc-97a193514133",
   "metadata": {
    "tags": []
   },
   "outputs": [
    {
     "data": {
      "text/plain": [
       "'PYTHON'"
      ]
     },
     "execution_count": 30,
     "metadata": {},
     "output_type": "execute_result"
    }
   ],
   "source": [
    "char_tup = ('P', 'Y', 'T', 'H', 'O', 'N')\n",
    "word_tup = ''.join(char_tup)\n",
    "word_tup"
   ]
  },
  {
   "cell_type": "markdown",
   "id": "28d2bce1-7198-4f7e-bb6b-f01829a7bd04",
   "metadata": {},
   "source": [
    "25. Create a tuple from multiple data types."
   ]
  },
  {
   "cell_type": "code",
   "execution_count": 31,
   "id": "da1e58ec-a38c-4d44-9873-720ca46e66e1",
   "metadata": {
    "tags": []
   },
   "outputs": [
    {
     "data": {
      "text/plain": [
       "(1, 'coding', 3.5, [3, 4, 5], (6, 7, 8))"
      ]
     },
     "execution_count": 31,
     "metadata": {},
     "output_type": "execute_result"
    }
   ],
   "source": [
    "multi_tuple = (1, 'coding', 3.5, [3, 4, 5], (6, 7, 8))\n",
    "multi_tuple"
   ]
  },
  {
   "cell_type": "markdown",
   "id": "51e9efba-462b-4019-84a5-5a62e8a723a4",
   "metadata": {},
   "source": [
    "26. Check if two tuples are identical."
   ]
  },
  {
   "cell_type": "code",
   "execution_count": 32,
   "id": "ba51e255-cc87-4405-a9b4-3a862267f4a2",
   "metadata": {
    "tags": []
   },
   "outputs": [
    {
     "name": "stdout",
     "output_type": "stream",
     "text": [
      "Given tuples are not equal\n"
     ]
    }
   ],
   "source": [
    "tup1 = (1, 2, 3)\n",
    "tup2 = (4, 5, 6)\n",
    "\n",
    "if tup1 == tup2:\n",
    "    print('Given tuples are equal')\n",
    "else:\n",
    "    print('Given tuples are not equal')"
   ]
  },
  {
   "cell_type": "markdown",
   "id": "87679afd-dd3a-4128-a4e9-5bf33d9e141c",
   "metadata": {},
   "source": [
    "27. Sort the elements of a tuple."
   ]
  },
  {
   "cell_type": "code",
   "execution_count": 35,
   "id": "22cea4e9-1bcc-4051-9361-3b4e29b936c3",
   "metadata": {},
   "outputs": [
    {
     "name": "stdout",
     "output_type": "stream",
     "text": [
      "[3, 5, 8, 10, 12, 15, 100]\n"
     ]
    }
   ],
   "source": [
    "tup = (3, 5, 8, 10, 12, 15, 100)\n",
    "sorted_tup = sorted(tup)\n",
    "print(sorted_tup)"
   ]
  },
  {
   "cell_type": "code",
   "execution_count": 36,
   "id": "bd3f4b2e-58aa-4832-8d4b-97b9137bc073",
   "metadata": {},
   "outputs": [
    {
     "name": "stdout",
     "output_type": "stream",
     "text": [
      "[100, 15, 12, 10, 8, 5, 3]\n"
     ]
    }
   ],
   "source": [
    "tup = (3, 5, 8, 10, 12, 15, 100)\n",
    "sorted_tup_r = sorted(tup, reverse=True)\n",
    "print(sorted_tup_r)"
   ]
  },
  {
   "cell_type": "markdown",
   "id": "8c47ee3f-3dc7-4ea2-a850-c753c70adb69",
   "metadata": {},
   "source": [
    "28. Convert a tuple of integers to a tuple of strings."
   ]
  },
  {
   "cell_type": "code",
   "execution_count": 44,
   "id": "49c7b860-5362-4d33-82fd-9fdc1643ada5",
   "metadata": {},
   "outputs": [
    {
     "data": {
      "text/plain": [
       "('1', '2', '3', '4', '5')"
      ]
     },
     "execution_count": 44,
     "metadata": {},
     "output_type": "execute_result"
    }
   ],
   "source": [
    "# Using for loop\n",
    "tup = (1,2,3,4,5)\n",
    "\n",
    "str_tup = []\n",
    "for i in tup:\n",
    "    i = str(i)\n",
    "    str_tup.append(i)\n",
    "str_tup = tuple(str_tup)\n",
    "str_tup"
   ]
  },
  {
   "cell_type": "code",
   "execution_count": 45,
   "id": "dc4e0855-5139-4dbe-ab45-ffe093c0aa0e",
   "metadata": {},
   "outputs": [
    {
     "name": "stdout",
     "output_type": "stream",
     "text": [
      "('1', '2', '3', '4', '5')\n"
     ]
    }
   ],
   "source": [
    "# Using list comprehension\n",
    "tup = (1, 2, 3, 4, 5)\n",
    "str_tup = tuple(str(i) for i in tup)\n",
    "print(str_tup)"
   ]
  },
  {
   "cell_type": "markdown",
   "id": "65cf37a5-dad8-4713-80ca-a79650c3e78c",
   "metadata": {},
   "source": [
    "29. Convert a tuple of strings to a tuple of integers."
   ]
  },
  {
   "cell_type": "code",
   "execution_count": 47,
   "id": "317319d2-c290-4fc9-9820-b6a1f5abc613",
   "metadata": {},
   "outputs": [
    {
     "name": "stdout",
     "output_type": "stream",
     "text": [
      "(1, 2, 3, 4, 5)\n"
     ]
    }
   ],
   "source": [
    "# Convert each element of tuple into integer\n",
    "int_tup = tuple(int(i) for i in str_tup)\n",
    "print(int_tup)"
   ]
  },
  {
   "cell_type": "markdown",
   "id": "6179641e-ffe3-42d7-84da-f20f0b19eedc",
   "metadata": {},
   "source": [
    "30. Merge two tuples."
   ]
  },
  {
   "cell_type": "code",
   "execution_count": 51,
   "id": "5ed35090-4037-432a-bc06-1e38d34fc5fc",
   "metadata": {},
   "outputs": [
    {
     "name": "stdout",
     "output_type": "stream",
     "text": [
      "(1, 2, 3, 4, 5, 6, 7, 8, 9)\n"
     ]
    }
   ],
   "source": [
    "tup1 = (1,2,3,4,5)\n",
    "tup2 = (5,6,7,8,9)\n",
    "result_tup = set(tup1).union(tup2)\n",
    "result_tup = tuple(result_tup)\n",
    "print(result_tup)"
   ]
  },
  {
   "cell_type": "code",
   "execution_count": 52,
   "id": "7386c03d-7d8a-4bc5-85e9-20cd98bc72a1",
   "metadata": {},
   "outputs": [
    {
     "name": "stdout",
     "output_type": "stream",
     "text": [
      "(1, 2, 3, 4, 5, 5, 6, 7, 8, 9)\n"
     ]
    }
   ],
   "source": [
    "tup1 = (1, 2, 3, 4, 5)\n",
    "tup2 = (5, 6, 7, 8, 9)\n",
    "result_tup = tup1 + tup2\n",
    "print(result_tup)"
   ]
  },
  {
   "cell_type": "markdown",
   "id": "2a884992-1d91-4381-b766-bfa219b111dd",
   "metadata": {},
   "source": [
    "31. Flatten a nested tuple."
   ]
  },
  {
   "cell_type": "code",
   "execution_count": 54,
   "id": "00f5163a-8b2b-4762-bf76-ea2c8cb4dd13",
   "metadata": {},
   "outputs": [],
   "source": [
    "nested_tup = (((1,2),(3,4),(5,6),(7,8)),((9,10),(11,12),(13,14),(15,16)))"
   ]
  },
  {
   "cell_type": "code",
   "execution_count": 55,
   "id": "f03c2811-0a47-4939-ad7c-334f8ff0ed83",
   "metadata": {},
   "outputs": [
    {
     "name": "stdout",
     "output_type": "stream",
     "text": [
      "(1, 2, 3, 4, 5, 6, 7, 8, 9, 10, 11, 12, 13, 14, 15, 16)\n"
     ]
    }
   ],
   "source": [
    "# Start by looping through each element of the tuple\n",
    "def flatten_tuple(nested_tuple):\n",
    "    flat_list = []\n",
    "    for item in nested_tuple:\n",
    "        if isinstance(item, tuple):   # Check whether the element is tuple or not\n",
    "            flat_list.extend(flatten_tuple(item))\n",
    "        else:\n",
    "            flat_list.append(item)\n",
    "    return flat_list\n",
    "\n",
    "flattened_tuple = tuple(flatten_tuple(nested_tup))\n",
    "print(flattened_tuple)"
   ]
  },
  {
   "cell_type": "markdown",
   "id": "321dc3ca-13b0-43d7-923f-419a4082104c",
   "metadata": {},
   "source": [
    "32. Create a tuple of the first 5 prime numbers."
   ]
  },
  {
   "cell_type": "code",
   "execution_count": 57,
   "id": "c6d42b2d-3ce8-4cb6-8590-ba794f94dd91",
   "metadata": {
    "tags": []
   },
   "outputs": [
    {
     "data": {
      "text/plain": [
       "(2, 3, 5, 7, 11)"
      ]
     },
     "execution_count": 57,
     "metadata": {},
     "output_type": "execute_result"
    }
   ],
   "source": [
    "# We can create a tuple just by manually passing the prime numbers into a tuple\n",
    "prime_tuple = (2, 3, 5, 7, 11)\n",
    "prime_tuple"
   ]
  },
  {
   "cell_type": "code",
   "execution_count": 58,
   "id": "c068c2d1-8f71-45fb-93b4-adc4df65efd2",
   "metadata": {},
   "outputs": [
    {
     "name": "stdout",
     "output_type": "stream",
     "text": [
      "(2, 3, 5, 7, 11)\n"
     ]
    }
   ],
   "source": [
    "# We can define a function to create a tuple containing first n prime numbers  \n",
    "def is_prime(num):\n",
    "    if num <= 1:\n",
    "        return False\n",
    "    if num <= 3:\n",
    "        return True\n",
    "    if num % 2 == 0 or num % 3 == 0:\n",
    "        return False\n",
    "    i = 5\n",
    "    while i * i <= num:\n",
    "        if num % i == 0 or num % (i + 2) == 0:\n",
    "            return False\n",
    "        i += 6\n",
    "    return True\n",
    "\n",
    "def first_n_primes(n):\n",
    "    prime_list = []\n",
    "    num = 2\n",
    "    while len(prime_list) < n:\n",
    "        if is_prime(num):\n",
    "            prime_list.append(num)\n",
    "        num += 1\n",
    "    return tuple(prime_list)\n",
    "\n",
    "n = 5  \n",
    "prime_numbers = first_n_primes(n)\n",
    "print(prime_numbers)"
   ]
  },
  {
   "cell_type": "markdown",
   "id": "b7489da8-6241-4080-bfe2-7d071d693e3b",
   "metadata": {},
   "source": [
    "33. Check if a tuple is a palindrome."
   ]
  },
  {
   "cell_type": "markdown",
   "id": "cbe86f17-5fc4-4672-9a3e-521ff6ca312b",
   "metadata": {},
   "source": [
    "*  If the tuple and its reverse are the same, then the tuple is a palindrome."
   ]
  },
  {
   "cell_type": "code",
   "execution_count": 59,
   "id": "057ab32f-1e4f-4cc6-96cd-2b9489d38e0d",
   "metadata": {},
   "outputs": [],
   "source": [
    "def is_palindrome_tuple(tup):\n",
    "    return tup == tup[::-1]"
   ]
  },
  {
   "cell_type": "code",
   "execution_count": 60,
   "id": "4756f25e-2f91-4c85-9e4e-54e447e2d5bf",
   "metadata": {},
   "outputs": [
    {
     "name": "stdout",
     "output_type": "stream",
     "text": [
      "The tuple is a palindrome.\n"
     ]
    }
   ],
   "source": [
    "palindrome_tup = (1,2,3,4,3,2,1)\n",
    "if is_palindrome_tuple(palindrome_tup):\n",
    "    print(\"The tuple is a palindrome.\")\n",
    "else:\n",
    "    print(\"The tuple is not a palindrome.\")"
   ]
  },
  {
   "cell_type": "code",
   "execution_count": 61,
   "id": "8abf25f9-cded-416a-b3c3-1025b2a12c88",
   "metadata": {},
   "outputs": [
    {
     "name": "stdout",
     "output_type": "stream",
     "text": [
      "The tuple is not a palindrome.\n"
     ]
    }
   ],
   "source": [
    "non_palindrome_tup = (1,2,3,4,5)\n",
    "if is_palindrome_tuple(non_palindrome_tup):\n",
    "    print(\"The tuple is a palindrome.\")\n",
    "else:\n",
    "    print(\"The tuple is not a palindrome.\")"
   ]
  },
  {
   "cell_type": "markdown",
   "id": "1e81930f-3b32-4211-9bc9-0cc57a21f261",
   "metadata": {},
   "source": [
    "34. Create a tuple of squares of numbers from 1 to 5."
   ]
  },
  {
   "cell_type": "code",
   "execution_count": 62,
   "id": "e1495d66-6125-42bc-b96b-1b8accef8cb2",
   "metadata": {
    "tags": []
   },
   "outputs": [
    {
     "name": "stdout",
     "output_type": "stream",
     "text": [
      "(1, 4, 9, 16, 25)\n"
     ]
    }
   ],
   "source": [
    "# Using tuple \n",
    "tup = (1,2,3,4,5)\n",
    "square_tup = tuple(i**2 for i in tup)\n",
    "print(square_tup)"
   ]
  },
  {
   "cell_type": "code",
   "execution_count": 63,
   "id": "b733bb15-1742-447b-832b-e46873fc0639",
   "metadata": {
    "tags": []
   },
   "outputs": [
    {
     "name": "stdout",
     "output_type": "stream",
     "text": [
      "(1, 4, 9, 16, 25)\n"
     ]
    }
   ],
   "source": [
    "# using numbers\n",
    "square_tup = []\n",
    "for i in range(1,6):\n",
    "    j = i**2\n",
    "    square_tup.append(j)\n",
    "square_tup = tuple(square_tup)\n",
    "print(square_tup)"
   ]
  },
  {
   "cell_type": "markdown",
   "id": "e2f3808f-23fd-47d0-aca1-f3e1cbf0fff2",
   "metadata": {},
   "source": [
    "35. Filter out all even numbers from a tuple."
   ]
  },
  {
   "cell_type": "code",
   "execution_count": 64,
   "id": "230fa38b-bb6d-4767-a330-98ae0ef99073",
   "metadata": {
    "tags": []
   },
   "outputs": [
    {
     "name": "stdout",
     "output_type": "stream",
     "text": [
      "Given tuple after removing even numbers is (1, 3, 5, 7, 9)\n"
     ]
    }
   ],
   "source": [
    "def odd_tuple(input_tup):\n",
    "    output_tup = tuple(i for i in input_tup if i%2 != 0)\n",
    "    return output_tup\n",
    "input_tuple = (1,2,3,4,5,6,7,8,9,10)\n",
    "output_tuple = odd_tuple(input_tuple)\n",
    "print(f\"Given tuple after removing even numbers is {output_tuple}\")"
   ]
  },
  {
   "cell_type": "markdown",
   "id": "cefeb7b5-d113-404f-953a-d743cfb57d97",
   "metadata": {},
   "source": [
    "36. Multiply all elements in a tuple by 2."
   ]
  },
  {
   "cell_type": "code",
   "execution_count": 66,
   "id": "d07325c6-429c-4cc0-8b9a-6a93d4021bb1",
   "metadata": {
    "tags": []
   },
   "outputs": [
    {
     "name": "stdout",
     "output_type": "stream",
     "text": [
      "Given tuple after multiplying all numbers by two is (2, 4, 6, 8, 10, 12, 14, 16, 18, 20)\n"
     ]
    }
   ],
   "source": [
    "def multiple_of_two_tuple(input_tup):\n",
    "    output_tup = tuple(i*2 for i in input_tup)\n",
    "    return output_tup\n",
    "input_tuple = (1,2,3,4,5,6,7,8,9,10)\n",
    "output_tuple = multiple_of_two_tuple(input_tuple)\n",
    "print(f\"Given tuple after multiplying all numbers by two is {output_tuple}\")"
   ]
  },
  {
   "cell_type": "markdown",
   "id": "621d7a2b-6c53-4dd6-88d5-e4e0b53a0619",
   "metadata": {},
   "source": [
    "37. Create a tuple of random numbers."
   ]
  },
  {
   "cell_type": "code",
   "execution_count": 68,
   "id": "797c2e91-f57b-4ec5-a871-c4971d491251",
   "metadata": {
    "tags": []
   },
   "outputs": [
    {
     "name": "stdout",
     "output_type": "stream",
     "text": [
      "(41, 84, 1, 78, 64, 66, 75, 88, 66, 41)\n"
     ]
    }
   ],
   "source": [
    "random_tuple = tuple(random.randint(1, 100) for _ in range(10))\n",
    "\n",
    "print(random_tuple)"
   ]
  },
  {
   "cell_type": "markdown",
   "id": "0be68bb2-1369-4be5-80a9-989bd2edab5f",
   "metadata": {},
   "source": [
    "39. Rotate a tuple to the left by `n` positions."
   ]
  },
  {
   "cell_type": "code",
   "execution_count": 69,
   "id": "d5159ab1-2c78-413f-9299-d7265b8de8f3",
   "metadata": {
    "tags": []
   },
   "outputs": [],
   "source": [
    "def rotate_tuple_left(tup, n):\n",
    "    if n < 0:\n",
    "        n = len(tup) + n  \n",
    "    n = n % len(tup)  \n",
    "\n",
    "    return tup[n:] + tup[:n]"
   ]
  },
  {
   "cell_type": "code",
   "execution_count": 82,
   "id": "6b69d8c2-bc3c-4386-8e06-55a04d9039a7",
   "metadata": {
    "tags": []
   },
   "outputs": [
    {
     "name": "stdout",
     "output_type": "stream",
     "text": [
      "Original Tuple: (1, 2, 3, 4, 5, 6, 7, 8, 9, 10)\n",
      "Rotated Tuple: (8, 9, 10, 1, 2, 3, 4, 5, 6, 7)\n"
     ]
    }
   ],
   "source": [
    "original_tuple = (1, 2, 3, 4, 5, 6, 7, 8, 9, 10)\n",
    "rotated_tuple = rotate_tuple_left(original_tuple, 7)\n",
    "\n",
    "print(\"Original Tuple:\", original_tuple)\n",
    "print(\"Rotated Tuple:\", rotated_tuple)"
   ]
  },
  {
   "cell_type": "markdown",
   "id": "453769e1-e0af-4ab4-843d-f5e3ff51a6a4",
   "metadata": {},
   "source": [
    "40. Rotate a tuple to the right by `n` positions."
   ]
  },
  {
   "cell_type": "code",
   "execution_count": 83,
   "id": "5f601168-7ae8-4c15-b003-90b31f220f97",
   "metadata": {
    "tags": []
   },
   "outputs": [],
   "source": [
    "def rotate_tuple_right(tup, n):\n",
    "    if n < 0:\n",
    "        n = len(tup) + n  \n",
    "    n = n % len(tup)  \n",
    "\n",
    "    return tup[-n:] + tup[:-n]"
   ]
  },
  {
   "cell_type": "code",
   "execution_count": 84,
   "id": "68ab3aa7-8a6e-4745-a41f-b0a7492e89f6",
   "metadata": {
    "tags": []
   },
   "outputs": [
    {
     "name": "stdout",
     "output_type": "stream",
     "text": [
      "Original Tuple: (1, 2, 3, 4, 5, 6, 7, 8, 9, 10)\n",
      "Rotated Tuple: (4, 5, 6, 7, 8, 9, 10, 1, 2, 3)\n"
     ]
    }
   ],
   "source": [
    "original_tuple = (1, 2, 3, 4, 5, 6, 7, 8, 9, 10)\n",
    "rotated_tuple = rotate_tuple_right(original_tuple, 7)\n",
    "\n",
    "print(\"Original Tuple:\", original_tuple)\n",
    "print(\"Rotated Tuple:\", rotated_tuple)"
   ]
  },
  {
   "cell_type": "markdown",
   "id": "8abf4693-0e5e-4778-9e2b-f3e24ca8f472",
   "metadata": {},
   "source": [
    "41. Create a tuple of the first 5 Fibonacci numbers."
   ]
  },
  {
   "cell_type": "code",
   "execution_count": 85,
   "id": "7adb66ec-f92a-4753-bc7b-0d7f207c5e00",
   "metadata": {
    "tags": []
   },
   "outputs": [],
   "source": [
    "# We define the same function as we did in the list based problems\n",
    "def fibonacci(n):\n",
    "    fib_sequence = [0, 1]\n",
    "    \n",
    "    while len(fib_sequence) < n:\n",
    "        next_number = fib_sequence[-1] + fib_sequence[-2]\n",
    "        fib_sequence.append(next_number)\n",
    "    \n",
    "    return fib_sequence"
   ]
  },
  {
   "cell_type": "code",
   "execution_count": 90,
   "id": "11d45d4d-3ddb-4338-ac44-04d01775268b",
   "metadata": {
    "tags": []
   },
   "outputs": [
    {
     "name": "stdout",
     "output_type": "stream",
     "text": [
      "The tuple containing first five Fibonacci numbers is: (0, 1, 1, 2, 3)\n"
     ]
    }
   ],
   "source": [
    "fibo_tuple = tuple(fibonacci(5))\n",
    "print(f\"The tuple containing first five Fibonacci numbers is: {fibo_tuple}\")"
   ]
  },
  {
   "cell_type": "markdown",
   "id": "cd419289-c896-462b-a44c-916e8e17acd8",
   "metadata": {},
   "source": [
    "42. Create a tuple from user input."
   ]
  },
  {
   "cell_type": "code",
   "execution_count": 92,
   "id": "2c10b36c-ee12-4a9c-bc5c-edf483f4c5a8",
   "metadata": {
    "tags": []
   },
   "outputs": [
    {
     "name": "stdin",
     "output_type": "stream",
     "text": [
      "Enter the values 123456\n"
     ]
    },
    {
     "data": {
      "text/plain": [
       "('1', '2', '3', '4', '5', '6')"
      ]
     },
     "execution_count": 92,
     "metadata": {},
     "output_type": "execute_result"
    }
   ],
   "source": [
    "values_for_tuple = input(\"Enter the values\")\n",
    "tuple(values_for_tuple)"
   ]
  },
  {
   "cell_type": "markdown",
   "id": "9ef2e2b7-473d-481c-95c3-0813f216573b",
   "metadata": {},
   "source": [
    "* If we want to keep values numbers and strings as they are, we have to define anothe function"
   ]
  },
  {
   "cell_type": "code",
   "execution_count": 94,
   "id": "927af571-2136-4734-a5b8-58c33f5a2f88",
   "metadata": {
    "tags": []
   },
   "outputs": [
    {
     "name": "stdin",
     "output_type": "stream",
     "text": [
      "Enter the values separated by spaces:  1 a 2 b 3 c 4 d 5 e\n"
     ]
    },
    {
     "name": "stdout",
     "output_type": "stream",
     "text": [
      "Resulting tuple: (1, 'a', 2, 'b', 3, 'c', 4, 'd', 5, 'e')\n"
     ]
    }
   ],
   "source": [
    "# Input the values separated by spaces\n",
    "input_values = input(\"Enter the values separated by spaces: \")\n",
    "\n",
    "values = input_values.split()\n",
    "\n",
    "parsed_values = []\n",
    "\n",
    "# Define the function which will handle the necessary exceptions\n",
    "for value in values:\n",
    "    try:\n",
    "        parsed_value = int(value)\n",
    "    except ValueError:\n",
    "        parsed_value = value\n",
    "    parsed_values.append(parsed_value)\n",
    "\n",
    "result_tuple = tuple(parsed_values)\n",
    "\n",
    "print(\"Resulting tuple:\", result_tuple)"
   ]
  },
  {
   "cell_type": "markdown",
   "id": "c8cb978f-eb72-47d3-b71a-c13fc35d54be",
   "metadata": {},
   "source": [
    "43. Swap two elements in a tuple."
   ]
  },
  {
   "cell_type": "code",
   "execution_count": 95,
   "id": "3a5e70a3-26c3-4132-804c-c02718a8f6d6",
   "metadata": {
    "tags": []
   },
   "outputs": [],
   "source": [
    "def swap_elements(tup, index1, index2):\n",
    "    tup_list = list(tup) # Convert the tuple into the list\n",
    "    tup_list[index1], tup_list[index2] = tup_list[index2], tup_list[index1]\n",
    "    swapped_tuple = tuple(tup_list)\n",
    "    return swapped_tuple"
   ]
  },
  {
   "cell_type": "code",
   "execution_count": 96,
   "id": "6cfa7696-adb8-4595-a9bf-166f33b745dd",
   "metadata": {
    "tags": []
   },
   "outputs": [
    {
     "name": "stdout",
     "output_type": "stream",
     "text": [
      "Original Tuple: (1, 2, 3, 4, 5)\n",
      "Swapped elements at index 1 and 3: (1, 4, 3, 2, 5)\n"
     ]
    }
   ],
   "source": [
    "original_tuple = (1, 2, 3, 4, 5)\n",
    "index_to_swap1 = 1\n",
    "index_to_swap2 = 3\n",
    "swapped_tuple = swap_elements(original_tuple, index_to_swap1, index_to_swap2)\n",
    "\n",
    "print(\"Original Tuple:\", original_tuple)\n",
    "print(f\"Swapped elements at index {index_to_swap1} and {index_to_swap2}: {swapped_tuple}\")"
   ]
  },
  {
   "cell_type": "markdown",
   "id": "a492accb-b8f6-45b9-ae65-8efd863aa7fe",
   "metadata": {},
   "source": [
    "44. Reverse the elements of a tuple."
   ]
  },
  {
   "cell_type": "code",
   "execution_count": 97,
   "id": "5a26d2fc-86d6-4e6d-ab38-cafea3049dfd",
   "metadata": {
    "tags": []
   },
   "outputs": [
    {
     "name": "stdout",
     "output_type": "stream",
     "text": [
      "Reverse of the given tuple is: (10, 9, 8, 7, 6, 5, 4, 3, 2, 1)\n"
     ]
    }
   ],
   "source": [
    "tup = (1,2,3,4,5,6,7,8,9,10)\n",
    "rev_tup = tup[::-1]\n",
    "print(\"Reverse of the given tuple is:\", rev_tup)"
   ]
  },
  {
   "cell_type": "markdown",
   "id": "f259f3e7-87d7-4a64-847f-0b78a7434353",
   "metadata": {},
   "source": [
    "45. Create a tuple of the first `n` powers of 2."
   ]
  },
  {
   "cell_type": "code",
   "execution_count": 100,
   "id": "e394ef7f-9efe-4856-99fb-ccfc0fdfbf7c",
   "metadata": {
    "tags": []
   },
   "outputs": [
    {
     "name": "stdout",
     "output_type": "stream",
     "text": [
      "Powers of 2 up to 10 are (2, 4, 8, 16, 32, 64, 128, 256, 512, 1024)\n"
     ]
    }
   ],
   "source": [
    "def powers_of_two(n):\n",
    "    return [2 ** i for i in range(1, n + 1)]\n",
    "\n",
    "n = 10\n",
    "result = tuple(powers_of_two(n))\n",
    "print(f'Powers of 2 up to {n} are', result)"
   ]
  },
  {
   "cell_type": "markdown",
   "id": "040c6530-945e-433c-aaae-f67d31a306b2",
   "metadata": {},
   "source": [
    "46. Find the longest string in a tuple of strings."
   ]
  },
  {
   "cell_type": "code",
   "execution_count": 102,
   "id": "88304ecf-d078-4c5b-913c-cd9cb32dd81c",
   "metadata": {
    "tags": []
   },
   "outputs": [],
   "source": [
    "def longest_string(input_tuple):\n",
    "    max_length = max(len(string) for string in input_tuple)\n",
    "    longest_strings = [string for string in input_tuple if len(string) == max_length]\n",
    "    return  longest_strings, max_length"
   ]
  },
  {
   "cell_type": "code",
   "execution_count": 104,
   "id": "44d24fb2-8a7e-461d-9606-b22aa9a53c1a",
   "metadata": {
    "tags": []
   },
   "outputs": [
    {
     "name": "stdout",
     "output_type": "stream",
     "text": [
      "Longest string(s) in the given tuple is/are ['motherboard', 'Cooling fan'] and its length is 11\n"
     ]
    }
   ],
   "source": [
    "input_tuple = ('keyboard', 'mouse', 'motherboard', 'monitor', 'Cooling fan', 'ICs', 'cpu')\n",
    "longest_strings, max_length = longest_string(input_tuple)\n",
    "print(f\"Longest string(s) in the given tuple is/are {longest_strings} and its/their length is {max_length}\")"
   ]
  },
  {
   "cell_type": "markdown",
   "id": "bb4ac2b8-aafa-440b-a14c-e68c98ce4463",
   "metadata": {},
   "source": [
    "47. Find the shortest string in a tuple of strings."
   ]
  },
  {
   "cell_type": "code",
   "execution_count": 105,
   "id": "0d38e99e-2544-42c3-b21f-1025776ce64b",
   "metadata": {
    "tags": []
   },
   "outputs": [],
   "source": [
    "def shortest_string(input_tuple):\n",
    "    min_length = min(len(string) for string in input_tuple)\n",
    "    shortest_strings = [string for string in input_tuple if len(string) == min_length]\n",
    "    return  shortest_strings, min_length"
   ]
  },
  {
   "cell_type": "code",
   "execution_count": 106,
   "id": "29489798-aa0b-40b9-bf30-a0a0a6de0c89",
   "metadata": {
    "tags": []
   },
   "outputs": [
    {
     "name": "stdout",
     "output_type": "stream",
     "text": [
      "Shortest string(s) in the given tuple is/are ['ICs', 'cpu'] and its/their length is 3\n"
     ]
    }
   ],
   "source": [
    "input_tuple = ('keyboard', 'mouse', 'motherboard', 'monitor', 'Cooling fan', 'ICs', 'cpu')\n",
    "shortest_strings, min_length = shortest_string(input_tuple)\n",
    "print(f\"Shortest string(s) in the given tuple is/are {shortest_strings} and its/their length is {min_length}\")"
   ]
  },
  {
   "cell_type": "markdown",
   "id": "2fe68ff3-164c-4f19-b44c-3bd26b75be91",
   "metadata": {},
   "source": [
    "48. Create a tuple of the first `n` triangular numbers."
   ]
  },
  {
   "cell_type": "code",
   "execution_count": 107,
   "id": "bc9a37c7-5b7f-483e-8d1e-f50cd97875f6",
   "metadata": {
    "tags": []
   },
   "outputs": [
    {
     "name": "stdout",
     "output_type": "stream",
     "text": [
      "The tuple conatining first 10 triangular numbers is: (1, 3, 6, 10, 15, 21, 28, 36, 45, 55)\n"
     ]
    }
   ],
   "source": [
    "# Define the function to create triangular numbers\n",
    "def triangular_num(n):\n",
    "    triangular_numbers = []\n",
    "    for i in range(1, n + 1):\n",
    "        triangular_number = i * (i + 1) // 2\n",
    "        triangular_numbers.append(triangular_number)\n",
    "    return triangular_numbers\n",
    "\n",
    "n = 10 \n",
    "result = tuple(triangular_num(n))\n",
    "print(\"The tuple conatining first\", n, \"triangular numbers is:\", result)"
   ]
  },
  {
   "cell_type": "markdown",
   "id": "d74900a0-65eb-48b5-a0db-ecca7489f084",
   "metadata": {},
   "source": [
    "49. Check if a tuple contains another tuple as a subsequence."
   ]
  },
  {
   "cell_type": "code",
   "execution_count": 109,
   "id": "f5b26998-eba1-4c05-aef2-f46f441fdbbc",
   "metadata": {
    "tags": []
   },
   "outputs": [],
   "source": [
    "def is_subsequence(subtuple, maintuple):\n",
    "    sub_len = len(subtuple)\n",
    "    main_len = len(maintuple)\n",
    "    if sub_len == 0:\n",
    "        return True\n",
    "    if main_len < sub_len:\n",
    "        return False\n",
    "    \n",
    "    sub_index = 0\n",
    "    for element in maintuple:\n",
    "        if element == subtuple[sub_index]:\n",
    "            sub_index += 1\n",
    "            if sub_index == sub_len:\n",
    "                return True\n",
    "    \n",
    "    return False"
   ]
  },
  {
   "cell_type": "code",
   "execution_count": 111,
   "id": "4c40b760-d9e5-4250-8499-162fe4bd732a",
   "metadata": {
    "tags": []
   },
   "outputs": [
    {
     "name": "stdout",
     "output_type": "stream",
     "text": [
      "Given subtuple is a subtuple of the maintuple\n"
     ]
    }
   ],
   "source": [
    "maintuple = (1, 2, 3, 4, 5, 6, 7, 8, 10, 12)\n",
    "subtuple = (2, 4, 6)\n",
    "\n",
    "result = is_subsequence(subtuple, maintuple)\n",
    "if result:\n",
    "    print('Given subtuple is a subtuple of the maintuple')\n",
    "else:\n",
    "    print('Given subtuple is not a subtuple of the maintuple')"
   ]
  },
  {
   "cell_type": "markdown",
   "id": "95af4c9e-2e50-40fa-8945-6e072c7c8f5c",
   "metadata": {},
   "source": [
    "50. Create a tuple of alternating 1s and 0s of length `n`."
   ]
  },
  {
   "cell_type": "code",
   "execution_count": 114,
   "id": "e8d9c534-ac04-4b52-914f-45fc6c61307b",
   "metadata": {
    "tags": []
   },
   "outputs": [
    {
     "name": "stdout",
     "output_type": "stream",
     "text": [
      "(1, 0, 1, 0, 1)\n"
     ]
    }
   ],
   "source": [
    "# We can define by just one line code using list comprehension\n",
    "n = 5\n",
    "tuple_binary = tuple(1 if i%2 == 0 else 0 for i in range(n))\n",
    "print(tuple_binary)"
   ]
  },
  {
   "cell_type": "code",
   "execution_count": null,
   "id": "c717b0f9-1e67-4299-bfb9-f82a4c6d29ad",
   "metadata": {},
   "outputs": [],
   "source": []
  }
 ],
 "metadata": {
  "kernelspec": {
   "display_name": "Python 3 (ipykernel)",
   "language": "python",
   "name": "python3"
  },
  "language_info": {
   "codemirror_mode": {
    "name": "ipython",
    "version": 3
   },
   "file_extension": ".py",
   "mimetype": "text/x-python",
   "name": "python",
   "nbconvert_exporter": "python",
   "pygments_lexer": "ipython3",
   "version": "3.11.5"
  }
 },
 "nbformat": 4,
 "nbformat_minor": 5
}
