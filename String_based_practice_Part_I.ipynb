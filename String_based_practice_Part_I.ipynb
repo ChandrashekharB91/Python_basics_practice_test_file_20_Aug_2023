{
 "cells": [
  {
   "cell_type": "code",
   "execution_count": 20,
   "id": "98ac99fd-a48d-49c7-83e5-a5d8d186cfe0",
   "metadata": {},
   "outputs": [],
   "source": [
    "import numpy as np\n",
    "import re\n",
    "from urllib.parse import urlparse\n",
    "import string\n",
    "import csv\n",
    "from io import StringIO"
   ]
  },
  {
   "cell_type": "markdown",
   "id": "8f1813bb-65f9-4242-b4cd-595d23ad334f",
   "metadata": {},
   "source": [
    "# <span style='color:green'>TOPIC: String Based Assignment Problem</span>"
   ]
  },
  {
   "cell_type": "markdown",
   "id": "65fe0a3b-8d2f-489d-ab54-d9e7bb8ea750",
   "metadata": {},
   "source": [
    "1. Write a program to reverse a string."
   ]
  },
  {
   "cell_type": "code",
   "execution_count": 2,
   "id": "26b39524-d354-45ae-9f7e-dbae9f521169",
   "metadata": {},
   "outputs": [
    {
     "name": "stdin",
     "output_type": "stream",
     "text": [
      "Enter the text  Tableau\n"
     ]
    },
    {
     "name": "stdout",
     "output_type": "stream",
     "text": [
      "reversed text  uaelbaT\n"
     ]
    }
   ],
   "source": [
    "text = str(input('Enter the text '))\n",
    "\n",
    "rev_text = text[::-1]\n",
    "\n",
    "print('reversed text ', rev_text)"
   ]
  },
  {
   "cell_type": "markdown",
   "id": "95db16f7-40a9-4ec0-a966-0ec6536e1482",
   "metadata": {},
   "source": [
    "2. Check if a string is a palindrome."
   ]
  },
  {
   "cell_type": "code",
   "execution_count": 3,
   "id": "4fc7246b-17a4-49d7-a73a-3906706c09e1",
   "metadata": {},
   "outputs": [
    {
     "name": "stdin",
     "output_type": "stream",
     "text": [
      "Enter the text  Civic\n"
     ]
    },
    {
     "name": "stdout",
     "output_type": "stream",
     "text": [
      "The text civic is a palindrome\n"
     ]
    }
   ],
   "source": [
    "text = str(input('Enter the text '))\n",
    "text = text.lower()      # Any text starting with uppercase will also be considered\n",
    "\n",
    "if text == text[::-1]:\n",
    "    print(f'The text {text} is a palindrome')\n",
    "else:\n",
    "    print(f'The text {text} is not a palindrome')"
   ]
  },
  {
   "cell_type": "markdown",
   "id": "d23326e7-18ef-4dd9-9419-3e03240edef5",
   "metadata": {},
   "source": [
    "3. Convert a string to uppercase."
   ]
  },
  {
   "cell_type": "code",
   "execution_count": 4,
   "id": "f4af5c9d-17be-4cc6-b7d3-f7dcd7f8dd3b",
   "metadata": {},
   "outputs": [
    {
     "name": "stdin",
     "output_type": "stream",
     "text": [
      "Enter the string  Jupyter Notebook\n"
     ]
    },
    {
     "name": "stdout",
     "output_type": "stream",
     "text": [
      "uppercase string JUPYTER NOTEBOOK\n"
     ]
    }
   ],
   "source": [
    "string = str(input('Enter the string '))\n",
    "\n",
    "u_string = string.upper()\n",
    "\n",
    "print('uppercase string', u_string)"
   ]
  },
  {
   "cell_type": "markdown",
   "id": "64dd3263-0365-4e8d-9783-d58bf27fd6c7",
   "metadata": {},
   "source": [
    "4. Convert a string to lowercase."
   ]
  },
  {
   "cell_type": "code",
   "execution_count": 5,
   "id": "dd890021-eb21-41fb-aa2a-805c00da596f",
   "metadata": {},
   "outputs": [
    {
     "name": "stdin",
     "output_type": "stream",
     "text": [
      "Enter the string  MAHARASHTRA\n"
     ]
    },
    {
     "name": "stdout",
     "output_type": "stream",
     "text": [
      "lowercase string maharashtra\n"
     ]
    }
   ],
   "source": [
    "string = str(input('Enter the string '))\n",
    "\n",
    "l_string = string.lower()\n",
    "\n",
    "print('lowercase string', l_string)"
   ]
  },
  {
   "cell_type": "markdown",
   "id": "8bc98112-425b-4906-9a63-335f59fcbfec",
   "metadata": {},
   "source": [
    "5. Count the number of vowels in a string."
   ]
  },
  {
   "cell_type": "code",
   "execution_count": 6,
   "id": "3072117a-f737-4502-af46-1b55e8922e36",
   "metadata": {},
   "outputs": [],
   "source": [
    "# We can define a function to count the number of vowels in the given string\n",
    "\n",
    "def count_vowels(text):\n",
    "\n",
    "    text = text.lower()\n",
    "    vowel_list = ['a','e','i','o','u']\n",
    "\n",
    "    vowel_count = 0\n",
    "    \n",
    "    for char in text:\n",
    "        if char in vowel_list:\n",
    "            vowel_count += 1\n",
    "    return vowel_count"
   ]
  },
  {
   "cell_type": "code",
   "execution_count": 7,
   "id": "8ebd6548-0ec6-4e30-bdf2-b54d4c651889",
   "metadata": {},
   "outputs": [
    {
     "name": "stdin",
     "output_type": "stream",
     "text": [
      "Enter the string  I practice daily\n"
     ]
    },
    {
     "name": "stdout",
     "output_type": "stream",
     "text": [
      "The count of vowels in I practice daily is  6\n"
     ]
    }
   ],
   "source": [
    "string = str(input('Enter the string '))\n",
    "vowel_count = count_vowels(string)\n",
    "print(f'The count of vowels in {string} is ', vowel_count)"
   ]
  },
  {
   "cell_type": "markdown",
   "id": "b3d3f5cb-f62e-4bbd-8c85-713899529585",
   "metadata": {},
   "source": [
    "6. Count the number of consonants in a string."
   ]
  },
  {
   "cell_type": "code",
   "execution_count": 8,
   "id": "0713fa1f-9bcb-43d6-90f0-efd4a4f9567d",
   "metadata": {},
   "outputs": [
    {
     "name": "stdin",
     "output_type": "stream",
     "text": [
      "Enter the string  Independent\n"
     ]
    },
    {
     "name": "stdout",
     "output_type": "stream",
     "text": [
      "The count of consonants in the string Independent is  7\n"
     ]
    }
   ],
   "source": [
    "# We can define a function to count the number of consonants in the given string\n",
    "\n",
    "def count_conso(text):\n",
    "\n",
    "    text = text.lower()\n",
    "    vowel_list = ['a','e','i','o','u']\n",
    "\n",
    "    conso_count = 0\n",
    "    \n",
    "    for char in text:\n",
    "        if char not in vowel_list:\n",
    "            conso_count += 1\n",
    "    return conso_count\n",
    "\n",
    "# We can input any string to get the number of consonants\n",
    "\n",
    "string = str(input('Enter the string '))\n",
    "conso_count = count_conso(string)\n",
    "print(f'The count of consonants in the string {string} is ', conso_count)"
   ]
  },
  {
   "cell_type": "markdown",
   "id": "4fd29414-198f-421b-9e27-9addbf694d8c",
   "metadata": {},
   "source": [
    "7. Remove all whitespaces from a string."
   ]
  },
  {
   "cell_type": "code",
   "execution_count": 11,
   "id": "14047c6c-103f-4f7f-b6e9-dcce4ebd4f57",
   "metadata": {},
   "outputs": [
    {
     "name": "stdin",
     "output_type": "stream",
     "text": [
      "Enter the text  '   Tensorflow Library    '\n"
     ]
    },
    {
     "name": "stdout",
     "output_type": "stream",
     "text": [
      "Text after removing all white spaces is:  'TensorflowLibrary'\n"
     ]
    }
   ],
   "source": [
    "text = str(input('Enter the text '))\n",
    "\n",
    "trim_text = text.replace(\" \",\"\")     # replace white space with none\n",
    "\n",
    "print('Text after removing all white spaces is: ', trim_text)"
   ]
  },
  {
   "cell_type": "markdown",
   "id": "b56a5815-03e9-4cff-96fd-87a7d0af101a",
   "metadata": {},
   "source": [
    "8. Find the length of a string without using the `len()` function."
   ]
  },
  {
   "cell_type": "code",
   "execution_count": 12,
   "id": "5e849de4-6eb2-4e26-b684-2eb62484726f",
   "metadata": {},
   "outputs": [
    {
     "name": "stdout",
     "output_type": "stream",
     "text": [
      "Length of given string is  13\n"
     ]
    }
   ],
   "source": [
    "# We can use the index of last character in the string\n",
    "\n",
    "string = 'python coding'\n",
    "len_string = string.index(string[-1]) + 1\n",
    "print('Length of given string is ', len_string)"
   ]
  },
  {
   "cell_type": "code",
   "execution_count": 13,
   "id": "25464e92-f7ca-482d-a553-3d35339cd4d7",
   "metadata": {},
   "outputs": [
    {
     "data": {
      "text/plain": [
       "13"
      ]
     },
     "execution_count": 13,
     "metadata": {},
     "output_type": "execute_result"
    }
   ],
   "source": [
    "# verifying with built-in formula\n",
    "\n",
    "len(string)"
   ]
  },
  {
   "cell_type": "code",
   "execution_count": 14,
   "id": "db278c26-06f6-4ac3-8a40-289cf1c07bc8",
   "metadata": {},
   "outputs": [
    {
     "name": "stdout",
     "output_type": "stream",
     "text": [
      "Length of given string is  13\n"
     ]
    }
   ],
   "source": [
    "# We can also use the following logic\n",
    "string = 'Learn to code'\n",
    "\n",
    "length = 0\n",
    "for _ in string:\n",
    "    length += 1\n",
    "    \n",
    "print('Length of given string is ', length)"
   ]
  },
  {
   "cell_type": "code",
   "execution_count": 15,
   "id": "edb90d12-9fe8-4373-804e-956887558ef1",
   "metadata": {},
   "outputs": [
    {
     "data": {
      "text/plain": [
       "13"
      ]
     },
     "execution_count": 15,
     "metadata": {},
     "output_type": "execute_result"
    }
   ],
   "source": [
    "# Verify with the buil-in function\n",
    "len('Learn to code')"
   ]
  },
  {
   "cell_type": "markdown",
   "id": "9f1e41a3-2f26-4568-8c2e-b47e87130808",
   "metadata": {},
   "source": [
    "9. Check if a string contains a specific word."
   ]
  },
  {
   "cell_type": "code",
   "execution_count": 17,
   "id": "3e0d0faa-ae7d-4722-ac1b-2a818540d6f5",
   "metadata": {},
   "outputs": [
    {
     "name": "stdin",
     "output_type": "stream",
     "text": [
      "Enter the string:  I enjoy coding in python\n"
     ]
    },
    {
     "name": "stdout",
     "output_type": "stream",
     "text": [
      "The word coding is present in the given string\n"
     ]
    }
   ],
   "source": [
    "word = 'coding'\n",
    "string = input('Enter the string: ')\n",
    "\n",
    "if word.lower() in string.lower():\n",
    "    print(f'The word {word} is present in the given string')\n",
    "else:\n",
    "    print(f'The word {word} is not present in the given string')"
   ]
  },
  {
   "cell_type": "code",
   "execution_count": 18,
   "id": "61a46ea0-74fb-445e-82c6-92ecd4ddb954",
   "metadata": {},
   "outputs": [
    {
     "name": "stdin",
     "output_type": "stream",
     "text": [
      "Enter the string:  Jupyter lab is good for writing code in python\n"
     ]
    },
    {
     "name": "stdout",
     "output_type": "stream",
     "text": [
      "The word coding is not present in the given string\n"
     ]
    }
   ],
   "source": [
    "word = 'coding'\n",
    "string = input('Enter the string: ')\n",
    "\n",
    "if word.lower() in string.lower():\n",
    "    print(f'The word {word} is present in the given string')\n",
    "else:\n",
    "    print(f'The word {word} is not present in the given string')"
   ]
  },
  {
   "cell_type": "markdown",
   "id": "a27bedd5-0c78-4726-afe4-ac57d77b9602",
   "metadata": {},
   "source": [
    "10. Replace a word in a string with another word."
   ]
  },
  {
   "cell_type": "code",
   "execution_count": 21,
   "id": "b73fdf2e-888e-45e2-b8dd-5417ed43063c",
   "metadata": {},
   "outputs": [
    {
     "name": "stdout",
     "output_type": "stream",
     "text": [
      "New string is:  Polars is a popular library\n"
     ]
    }
   ],
   "source": [
    "string = 'Pandas is a popular library'\n",
    "\n",
    "# Suppose we want to replace the word pandas with 'Polars'\n",
    "\n",
    "new_string = string.replace('Pandas','Polars')\n",
    "\n",
    "print('New string is: ', new_string)"
   ]
  },
  {
   "cell_type": "markdown",
   "id": "50d742bb-a5d7-4773-805f-826c926c02d4",
   "metadata": {},
   "source": [
    "11. Count the occurrences of a word in a string."
   ]
  },
  {
   "cell_type": "code",
   "execution_count": 23,
   "id": "20aac529-73ad-4067-b466-94effe1fd92b",
   "metadata": {},
   "outputs": [
    {
     "name": "stdin",
     "output_type": "stream",
     "text": [
      "Enter the string  Seaborn is used for visualization. Matplotlib is used for visualization.\n",
      "ENter the word  visualization\n"
     ]
    },
    {
     "name": "stdout",
     "output_type": "stream",
     "text": [
      "The word \"visualization\" appears 2 times in the given string.\n"
     ]
    }
   ],
   "source": [
    "# Input the string and input the word to count\n",
    "\n",
    "string = input('Enter the string ')\n",
    "word = input('ENter the word ')\n",
    "\n",
    "# count the number of occurances of the word\n",
    "string = string.lower()\n",
    "word = word.lower()\n",
    "count_word = string.count(word)\n",
    "\n",
    "print(f'The word \"{word}\" appears {count_word} times in the given string.')"
   ]
  },
  {
   "cell_type": "markdown",
   "id": "fb054886-f9dc-4e5b-859e-0b5b56e41e9c",
   "metadata": {},
   "source": [
    "12. Find the first occurrence of a word in a string."
   ]
  },
  {
   "cell_type": "code",
   "execution_count": 24,
   "id": "c495fb13-5a65-47a5-a0e3-cbd87d335000",
   "metadata": {},
   "outputs": [
    {
     "name": "stdout",
     "output_type": "stream",
     "text": [
      "The substring data found at 18th index\n"
     ]
    }
   ],
   "source": [
    "# We find the first occurances using str.find method\n",
    "\n",
    "string = 'I am working as a data scientist, I perform the data analysis'\n",
    "word = 'data'\n",
    "\n",
    "occurance = string.find(word)\n",
    "\n",
    "print(f'The substring {word} found at {occurance}th index')"
   ]
  },
  {
   "cell_type": "code",
   "execution_count": 25,
   "id": "1a5208b8-bf64-4a41-8a81-bf314cdf1b28",
   "metadata": {},
   "outputs": [
    {
     "data": {
      "text/plain": [
       "18"
      ]
     },
     "execution_count": 25,
     "metadata": {},
     "output_type": "execute_result"
    }
   ],
   "source": [
    "len('I am working as a ')"
   ]
  },
  {
   "cell_type": "code",
   "execution_count": 26,
   "id": "437a886e-30a0-4425-9c0b-d439dac85ff1",
   "metadata": {},
   "outputs": [
    {
     "name": "stdout",
     "output_type": "stream",
     "text": [
      "-1\n"
     ]
    }
   ],
   "source": [
    "word = 'analytics'\n",
    "occurance = string.find(word)\n",
    "print(occurance)"
   ]
  },
  {
   "cell_type": "markdown",
   "id": "d923b90a-c571-47ba-bf4e-42ca59e810cd",
   "metadata": {},
   "source": [
    "* str.find method returns -1 if the word is not found in the string"
   ]
  },
  {
   "cell_type": "markdown",
   "id": "686d49c6-cb50-4b5b-9273-9d052a45b558",
   "metadata": {},
   "source": [
    "13. Find the last occurrence of a word in a string."
   ]
  },
  {
   "cell_type": "code",
   "execution_count": 27,
   "id": "ac21e28c-a533-455b-b531-31ea77b83378",
   "metadata": {},
   "outputs": [
    {
     "name": "stdout",
     "output_type": "stream",
     "text": [
      "The substring data found at 48th index\n"
     ]
    }
   ],
   "source": [
    "# We find the first occurances using str.rfind method\n",
    "\n",
    "string = 'I am working as a data scientist, I perform the data analysis'\n",
    "word = 'data'\n",
    "\n",
    "occurance = string.rfind(word)\n",
    "\n",
    "print(f'The substring {word} found at {occurance}th index')"
   ]
  },
  {
   "cell_type": "code",
   "execution_count": 28,
   "id": "d3c6e4b7-d85e-479b-924c-6ddb67e7dd2d",
   "metadata": {},
   "outputs": [
    {
     "data": {
      "text/plain": [
       "48"
      ]
     },
     "execution_count": 28,
     "metadata": {},
     "output_type": "execute_result"
    }
   ],
   "source": [
    "len('I am working as a data scientist, I perform the ')"
   ]
  },
  {
   "cell_type": "code",
   "execution_count": 29,
   "id": "68084ac8-0e6a-4925-af67-5ddc39718c41",
   "metadata": {},
   "outputs": [
    {
     "name": "stdout",
     "output_type": "stream",
     "text": [
      "-1\n"
     ]
    }
   ],
   "source": [
    "word = 'science'\n",
    "occurance = string.rfind(word)\n",
    "print(occurance)"
   ]
  },
  {
   "cell_type": "markdown",
   "id": "33a36e00-5b5a-4a2e-95b6-82ab24b0a524",
   "metadata": {},
   "source": [
    "* str.rfind method returns -1 if the word is not found in the string"
   ]
  },
  {
   "cell_type": "markdown",
   "id": "59d104ed-5c23-402a-8915-3db94a23488b",
   "metadata": {},
   "source": [
    "14. Split a string into a list of words."
   ]
  },
  {
   "cell_type": "code",
   "execution_count": 32,
   "id": "8901bbf3-7880-4e3f-bd7a-7309d4d56f21",
   "metadata": {},
   "outputs": [
    {
     "name": "stdout",
     "output_type": "stream",
     "text": [
      "['Linear', 'Regression', 'is', 'used', 'for', 'prediction'] are the words in the given string: Linear Regression is used for prediction\n"
     ]
    }
   ],
   "source": [
    "string = 'Linear Regression is used for prediction'\n",
    "\n",
    "words = string.split()\n",
    "\n",
    "print(f'{words} are the words in the given string: {string}')"
   ]
  },
  {
   "cell_type": "code",
   "execution_count": 34,
   "id": "dc0039ee-5a00-40d3-9061-9869e7e50adb",
   "metadata": {},
   "outputs": [
    {
     "data": {
      "text/plain": [
       "'Linear'"
      ]
     },
     "execution_count": 34,
     "metadata": {},
     "output_type": "execute_result"
    }
   ],
   "source": [
    "# string.split() returns the list of words. Since it is a list, we can perform indexing on it.\n",
    "words[0]"
   ]
  },
  {
   "cell_type": "markdown",
   "id": "7a9a0f27-29d9-4b0b-8a51-d73de0c9a2ed",
   "metadata": {},
   "source": [
    "15. Join a list of words into a string."
   ]
  },
  {
   "cell_type": "code",
   "execution_count": 42,
   "id": "2434125e-b2c7-44d5-a521-449e20e2d5f3",
   "metadata": {},
   "outputs": [
    {
     "name": "stdout",
     "output_type": "stream",
     "text": [
      "This code is for joining the words\n"
     ]
    }
   ],
   "source": [
    "words = ['This', 'code', 'is', 'for', 'joining', 'the', 'words']\n",
    "\n",
    "# Define the separator for the words. Here it is single space.\n",
    "sentence = ' '.join(words)\n",
    "print(sentence)"
   ]
  },
  {
   "cell_type": "markdown",
   "id": "1c1f029d-7dae-4d12-89b9-5f69d1677276",
   "metadata": {},
   "source": [
    "16. Convert a string where words are separated by spaces to one where words are separated by underscores."
   ]
  },
  {
   "cell_type": "code",
   "execution_count": 45,
   "id": "a36c689f-1f2a-4d5f-91e2-f154363199e4",
   "metadata": {},
   "outputs": [
    {
     "name": "stdout",
     "output_type": "stream",
     "text": [
      "Sentence joined by underscore is:  Exploratory_data_analysis_is_used_to_get_insigts_from_the_data\n"
     ]
    }
   ],
   "source": [
    "string = 'Exploratory data analysis is used to get insigts from the data'\n",
    "words = string.split()\n",
    "\n",
    "split_sentence = '_'.join(words)\n",
    "\n",
    "print('Sentence joined by underscore is: ', split_sentence)"
   ]
  },
  {
   "cell_type": "markdown",
   "id": "bd655571-15e6-4f9c-ad19-ceef5eedeb1e",
   "metadata": {},
   "source": [
    "17. Check if a string starts with a specific word or phrase."
   ]
  },
  {
   "cell_type": "code",
   "execution_count": 50,
   "id": "b185dbf9-ab5d-4d06-aa52-01a68ba2b059",
   "metadata": {},
   "outputs": [
    {
     "name": "stdin",
     "output_type": "stream",
     "text": [
      "Enter the string  Good books are enjoyable to read\n",
      "Enter the word  good\n"
     ]
    },
    {
     "name": "stdout",
     "output_type": "stream",
     "text": [
      "Given string starts with the word good\n"
     ]
    }
   ],
   "source": [
    "string = str(input('Enter the string '))\n",
    "word_or_phrase = str(input('Enter the word '))\n",
    "\n",
    "# Make entire string and word in lowercase \n",
    "string = string.lower()\n",
    "word_or_phrase = word_or_phrase.lower()\n",
    "\n",
    "if string.startswith(word_or_phrase):\n",
    "    print(f'Given string starts with the word or phrase {word_or_phrase}')\n",
    "else:\n",
    "    print(f'Given string does not start with the word or phrase {word_or_phrase}')"
   ]
  },
  {
   "cell_type": "markdown",
   "id": "83e2451b-326a-4657-be16-47b4ff54c010",
   "metadata": {},
   "source": [
    "18. Check if a string ends with a specific word or phrase."
   ]
  },
  {
   "cell_type": "code",
   "execution_count": 51,
   "id": "6ccc901a-c54e-491d-b67a-3991c9eaf41f",
   "metadata": {},
   "outputs": [
    {
     "name": "stdin",
     "output_type": "stream",
     "text": [
      "Enter the string  This code does not contain any bugs\n",
      "Enter the word  bugs\n"
     ]
    },
    {
     "name": "stdout",
     "output_type": "stream",
     "text": [
      "Given string ends with the word bugs\n"
     ]
    }
   ],
   "source": [
    "string = str(input('Enter the string '))\n",
    "word_or_phrase = str(input('Enter the word '))\n",
    "\n",
    "# Make entire string and word in lowercase \n",
    "string = string.lower()\n",
    "word_or_phrase = word_or_phrase.lower()\n",
    "\n",
    "if string.endswith(word_or_phrase):\n",
    "    print(f'Given string ends with the word or phrase {word_or_phrase}')\n",
    "else:\n",
    "    print(f'Given string does not end with the word or phrase {word_or_phrase}')"
   ]
  },
  {
   "cell_type": "code",
   "execution_count": 56,
   "id": "1d5232ab-d733-40a4-9219-561365c57fc6",
   "metadata": {},
   "outputs": [
    {
     "name": "stdin",
     "output_type": "stream",
     "text": [
      "Enter the string:  Never underestimate the simple truth: knowledge is power.\n",
      "Enter the word:  knowledge is power\n"
     ]
    },
    {
     "name": "stdout",
     "output_type": "stream",
     "text": [
      "Given string ends with the word or phrase \"knowledge is power\".\n"
     ]
    }
   ],
   "source": [
    "input_string = str(input('Enter the string: '))\n",
    "word_or_phrase = str(input('Enter the word: '))\n",
    "\n",
    "# Use rstrip() to remove trailing periods. This ensures '.' to be taken into account.\n",
    "input_string = input_string.lower().rstrip('.')  \n",
    "word_or_phrase = word_or_phrase.lower()\n",
    "\n",
    "if input_string.endswith(word_or_phrase):\n",
    "    print(f'Given string ends with the word or phrase \"{word_or_phrase}\".')\n",
    "else:\n",
    "    print(f'Given string does not end with the word or phrase \"{word_or_phrase}\".')"
   ]
  },
  {
   "cell_type": "markdown",
   "id": "6571ceda-4793-4e6e-9baf-d28194d1a16e",
   "metadata": {},
   "source": [
    "19. Convert a string to title case."
   ]
  },
  {
   "cell_type": "code",
   "execution_count": 58,
   "id": "5c9472ee-652b-4c57-af25-1463eae04661",
   "metadata": {},
   "outputs": [
    {
     "name": "stdin",
     "output_type": "stream",
     "text": [
      "Enter the string:  linear algebra\n"
     ]
    },
    {
     "name": "stdout",
     "output_type": "stream",
     "text": [
      "The string in title case is: Linear Algebra\n"
     ]
    }
   ],
   "source": [
    "input_string = str(input('Enter the string: '))\n",
    "\n",
    "# convert the string to title case\n",
    "title_string = input_string.title()\n",
    "\n",
    "print(f'The string in title case is: {title_string}')"
   ]
  },
  {
   "cell_type": "markdown",
   "id": "79f33e79-a8b3-4f98-b8cb-b2001db0b44a",
   "metadata": {},
   "source": [
    "20. Find the longest word in a string."
   ]
  },
  {
   "cell_type": "code",
   "execution_count": 64,
   "id": "4e476caa-493e-4329-9e57-23d61adfa44a",
   "metadata": {},
   "outputs": [
    {
     "name": "stdin",
     "output_type": "stream",
     "text": [
      "Enter the text:  Mathematics is great subject\n"
     ]
    },
    {
     "name": "stdout",
     "output_type": "stream",
     "text": [
      "The logest word in the string has 11 characters\n"
     ]
    }
   ],
   "source": [
    "string = str(input('Enter the text: '))\n",
    "words = string.split()\n",
    "\n",
    "# Initate an empty list of word lengths\n",
    "word_lengths = []\n",
    "\n",
    "for word in words:\n",
    "    word_lengths.append(len(word))\n",
    "\n",
    "if len(word_lengths) > 0:\n",
    "    max_len = max(word_lengths)\n",
    "    print(f'The logest word in the string has {max_len} characters')\n",
    "else:\n",
    "    print(\"No words found in the input text.\")"
   ]
  },
  {
   "cell_type": "markdown",
   "id": "51ae164a-1c1a-49be-a90f-32ff4cdbdb12",
   "metadata": {},
   "source": [
    "* Alternate approach"
   ]
  },
  {
   "cell_type": "code",
   "execution_count": 66,
   "id": "f6ffc3a9-4622-4794-9e66-d93008cdeeb8",
   "metadata": {},
   "outputs": [
    {
     "name": "stdin",
     "output_type": "stream",
     "text": [
      "Enter the text:  Statistics is required for data analysis\n"
     ]
    },
    {
     "name": "stdout",
     "output_type": "stream",
     "text": [
      "The longest word is: Statistics having 10 characters\n"
     ]
    }
   ],
   "source": [
    "string = str(input('Enter the text: '))\n",
    "words = string.split()\n",
    "\n",
    "# without listing the lengths of all words, use max funtion with 'key' option.\n",
    "if words:\n",
    "    longest_word = max(words, key=len)\n",
    "    print(f\"The longest word is: {longest_word} having {len(longest_word)} characters\")"
   ]
  },
  {
   "cell_type": "markdown",
   "id": "3eb95576-33b3-4a02-a961-ead5f10d463a",
   "metadata": {},
   "source": [
    "21. Find the shortest word in a string."
   ]
  },
  {
   "cell_type": "code",
   "execution_count": 68,
   "id": "c6c5b3bb-f2fc-4702-9419-2c208ce230a6",
   "metadata": {},
   "outputs": [
    {
     "name": "stdin",
     "output_type": "stream",
     "text": [
      "Enter the text:   I am performing inventory ageing analysis\n"
     ]
    },
    {
     "name": "stdout",
     "output_type": "stream",
     "text": [
      "The shortest word is: I having 1 character(s)\n"
     ]
    }
   ],
   "source": [
    "string = str(input('Enter the text: '))\n",
    "words = string.split()\n",
    "\n",
    "# without listing the lengths of all words, use max funtion with 'key' option.\n",
    "if words:\n",
    "    shortest_word = min(words, key=len)\n",
    "    print(f\"The shortest word is: {shortest_word} having {len(shortest_word)} character(s)\")"
   ]
  },
  {
   "cell_type": "markdown",
   "id": "07572f59-2bb6-4fa8-8c8e-90413beaaca7",
   "metadata": {},
   "source": [
    "22. Reverse the order of words in a string."
   ]
  },
  {
   "cell_type": "code",
   "execution_count": 71,
   "id": "414948e9-9e7a-4509-98c4-cbbee2c938b4",
   "metadata": {},
   "outputs": [
    {
     "name": "stdin",
     "output_type": "stream",
     "text": [
      "Enter the text:  I watch movies\n"
     ]
    },
    {
     "name": "stdout",
     "output_type": "stream",
     "text": [
      "Reverse of given string is:  movies watch I\n"
     ]
    }
   ],
   "source": [
    "string = str(input('Enter the text: '))\n",
    "words = string.split()\n",
    "\n",
    "# Reverse the order of words in the string\n",
    "words = words[::-1]\n",
    "rev_sentence = ' '.join(words)\n",
    "print('Reverse of given string is: ', rev_sentence)"
   ]
  },
  {
   "cell_type": "markdown",
   "id": "ed36f435-b076-4e90-99cf-bda36a40659b",
   "metadata": {},
   "source": [
    "23. Check if a string is alphanumeric."
   ]
  },
  {
   "cell_type": "code",
   "execution_count": 76,
   "id": "1736787d-5235-4a56-900f-c995041e4144",
   "metadata": {},
   "outputs": [
    {
     "name": "stdin",
     "output_type": "stream",
     "text": [
      "Enter the string:  2 is the only even prime number\n"
     ]
    },
    {
     "name": "stdout",
     "output_type": "stream",
     "text": [
      "The string contains at least one alphanumeric character.\n"
     ]
    }
   ],
   "source": [
    "input_string = input('Enter the string: ')\n",
    "\n",
    "# Here we input the sentence and check if any word is alphanumeric in the string\n",
    "if any(char.isalnum() for char in input_string):\n",
    "    print('The string contains at least one alphanumeric character.')\n",
    "else:\n",
    "    print('The string does not contain any alphanumeric characters.')"
   ]
  },
  {
   "cell_type": "code",
   "execution_count": 89,
   "id": "d61ce6b8-85ae-46f5-adbf-81c702681d07",
   "metadata": {},
   "outputs": [
    {
     "name": "stdin",
     "output_type": "stream",
     "text": [
      "Enter the string:  My employee id is AA001\n"
     ]
    },
    {
     "name": "stdout",
     "output_type": "stream",
     "text": [
      "The string contains at least one alphanumeric word.\n"
     ]
    }
   ],
   "source": [
    "input_string = input('Enter the string: ')\n",
    "\n",
    "# Here we input the sentence and check if any word is alphanumeric in the string\n",
    "if any(char.isalnum() for char in input_string):\n",
    "    print('The string contains at least one alphanumeric word.')\n",
    "else:\n",
    "    print('The string does not contain any alphanumeric word.')"
   ]
  },
  {
   "cell_type": "code",
   "execution_count": 84,
   "id": "ed225ae9-35a7-4de4-a866-188298f28e44",
   "metadata": {},
   "outputs": [
    {
     "name": "stdin",
     "output_type": "stream",
     "text": [
      "Enter the string:  My employee id is AA001\n"
     ]
    },
    {
     "name": "stdout",
     "output_type": "stream",
     "text": [
      "Alphanumeric word(s) in the string: My, employee, id, is, AA001\n"
     ]
    }
   ],
   "source": [
    "# In case we want to find alphanumeric words in the string\n",
    "import re\n",
    "\n",
    "input_string = input('Enter the string: ')\n",
    "\n",
    "# Use regular expression to find alphanumeric words\n",
    "alphanumeric_words = re.findall(r'\\b\\w+\\b', input_string)\n",
    "\n",
    "# Filter the alphanumeric words\n",
    "alphanums = [word for word in alphanumeric_words if word.isalnum()]\n",
    "\n",
    "if alphanums:\n",
    "    print('Alphanumeric word(s) in the string:', ', '.join(alphanums))\n",
    "else:\n",
    "    print('No alphanumeric words found in the string.')"
   ]
  },
  {
   "cell_type": "code",
   "execution_count": 111,
   "id": "68526f0a-9d17-480a-968b-8e81a31ef5a6",
   "metadata": {},
   "outputs": [],
   "source": [
    "# Function to check string\n",
    "# is alphanumeric or not\n",
    "def isAlphaNumeric(string):\n",
    " \n",
    "    regex = \"^(?=.*[a-zA-Z])(?=.*[0-9])[A-Za-z0-9]+$\"\n",
    " \n",
    "    # Compile the ReGex\n",
    "    p = re.compile(regex)\n",
    " \n",
    "    words = string.split()\n",
    "    for word in words:\n",
    "        if(re.search(p, word)):\n",
    "            return word"
   ]
  },
  {
   "cell_type": "code",
   "execution_count": 112,
   "id": "2da2ecbe-1835-46c6-baef-8d8c5fbcda01",
   "metadata": {},
   "outputs": [
    {
     "name": "stdin",
     "output_type": "stream",
     "text": [
      "Enter the string:  My employee id is AA001\n"
     ]
    },
    {
     "name": "stdout",
     "output_type": "stream",
     "text": [
      "AA001\n"
     ]
    }
   ],
   "source": [
    "string = input('Enter the string: ')\n",
    "str1 = isAlphaNumeric(string)\n",
    "print(str1)"
   ]
  },
  {
   "cell_type": "markdown",
   "id": "d96c142d-f136-486a-ba27-85d2a665bb07",
   "metadata": {},
   "source": [
    "24. Extract all digits from a string."
   ]
  },
  {
   "cell_type": "code",
   "execution_count": 117,
   "id": "dc045060-bce0-42c3-9a77-b11c86d9beea",
   "metadata": {},
   "outputs": [
    {
     "name": "stdin",
     "output_type": "stream",
     "text": [
      "Enter the string:  There are 2 employee with 45.5 k salary \n"
     ]
    },
    {
     "name": "stdout",
     "output_type": "stream",
     "text": [
      "The numbers list is : [2.0]\n"
     ]
    }
   ],
   "source": [
    "# The result can be obtained in another as\n",
    "\n",
    "input_string = input('Enter the string: ')\n",
    "\n",
    "numbers = []\n",
    "x = input_string.split()\n",
    "for i in x:\n",
    "    if i.isnumeric():\n",
    "        numbers.append(float(i))\n",
    "print(\"The numbers list is : \" + str(numbers))"
   ]
  },
  {
   "cell_type": "markdown",
   "id": "62bb7286-62ce-4133-8419-ff1036ce272e",
   "metadata": {},
   "source": [
    "* The above method gives only numbers from 0-9"
   ]
  },
  {
   "cell_type": "code",
   "execution_count": 118,
   "id": "edb3ad97-6318-4212-93d0-00760ee1926a",
   "metadata": {},
   "outputs": [
    {
     "name": "stdin",
     "output_type": "stream",
     "text": [
      "Enter the string:  There are 2 employee with 45.5 k salary\n"
     ]
    },
    {
     "name": "stdout",
     "output_type": "stream",
     "text": [
      "The numbers list is: [2.0, 45.5]\n"
     ]
    }
   ],
   "source": [
    "# We use the regular expressions\n",
    "\n",
    "input_string = input('Enter the string: ')\n",
    "\n",
    "# Use a regular expression to find numbers (including decimal numbers) in the input string\n",
    "numbers = [float(match) for match in re.findall(r'\\d+\\.\\d+|\\d+', input_string)]\n",
    "\n",
    "if numbers:\n",
    "    print(\"The numbers list is:\", numbers)\n",
    "else:\n",
    "    print(\"No numbers found in the string.\")"
   ]
  },
  {
   "cell_type": "code",
   "execution_count": 119,
   "id": "7aedd2e6-af52-446d-87f9-4c90885ffa9e",
   "metadata": {},
   "outputs": [],
   "source": [
    "# def make_alphanumeric_numeric(input_string):\n",
    "#     letter_to_number = {\n",
    "#         'a': '1', 'b': '2', 'c': '3', 'd': '4', 'e': '5',\n",
    "#         'f': '6', 'g': '7', 'h': '8', 'i': '9', 'j': '10',  # You can extend this mapping\n",
    "#     }\n",
    "\n",
    "#     # Use regular expression to find alphanumeric words\n",
    "#     alphanumeric_words = re.findall(r'\\b\\w+\\b', input_string)\n",
    "\n",
    "#     # Iterate through alphanumeric words and replace letters with numbers\n",
    "#     for word in alphanumeric_words:\n",
    "#         numeric_word = ''.join([letter_to_number.get(char.lower(), char) for char in word])\n",
    "#         input_string = input_string.replace(word, numeric_word)\n",
    "\n",
    "#     return input_string\n",
    "\n",
    "# input_string = input('Enter the string: ')\n",
    "# result_string = make_alphanumeric_numeric(input_string)\n",
    "# print('Modified string:', result_string)"
   ]
  },
  {
   "cell_type": "markdown",
   "id": "b7717537-294a-4a58-b764-5dfe0a7fff98",
   "metadata": {},
   "source": [
    "25. Extract all alphabets from a string."
   ]
  },
  {
   "cell_type": "code",
   "execution_count": 121,
   "id": "a5ee37db-699f-4353-940c-b0e327dfec6b",
   "metadata": {},
   "outputs": [
    {
     "name": "stdin",
     "output_type": "stream",
     "text": [
      "Enter a string:  str123\n"
     ]
    },
    {
     "name": "stdout",
     "output_type": "stream",
     "text": [
      "str\n"
     ]
    }
   ],
   "source": [
    "## get the input from the user\n",
    "string = input(\"Enter a string: \")\n",
    "\n",
    "## initializing a new string to append only alphabets\n",
    "only_alpha = \"\"\n",
    "\n",
    "for char in string:\n",
    "    if char.isalpha():\n",
    "        only_alpha += char\n",
    "\n",
    "## printing the string which contains only alphabets\n",
    "print(only_alpha)"
   ]
  },
  {
   "cell_type": "markdown",
   "id": "1eabcb30-a267-464e-939c-d2ac342fca2f",
   "metadata": {},
   "source": [
    "26. Count the number of uppercase letters in a string."
   ]
  },
  {
   "cell_type": "markdown",
   "id": "89963f9f-10c2-4e16-a33a-7e6038755f0c",
   "metadata": {},
   "source": [
    "27. Count the number of lowercase letters in a string."
   ]
  },
  {
   "cell_type": "code",
   "execution_count": 122,
   "id": "7f1407b9-f8da-4e5b-925e-e1c75fcfcb19",
   "metadata": {},
   "outputs": [],
   "source": [
    "# We can summarize multiple cases in one function\n",
    "def Count_letters(string):\n",
    "    upper, lower, number, special = 0, 0, 0, 0\n",
    "    for i in range(len(string)):\n",
    "        if string[i].isupper():\n",
    "            upper += 1\n",
    "        elif string[i].islower():\n",
    "            lower += 1\n",
    "        elif string[i].isdigit():\n",
    "            number += 1\n",
    "        else:\n",
    "            special += 1\n",
    "    print('Upper case letters:', upper)\n",
    "    print('Lower case letters:', lower)\n",
    "    print('Number:', number)\n",
    "    print('Special characters:', special)"
   ]
  },
  {
   "cell_type": "code",
   "execution_count": 123,
   "id": "5f34cfc9-70ed-48e0-9b87-f446f3f0f7fe",
   "metadata": {},
   "outputs": [
    {
     "name": "stdin",
     "output_type": "stream",
     "text": [
      "Enter the string:  ChandraShekhar@1234#\n"
     ]
    },
    {
     "name": "stdout",
     "output_type": "stream",
     "text": [
      "Upper case letters: 2\n",
      "Lower case letters: 12\n",
      "Number: 4\n",
      "Special characters: 2\n"
     ]
    }
   ],
   "source": [
    "string = input('Enter the string: ')\n",
    "char_count = Count_letters(string)"
   ]
  },
  {
   "cell_type": "markdown",
   "id": "70f28c10-ce35-426b-b1b0-861e5fbe2157",
   "metadata": {},
   "source": [
    "28. Swap the case of each character in a string."
   ]
  },
  {
   "cell_type": "code",
   "execution_count": 3,
   "id": "74b31ba5-5311-43b0-8c61-df3f58616299",
   "metadata": {},
   "outputs": [
    {
     "name": "stdin",
     "output_type": "stream",
     "text": [
      "Enter the string:   Chandrashekhar\n"
     ]
    },
    {
     "name": "stdout",
     "output_type": "stream",
     "text": [
      "String with swapped case:  cHANDRASHEKHAR\n"
     ]
    }
   ],
   "source": [
    "# We can achieve this by using built-in function swapcase\n",
    "\n",
    "string = input('Enter the string: ')\n",
    "\n",
    "swapped_string = string.swapcase()\n",
    "\n",
    "print('String with swapped case:', swapped_string)"
   ]
  },
  {
   "cell_type": "markdown",
   "id": "8853643a-3894-459b-ab9d-0a427a29d213",
   "metadata": {},
   "source": [
    "29. Remove a specific word from a string."
   ]
  },
  {
   "cell_type": "code",
   "execution_count": 4,
   "id": "490dabc8-2157-43e9-9cbb-2c007ea18c7a",
   "metadata": {},
   "outputs": [
    {
     "name": "stdout",
     "output_type": "stream",
     "text": [
      " is used for data analysis\n"
     ]
    }
   ],
   "source": [
    "string = 'Python is used for data analysis'\n",
    "\n",
    "new_string = string.replace('Python','')\n",
    "\n",
    "print(new_string)"
   ]
  },
  {
   "cell_type": "markdown",
   "id": "295751b1-bde9-441c-a8c4-f758d3a57851",
   "metadata": {},
   "source": [
    "30. Check if a string is a valid email address."
   ]
  },
  {
   "cell_type": "code",
   "execution_count": 2,
   "id": "0b92ffac-070d-4d90-8570-3cc8e7b0d80b",
   "metadata": {},
   "outputs": [
    {
     "name": "stdin",
     "output_type": "stream",
     "text": [
      "Enter an email address:  cpbagul150@gmail.com\n"
     ]
    },
    {
     "name": "stdout",
     "output_type": "stream",
     "text": [
      "cpbagul150@gmail.com is a valid email address.\n"
     ]
    }
   ],
   "source": [
    "def is_valid_email(email):\n",
    "    # Let us define a regular expression pattern for a valid email address\n",
    "    pattern = r'^[\\w\\.-]+@[\\w\\.-]+\\.\\w+$'\n",
    "\n",
    "    # Use the re.match() function to check if the email matches the pattern\n",
    "    if re.match(pattern, email):\n",
    "        return True\n",
    "    else:\n",
    "        return False\n",
    "    \n",
    "email_address = input('Enter an email address: ')\n",
    "\n",
    "if is_valid_email(email_address):\n",
    "    print(f'{email_address} is a valid email address.')\n",
    "else:\n",
    "    print(f'{email_address} is not a valid email address.')"
   ]
  },
  {
   "cell_type": "code",
   "execution_count": 3,
   "id": "31574486-bc11-40ed-ac07-68d331d2a6e7",
   "metadata": {},
   "outputs": [
    {
     "name": "stdin",
     "output_type": "stream",
     "text": [
      "Enter an email address:  cpbagul\n"
     ]
    },
    {
     "name": "stdout",
     "output_type": "stream",
     "text": [
      "cpbagul is not a valid email address.\n"
     ]
    }
   ],
   "source": [
    "email_address = input('Enter an email address: ')\n",
    "\n",
    "if is_valid_email(email_address):\n",
    "    print(f'{email_address} is a valid email address.')\n",
    "else:\n",
    "    print(f'{email_address} is not a valid email address.')"
   ]
  },
  {
   "cell_type": "code",
   "execution_count": 4,
   "id": "7f7d9ab6-a6b0-45ed-aabb-5034de169e09",
   "metadata": {},
   "outputs": [
    {
     "name": "stdin",
     "output_type": "stream",
     "text": [
      "Enter an email address:  @yahoo.com\n"
     ]
    },
    {
     "name": "stdout",
     "output_type": "stream",
     "text": [
      "@yahoo.com is not a valid email address.\n"
     ]
    }
   ],
   "source": [
    "# More comprehensive regex pattern\n",
    "\n",
    "def is_valid_email1(email):\n",
    "    pattern = r'^[a-zA-Z0-9._%+-]+@[a-zA-Z0-9.-]+\\.[a-zA-Z]{2,}$'\n",
    "    if re.match(pattern, email):\n",
    "        return True\n",
    "    else:\n",
    "        return False\n",
    "    \n",
    "email_address = input('Enter an email address: ')\n",
    "\n",
    "if is_valid_email1(email_address):\n",
    "    print(f'{email_address} is a valid email address.')\n",
    "else:\n",
    "    print(f'{email_address} is not a valid email address.')"
   ]
  },
  {
   "cell_type": "code",
   "execution_count": 6,
   "id": "7acaf378-1b04-4acb-a8a4-c2dc3e1d71de",
   "metadata": {},
   "outputs": [
    {
     "name": "stdin",
     "output_type": "stream",
     "text": [
      "Enter an email address:  chandra@1234\n"
     ]
    },
    {
     "name": "stdout",
     "output_type": "stream",
     "text": [
      "chandra@1234 is not a valid email address.\n"
     ]
    }
   ],
   "source": [
    "email_address = input('Enter an email address: ')\n",
    "\n",
    "if is_valid_email1(email_address):\n",
    "    print(f'{email_address} is a valid email address.')\n",
    "else:\n",
    "    print(f'{email_address} is not a valid email address.')"
   ]
  },
  {
   "cell_type": "markdown",
   "id": "48efb7b2-9d55-47c6-bf33-6a4f84a5152c",
   "metadata": {},
   "source": [
    "32. Extract the domain name from an email address string."
   ]
  },
  {
   "cell_type": "code",
   "execution_count": 10,
   "id": "f7260d39-a22d-457f-acb0-558ec0faca4e",
   "metadata": {},
   "outputs": [
    {
     "name": "stdin",
     "output_type": "stream",
     "text": [
      "Enter an email address:  cpbagul150@gmail.com\n"
     ]
    },
    {
     "name": "stdout",
     "output_type": "stream",
     "text": [
      "cpbagul150@gmail.com is a valid email address.\n",
      "gmail.com is the domain of the given email address\n"
     ]
    }
   ],
   "source": [
    "# Check whether email entered is valid email or not\n",
    "\n",
    "def is_valid_email1(email):\n",
    "    pattern = r'^[a-zA-Z0-9._%+-]+@[a-zA-Z0-9.-]+\\.[a-zA-Z]{2,}$'\n",
    "    if re.match(pattern, email):\n",
    "        return True\n",
    "    else:\n",
    "        return False\n",
    "\n",
    "# Define the function for domain extraction\n",
    "def extract_domain(email):\n",
    "    \n",
    "    parts = email.split('@')\n",
    "    \n",
    "    if len(parts) == 2:\n",
    "        return parts[1]  \n",
    "    else:\n",
    "        return None  \n",
    "\n",
    "email_address = input('Enter an email address: ')\n",
    "domain = extract_domain(email_address)\n",
    "\n",
    "if is_valid_email1(email_address):\n",
    "    print(f'{email_address} is a valid email address.')\n",
    "    print(f'{domain} is the domain of the given email address')\n",
    "else:\n",
    "    print(f'{email_address} is not a valid email address.')"
   ]
  },
  {
   "cell_type": "markdown",
   "id": "2a60399f-b5bb-4bca-ac27-ed83fa617fc3",
   "metadata": {},
   "source": [
    "33. Replace multiple spaces in a string with a single space."
   ]
  },
  {
   "cell_type": "code",
   "execution_count": 13,
   "id": "5d772ecb-9606-4e5e-a0ad-cc1e32b6ab12",
   "metadata": {},
   "outputs": [
    {
     "name": "stdin",
     "output_type": "stream",
     "text": [
      "String with the multiple spaces:  This   is   a     practice\n"
     ]
    },
    {
     "name": "stdout",
     "output_type": "stream",
     "text": [
      "string with single space: This is a practice\n"
     ]
    }
   ],
   "source": [
    "# Using regualr expressions\n",
    "\n",
    "def remove_multiple_spaces(in_string):\n",
    "    # We use re.sub() to replace multiple spaces with a single space\n",
    "    out_string = re.sub(r'\\s+', ' ', in_string)\n",
    "    return out_string\n",
    "in_string = input('String with the multiple spaces: ')\n",
    "out_string = remove_multiple_spaces(in_string)\n",
    "print(f'string with single space: {out_string}')"
   ]
  },
  {
   "cell_type": "code",
   "execution_count": 15,
   "id": "bf98b76a-dac2-4a63-8f96-c3b8ae328c26",
   "metadata": {},
   "outputs": [
    {
     "name": "stdin",
     "output_type": "stream",
     "text": [
      "String with the multiple spaces:   It   is       good   practice     to   keep    coding\n"
     ]
    },
    {
     "name": "stdout",
     "output_type": "stream",
     "text": [
      "string with single space: It is good practice to keep coding\n"
     ]
    }
   ],
   "source": [
    "# With string manipulation\n",
    "\n",
    "def remove_multiple_spaces1(input_string):\n",
    "    words = input_string.split()\n",
    "    output_string = ' '.join(words)\n",
    "    return output_string\n",
    "\n",
    "in_string = input('String with the multiple spaces: ')\n",
    "out_string = remove_multiple_spaces1(in_string)\n",
    "print(f'string with single space: {out_string}')"
   ]
  },
  {
   "cell_type": "markdown",
   "id": "71ce6362-895a-4b63-b440-953e524d08bb",
   "metadata": {},
   "source": [
    "34. Check if a string is a valid URL."
   ]
  },
  {
   "cell_type": "code",
   "execution_count": 17,
   "id": "d80ca088-4756-4183-993f-186eee7aa032",
   "metadata": {},
   "outputs": [],
   "source": [
    "# Define a function for validating a url.\n",
    "def is_valid_url(url):\n",
    "    try:\n",
    "        result = urlparse(url)\n",
    "        return all([result.scheme, result.netloc])\n",
    "    except ValueError:\n",
    "        return False"
   ]
  },
  {
   "cell_type": "code",
   "execution_count": 18,
   "id": "1e30ed50-ffed-4aec-9dc1-e06d959d2be6",
   "metadata": {},
   "outputs": [
    {
     "name": "stdin",
     "output_type": "stream",
     "text": [
      "Enter the url:  http://www.indiangovt.com\n"
     ]
    },
    {
     "name": "stdout",
     "output_type": "stream",
     "text": [
      "The entered url is valid\n"
     ]
    }
   ],
   "source": [
    "url = input('Enter the url: ')\n",
    "if is_valid_url(url):\n",
    "    print('The entered url is valid')\n",
    "else:\n",
    "    print('The entered url is not valid')"
   ]
  },
  {
   "cell_type": "code",
   "execution_count": 19,
   "id": "8c253efe-c03b-48d8-b52d-7de729f2aae0",
   "metadata": {},
   "outputs": [
    {
     "name": "stdin",
     "output_type": "stream",
     "text": [
      "Enter the url:  cpb12435@gmail.com\n"
     ]
    },
    {
     "name": "stdout",
     "output_type": "stream",
     "text": [
      "The entered url is not valid\n"
     ]
    }
   ],
   "source": [
    "url = input('Enter the url: ')\n",
    "if is_valid_url(url):\n",
    "    print('The entered url is valid')\n",
    "else:\n",
    "    print('The entered url is not valid')"
   ]
  },
  {
   "cell_type": "markdown",
   "id": "a881a3a8-06c1-4ce4-9f04-88d9a9b8e2d0",
   "metadata": {},
   "source": [
    "35. Extract the protocol (http or https) from a URL string."
   ]
  },
  {
   "cell_type": "code",
   "execution_count": 20,
   "id": "c7a92ee9-052e-428e-93b3-05e253542bdf",
   "metadata": {},
   "outputs": [],
   "source": [
    "# Define the function to extract protocol \n",
    "\n",
    "def extract_protocol(url):\n",
    "    try:\n",
    "        result = urlparse(url)\n",
    "        if result.scheme:\n",
    "            return result.scheme\n",
    "        else:\n",
    "            return None\n",
    "    except ValueError:\n",
    "        return None"
   ]
  },
  {
   "cell_type": "code",
   "execution_count": 23,
   "id": "d4c2e0f2-b052-48f8-98ce-dd13aa19c284",
   "metadata": {},
   "outputs": [
    {
     "name": "stdout",
     "output_type": "stream",
     "text": [
      "extracted protocol: http\n"
     ]
    }
   ],
   "source": [
    "ext_prot = extract_protocol('http://www.indiangovt.com')\n",
    "print(f'extracted protocol: {ext_prot}')"
   ]
  },
  {
   "cell_type": "markdown",
   "id": "f90eed22-4cee-4849-a8e1-4c54f885d782",
   "metadata": {},
   "source": [
    "36. Find the frequency of each character in a string."
   ]
  },
  {
   "cell_type": "code",
   "execution_count": 33,
   "id": "6d8b94b9-6696-4d39-aa6c-b85616de813c",
   "metadata": {},
   "outputs": [
    {
     "name": "stdout",
     "output_type": "stream",
     "text": [
      "C: 1\n",
      "h: 3\n",
      "a: 3\n",
      "n: 1\n",
      "d: 1\n",
      "r: 2\n",
      "s: 1\n",
      "e: 1\n",
      "k: 1\n"
     ]
    }
   ],
   "source": [
    "# Function to print characters and their frequencies one below the other\n",
    "def print_char_with_freq(string):\n",
    "    # Initialize a dictionary to store character frequencies\n",
    "    char_freq = {}\n",
    "    \n",
    "    \n",
    "    for char in string:\n",
    "       \n",
    "        char_freq[char] = char_freq.get(char, 0) + 1\n",
    "    \n",
    "    # Iterate over the original string to print characters and their frequencies\n",
    "    for char in string:\n",
    "        \n",
    "        if char_freq[char] != 0:\n",
    "            \n",
    "            print(f\"{char}: {char_freq[char]}\")\n",
    "            \n",
    "            char_freq[char] = 0\n",
    "\n",
    "# Running the code as main python script\n",
    "if __name__ == \"__main__\":\n",
    "    input_str = \"Chandrashekhar\"\n",
    "    print_char_with_freq(input_str)"
   ]
  },
  {
   "cell_type": "markdown",
   "id": "bad7c3c1-c097-4763-a327-f924c2532cd5",
   "metadata": {},
   "source": [
    "37. Remove all punctuation from a string."
   ]
  },
  {
   "cell_type": "code",
   "execution_count": 35,
   "id": "10ae9c4d-267c-4b46-89c4-3a2dc3c0ef96",
   "metadata": {},
   "outputs": [],
   "source": [
    "def remove_punctuation(input_string):\n",
    "    # Create a translation table to remove punctuation\n",
    "    translator = str.maketrans('', '', string.punctuation)\n",
    "    \n",
    "    # Use translate method to remove punctuation\n",
    "    clean_string = input_string.translate(translator)\n",
    "    \n",
    "    return clean_string"
   ]
  },
  {
   "cell_type": "code",
   "execution_count": 36,
   "id": "b0b8996c-51f1-40c9-8591-edc5ca59bd21",
   "metadata": {},
   "outputs": [
    {
     "name": "stdout",
     "output_type": "stream",
     "text": [
      "Hello Students How are you doing\n"
     ]
    }
   ],
   "source": [
    "input_string = \"Hello, Students! How are you doing?\"\n",
    "cleaned_string = remove_punctuation(input_string)\n",
    "print(cleaned_string)"
   ]
  },
  {
   "cell_type": "markdown",
   "id": "62f45b87-ad55-4593-ae37-0874a39b7142",
   "metadata": {},
   "source": [
    "38. Check if a string contains only digits."
   ]
  },
  {
   "cell_type": "code",
   "execution_count": 39,
   "id": "373e1bbe-8141-414a-a1cb-3a0d38abf069",
   "metadata": {},
   "outputs": [
    {
     "name": "stdout",
     "output_type": "stream",
     "text": [
      "Digits in the string: 12345\n"
     ]
    }
   ],
   "source": [
    "def print_digits(input_string):\n",
    "    digits = \"\"\n",
    "    for char in input_string:\n",
    "        if char.isdigit():\n",
    "            digits += char\n",
    "    if digits:\n",
    "        print(\"Digits in the string:\", digits)\n",
    "    else:\n",
    "        print(\"No digits found in the string\")\n",
    "\n",
    "input_string = \"Inputtext12345\"\n",
    "print_digits(input_string)"
   ]
  },
  {
   "cell_type": "code",
   "execution_count": 40,
   "id": "21865818-a75d-46a6-a713-02ed2610cac0",
   "metadata": {},
   "outputs": [
    {
     "name": "stdout",
     "output_type": "stream",
     "text": [
      "Alphabets in the string: Jupyter\n"
     ]
    }
   ],
   "source": [
    "def print_alphabets(input_string):\n",
    "    alphabets = \"\"\n",
    "    for char in input_string:\n",
    "        if char.isalpha():\n",
    "            alphabets += char\n",
    "    if alphabets:\n",
    "        print(\"Alphabets in the string:\", alphabets)\n",
    "    else:\n",
    "        print(\"No alphabets found in the string\")\n",
    "\n",
    "# Test the function\n",
    "input_string = \"Jupyter@123456\"\n",
    "print_alphabets(input_string)"
   ]
  },
  {
   "cell_type": "markdown",
   "id": "2ab892a1-7c97-4d24-8178-22ca2ab8250c",
   "metadata": {},
   "source": [
    "40. Convert a string to a list of characters."
   ]
  },
  {
   "cell_type": "code",
   "execution_count": 41,
   "id": "053495c8-3088-4f29-babe-b2c9c7822c26",
   "metadata": {},
   "outputs": [
    {
     "name": "stdout",
     "output_type": "stream",
     "text": [
      "['V', 'S', 'c', 'o', 'd', 'e']\n"
     ]
    }
   ],
   "source": [
    "# Using the list constructor\n",
    "\n",
    "input_string = \"VScode\"\n",
    "char_list = list(input_string)\n",
    "print(char_list)"
   ]
  },
  {
   "cell_type": "code",
   "execution_count": 42,
   "id": "a396a348-6a39-4dd9-b01c-bde566be3570",
   "metadata": {},
   "outputs": [
    {
     "name": "stdout",
     "output_type": "stream",
     "text": [
      "['P', 'y', 'c', 'h', 'a', 'r', 'm']\n"
     ]
    }
   ],
   "source": [
    "# Using for loop\n",
    "\n",
    "input_string = \"Pycharm\"\n",
    "char_list = []\n",
    "for char in input_string:\n",
    "    char_list.append(char)\n",
    "print(char_list)"
   ]
  },
  {
   "cell_type": "markdown",
   "id": "f5cdc937-c758-4611-87bb-8aa311f17735",
   "metadata": {},
   "source": [
    "41. Check if two strings are anagrams."
   ]
  },
  {
   "cell_type": "markdown",
   "id": "822af879-de68-4eff-970f-d7b49a2b4e35",
   "metadata": {},
   "source": [
    "* Two words are said to be anagrams if they contain same set of letters but in different order."
   ]
  },
  {
   "cell_type": "code",
   "execution_count": 45,
   "id": "859950d0-ea00-47de-8a11-010a3640afcc",
   "metadata": {},
   "outputs": [],
   "source": [
    "# Here is the function to cheeck the two words are anagrams or not\n",
    "\n",
    "def are_anagrams(str1, str2):\n",
    "    # Remove spaces and convert to lowercase\n",
    "    str1 = str1.replace(\" \", \"\").lower()\n",
    "    str2 = str2.replace(\" \", \"\").lower()\n",
    "\n",
    "    if len(str1) != len(str2):\n",
    "        return False\n",
    "\n",
    "    char_freq1 = {}\n",
    "    char_freq2 = {}\n",
    "\n",
    "    for char in str1:\n",
    "        char_freq1[char] = char_freq1.get(char, 0) + 1\n",
    "\n",
    "    for char in str2:\n",
    "        char_freq2[char] = char_freq2.get(char, 0) + 1\n",
    "\n",
    "    return char_freq1 == char_freq2"
   ]
  },
  {
   "cell_type": "code",
   "execution_count": 47,
   "id": "ceea1d76-8050-46d1-a4da-87a7b8d70abb",
   "metadata": {},
   "outputs": [
    {
     "name": "stdin",
     "output_type": "stream",
     "text": [
      "Enter string1:  silent\n",
      "Enter string2:  listen\n"
     ]
    },
    {
     "name": "stdout",
     "output_type": "stream",
     "text": [
      "silent & listen are anagrams\n"
     ]
    }
   ],
   "source": [
    "# Test the function\n",
    "string1 = input('Enter string1: ')\n",
    "string2 = input('Enter string2: ')\n",
    "\n",
    "if are_anagrams(string1, string2):\n",
    "    print(f'{string1} & {string2} are anagrams')\n",
    "else:\n",
    "    print(f'{string1} & {string2} are not anagrams')"
   ]
  },
  {
   "cell_type": "code",
   "execution_count": 48,
   "id": "53905ab9-6686-49bd-bac7-5de0809d9c14",
   "metadata": {},
   "outputs": [
    {
     "name": "stdin",
     "output_type": "stream",
     "text": [
      "Enter string1:  Good\n",
      "Enter string2:  Boy\n"
     ]
    },
    {
     "name": "stdout",
     "output_type": "stream",
     "text": [
      "Good & Boy are not anagrams\n"
     ]
    }
   ],
   "source": [
    "string1 = input('Enter string1: ')\n",
    "string2 = input('Enter string2: ')\n",
    "\n",
    "if are_anagrams(string1, string2):\n",
    "    print(f'{string1} & {string2} are anagrams')\n",
    "else:\n",
    "    print(f'{string1} & {string2} are not anagrams')"
   ]
  },
  {
   "cell_type": "markdown",
   "id": "9bf34e98-e928-40af-8404-15b47a88b8e8",
   "metadata": {},
   "source": [
    "42. Encode a string using a Caesar cipher."
   ]
  },
  {
   "cell_type": "code",
   "execution_count": 2,
   "id": "bc309794-fc18-42b1-941f-b38464307eab",
   "metadata": {},
   "outputs": [
    {
     "name": "stdin",
     "output_type": "stream",
     "text": [
      "Enter the text:  pwskills\n"
     ]
    },
    {
     "name": "stdout",
     "output_type": "stream",
     "text": [
      "Encrypted Text: szvnloov\n"
     ]
    }
   ],
   "source": [
    "def caesar_cipher_encrypt(plaintext, shift):\n",
    "    encrypted_text = \"\"\n",
    "    for char in plaintext:\n",
    "        if char.isalpha():  # Check if the character is a letter\n",
    "            is_upper = char.isupper()  # Check if the character is uppercase\n",
    "            char = char.lower()  # Convert to lowercase for easier handling\n",
    "            encrypted_char = chr(((ord(char) - ord('a') + shift) % 26) + ord('a'))\n",
    "            if is_upper:\n",
    "                encrypted_char = encrypted_char.upper()  # Convert back to uppercase if it was uppercase\n",
    "        else:\n",
    "            encrypted_char = char  # Non-alphabetic characters remain unchanged\n",
    "        encrypted_text += encrypted_char\n",
    "    return encrypted_text\n",
    "\n",
    "plaintext = input('Enter the text: ')\n",
    "shift = 3\n",
    "encrypted_text = caesar_cipher_encrypt(plaintext, shift)\n",
    "print(\"Encrypted Text:\", encrypted_text)"
   ]
  },
  {
   "cell_type": "markdown",
   "id": "451664d8-1d8a-49d5-a34f-e4a0158f1922",
   "metadata": {},
   "source": [
    "43. Decode a Caesar cipher encoded string."
   ]
  },
  {
   "cell_type": "code",
   "execution_count": 3,
   "id": "b5dffef5-4742-4de2-8bd3-91fc1cecda52",
   "metadata": {},
   "outputs": [
    {
     "name": "stdin",
     "output_type": "stream",
     "text": [
      "Enter the text:  szvnloov\n"
     ]
    },
    {
     "name": "stdout",
     "output_type": "stream",
     "text": [
      "Decrypted Text: pwskills\n"
     ]
    }
   ],
   "source": [
    "# Define a function for decoding the encoded string.\n",
    "\n",
    "def caesar_cipher_decrypt(ciphertext, shift):\n",
    "    decrypted_text = \"\"\n",
    "    for char in ciphertext:\n",
    "        if char.isalpha():  # Check if the character is a letter\n",
    "            is_upper = char.isupper()  # Check if the character is uppercase\n",
    "            char = char.lower()  # Convert to lowercase for easier handling\n",
    "            decrypted_char = chr(((ord(char) - ord('a') - shift) % 26) + ord('a'))\n",
    "            if is_upper:\n",
    "                decrypted_char = decrypted_char.upper()  # Convert back to uppercase if it was uppercase\n",
    "        else:\n",
    "            decrypted_char = char  # Non-alphabetic characters remain unchanged\n",
    "        decrypted_text += decrypted_char\n",
    "    return decrypted_text\n",
    "\n",
    "ciphertext = input('Enter the text: ')\n",
    "shift = 3\n",
    "decrypted_text = caesar_cipher_decrypt(ciphertext, shift)\n",
    "print(\"Decrypted Text:\", decrypted_text)"
   ]
  },
  {
   "cell_type": "markdown",
   "id": "c725630a-d099-433f-87b2-557618d4aaf9",
   "metadata": {},
   "source": [
    "44. Find the most frequent word in a string."
   ]
  },
  {
   "cell_type": "code",
   "execution_count": 8,
   "id": "ee9a6abd-f7d2-497d-a5b9-80071be66beb",
   "metadata": {},
   "outputs": [
    {
     "name": "stdin",
     "output_type": "stream",
     "text": [
      "Enter the string:  The Earth is beautiful. Earth is suffering from green house gases\n"
     ]
    },
    {
     "name": "stdout",
     "output_type": "stream",
     "text": [
      "The most frequent word is 'earth' with a frequency of 2 times.\n"
     ]
    }
   ],
   "source": [
    "def find_most_frequent_word(string):\n",
    "    # Split the string into words\n",
    "    words = string.split()\n",
    "    \n",
    "    # Initialize a dictionary to store word frequencies\n",
    "    word_freq = {}\n",
    "    \n",
    "    for word in words:\n",
    "        # Remove punctuation and convert to lowercase for consistency\n",
    "        cleaned_word = word.strip('.,!?').lower()\n",
    "        \n",
    "        # Count the frequency of each word\n",
    "        word_freq[cleaned_word] = word_freq.get(cleaned_word, 0) + 1\n",
    "    \n",
    "    # Find the word with the highest frequency\n",
    "    most_frequent_word = max(word_freq, key=word_freq.get)\n",
    "    \n",
    "    return most_frequent_word, word_freq[most_frequent_word]\n",
    "\n",
    "input_string = input('Enter the string: ')\n",
    "most_frequent, frequency = find_most_frequent_word(input_string)\n",
    "print(f\"The most frequent word is '{most_frequent}' with a frequency of {frequency} times.\")"
   ]
  },
  {
   "cell_type": "markdown",
   "id": "8d6f7d11-b9ad-45eb-bd7c-49ac4ff4c448",
   "metadata": {},
   "source": [
    "45. Find all unique words in a string."
   ]
  },
  {
   "cell_type": "code",
   "execution_count": 14,
   "id": "562b1b66-99db-4f94-9664-a5374e59e17c",
   "metadata": {
    "tags": []
   },
   "outputs": [
    {
     "name": "stdin",
     "output_type": "stream",
     "text": [
      "Enter the text:  Coding in python is very simple. Python is used for data analysis\n"
     ]
    },
    {
     "name": "stdout",
     "output_type": "stream",
     "text": [
      "Unique words: \n",
      "data\n",
      "is\n",
      "python\n",
      "for\n",
      "simple.\n",
      "very\n",
      "analysis\n",
      "used\n",
      "in\n",
      "coding\n"
     ]
    }
   ],
   "source": [
    "def unique_words_fn(input_string):\n",
    "    input_string = input_string.lower()\n",
    "    words = input_string.split()\n",
    "    \n",
    "    unique_words = set(words)\n",
    "    \n",
    "    return unique_words\n",
    "\n",
    "input_string = input('Enter the text: ')\n",
    "unique_words = unique_words_fn(input_string)\n",
    "print('Unique words: ')\n",
    "for word in unique_words:\n",
    "    print(word)"
   ]
  },
  {
   "cell_type": "markdown",
   "id": "f16ccd54-2cc2-4656-a8dc-cc3bfb8d418d",
   "metadata": {},
   "source": [
    "46. Count the number of syllables in a string."
   ]
  },
  {
   "cell_type": "code",
   "execution_count": 15,
   "id": "1dd42183-c65b-42d0-8036-6cc7e8a3c851",
   "metadata": {},
   "outputs": [
    {
     "name": "stdout",
     "output_type": "stream",
     "text": [
      "The word 'syllable' has 3 syllables.\n"
     ]
    }
   ],
   "source": [
    "def count_syllables(word):\n",
    "    # Remove non-alphabetic characters and convert to lowercase\n",
    "    word = re.sub(r'[^a-zA-Z]', '', word).lower()\n",
    "    \n",
    "    # Check for common syllable patterns in English words\n",
    "    syllable_count = 0\n",
    "    vowels = \"aeiouy\"\n",
    "    prev_char = \"\"\n",
    "    \n",
    "    for char in word:\n",
    "        if char in vowels and prev_char not in vowels:\n",
    "            syllable_count += 1\n",
    "        prev_char = char\n",
    "    \n",
    "    # Adjust for words ending in \"e\"\n",
    "    if word.endswith(\"e\") and not word.endswith(\"le\"):\n",
    "        syllable_count -= 1\n",
    "    \n",
    "    # Ensure there is at least one syllable\n",
    "    if syllable_count == 0:\n",
    "        syllable_count = 1\n",
    "    \n",
    "    return syllable_count\n",
    "\n",
    "word = \"syllable\"\n",
    "syllables = count_syllables(word)\n",
    "print(f\"The word '{word}' has {syllables} syllables.\")"
   ]
  },
  {
   "cell_type": "code",
   "execution_count": 16,
   "id": "2c11d7ab-dedb-4c68-af1c-baecc35edff0",
   "metadata": {},
   "outputs": [
    {
     "data": {
      "text/plain": [
       "2"
      ]
     },
     "execution_count": 16,
     "metadata": {},
     "output_type": "execute_result"
    }
   ],
   "source": [
    "count_syllables('water')"
   ]
  },
  {
   "cell_type": "code",
   "execution_count": 17,
   "id": "e6ac1995-fc4a-44e3-a3fc-4628a8f50687",
   "metadata": {},
   "outputs": [
    {
     "data": {
      "text/plain": [
       "1"
      ]
     },
     "execution_count": 17,
     "metadata": {},
     "output_type": "execute_result"
    }
   ],
   "source": [
    "count_syllables('India')"
   ]
  },
  {
   "cell_type": "markdown",
   "id": "5130dbf8-faee-401c-be51-81486bc40aca",
   "metadata": {},
   "source": [
    "47. Check if a string contains any special characters."
   ]
  },
  {
   "cell_type": "code",
   "execution_count": 23,
   "id": "9e4609c3-42de-48a7-ae6c-9b5932beac46",
   "metadata": {},
   "outputs": [
    {
     "name": "stdin",
     "output_type": "stream",
     "text": [
      "Enter the text:  cpb@123\n"
     ]
    },
    {
     "name": "stdout",
     "output_type": "stream",
     "text": [
      "The given string contains special characters.\n"
     ]
    }
   ],
   "source": [
    "string = input('Enter the text: ')\n",
    "\n",
    "# Function to check if a character is a special character\n",
    "def is_special_char(char):\n",
    "    return not char.isalnum()\n",
    "\n",
    "# Check if the string contains special characters\n",
    "if any(is_special_char(char) for char in string):\n",
    "    print('The given string contains special characters.')\n",
    "else:\n",
    "    print('The given string does not contain any special characters.')"
   ]
  },
  {
   "cell_type": "code",
   "execution_count": 24,
   "id": "bce0f7c8-0d7d-4df0-a8ec-baa356c5ead2",
   "metadata": {},
   "outputs": [
    {
     "name": "stdin",
     "output_type": "stream",
     "text": [
      "Enter the text:  cpb@1234#%\n"
     ]
    },
    {
     "name": "stdout",
     "output_type": "stream",
     "text": [
      "The given string contains the following special characters:\n",
      "@\n",
      "#\n",
      "%\n"
     ]
    }
   ],
   "source": [
    "string = input('Enter the text: ')\n",
    "\n",
    "# Define a regex pattern to match special characters\n",
    "special_char_pattern = re.compile(r'[!@#$%^&*]')\n",
    "\n",
    "# Find all special characters in the string\n",
    "special_characters = special_char_pattern.findall(string)\n",
    "\n",
    "if special_characters:\n",
    "    print('The given string contains the following special characters:')\n",
    "    for char in special_characters:\n",
    "        print(char)\n",
    "else:\n",
    "    print('The given string does not contain any special characters.')"
   ]
  },
  {
   "cell_type": "markdown",
   "id": "94c4cb51-5e8b-4af3-ada2-59d610785cd4",
   "metadata": {},
   "source": [
    "48. Remove the nth word from a string."
   ]
  },
  {
   "cell_type": "code",
   "execution_count": 10,
   "id": "b10048ed-0583-4258-a50d-c365d2a5970a",
   "metadata": {},
   "outputs": [
    {
     "name": "stdin",
     "output_type": "stream",
     "text": [
      "Enter the string:  I am a good analyst\n"
     ]
    },
    {
     "name": "stdout",
     "output_type": "stream",
     "text": [
      "I am a analyst\n"
     ]
    }
   ],
   "source": [
    "string = input('Enter the string: ')\n",
    "\n",
    "words = string.split()\n",
    "# suppose we want to remove 4th word from the string\n",
    "\n",
    "words.pop(3)\n",
    "\n",
    "new_string = ' '.join(words)\n",
    "\n",
    "print(new_string)"
   ]
  },
  {
   "cell_type": "code",
   "execution_count": 13,
   "id": "8b913f01-2bf9-4753-884c-03b7aa304687",
   "metadata": {},
   "outputs": [],
   "source": [
    "# Using the function\n",
    "\n",
    "def remove_nth_word(input_string, n):\n",
    "    words = input_string.split()\n",
    "\n",
    "    # Check if the specified index is valid\n",
    "    if n < 1 or n > len(words):\n",
    "        return \"Invalid index. No change made.\"\n",
    "\n",
    "    del words[n - 1]\n",
    "\n",
    "    result_string = ' '.join(words)\n",
    "\n",
    "    return result_string"
   ]
  },
  {
   "cell_type": "code",
   "execution_count": 15,
   "id": "279e436c-85ef-418c-a7ca-300bfb3c1d6b",
   "metadata": {},
   "outputs": [
    {
     "name": "stdout",
     "output_type": "stream",
     "text": [
      "Modified String: This is code.\n"
     ]
    }
   ],
   "source": [
    "input_string = \"This is errorless code.\"\n",
    "n = 3\n",
    "result = remove_nth_word(input_string, n)\n",
    "print(\"Modified String:\", result)"
   ]
  },
  {
   "cell_type": "markdown",
   "id": "286ddf7d-9b10-4e2a-90bf-25dc4906014f",
   "metadata": {},
   "source": [
    "49. Insert a word at the nth position in a string."
   ]
  },
  {
   "cell_type": "code",
   "execution_count": 18,
   "id": "2ccf6663-8b75-47f9-ad3f-e518e51a984e",
   "metadata": {},
   "outputs": [],
   "source": [
    "def insert_nth_word(input_string, word_to_insert, n):\n",
    "    words = input_string.split()\n",
    "\n",
    "    # Check if the specified index is valid\n",
    "    if n < 1 or n > len(words) + 1:\n",
    "        return \"Invalid index. No change made.\"\n",
    "\n",
    "    words.insert(n - 1, word_to_insert)  # Adjust for 1-based indexing\n",
    "\n",
    "    result_string = ' '.join(words)\n",
    "\n",
    "    return result_string"
   ]
  },
  {
   "cell_type": "code",
   "execution_count": 19,
   "id": "b3a03614-cd06-413f-b994-a0f88d29070a",
   "metadata": {},
   "outputs": [
    {
     "name": "stdout",
     "output_type": "stream",
     "text": [
      "Modified String: He is my best friend\n"
     ]
    }
   ],
   "source": [
    "input_string = \"He is my friend\"\n",
    "n = 4\n",
    "word_to_insert = 'best'\n",
    "result = insert_nth_word(input_string, word_to_insert, n)\n",
    "print(\"Modified String:\", result)"
   ]
  },
  {
   "cell_type": "markdown",
   "id": "e3f2f074-bf3e-4313-8547-04855166f333",
   "metadata": {},
   "source": [
    "50. Convert a CSV string to a list of lists."
   ]
  },
  {
   "cell_type": "code",
   "execution_count": 25,
   "id": "3b3225c9-76f9-4564-8cca-69459f0b789d",
   "metadata": {},
   "outputs": [
    {
     "data": {
      "text/plain": [
       "[['Name', 'Age', 'Location'],\n",
       " ['Chandra', '32', 'Nashik'],\n",
       " ['Vaishali', '29', 'Pune'],\n",
       " ['Suyash', '25', 'Mumbai'],\n",
       " ['Vivek', '30', 'Dhule']]"
      ]
     },
     "execution_count": 25,
     "metadata": {},
     "output_type": "execute_result"
    }
   ],
   "source": [
    "csv_string = \"\"\"Name,Age,Location\n",
    "Chandra,32,Nashik\n",
    "Vaishali,29,Pune\n",
    "Suyash,25,Mumbai\n",
    "Vivek,30,Dhule\"\"\"\n",
    "\n",
    "# Create a CSV reader object from the CSV string\n",
    "csv_reader = csv.reader(StringIO(csv_string))\n",
    "\n",
    "# Convert the CSV data to a list of lists\n",
    "csv_data = [row for row in csv_reader]\n",
    "csv_data"
   ]
  },
  {
   "cell_type": "code",
   "execution_count": 26,
   "id": "1469cb10-8487-4e22-b3a2-421197546096",
   "metadata": {},
   "outputs": [
    {
     "name": "stdout",
     "output_type": "stream",
     "text": [
      "['Name', 'Age', 'Location']\n",
      "['Chandra', '32', 'Nashik']\n",
      "['Vaishali', '29', 'Pune']\n",
      "['Suyash', '25', 'Mumbai']\n",
      "['Vivek', '30', 'Dhule']\n"
     ]
    }
   ],
   "source": [
    "# If we want to print each row separately\n",
    "for row in csv_data:\n",
    "    print(row)"
   ]
  },
  {
   "cell_type": "markdown",
   "id": "1dc6efcf-b1c1-4729-ab00-1570602d937b",
   "metadata": {},
   "source": [
    "* End of part I"
   ]
  }
 ],
 "metadata": {
  "kernelspec": {
   "display_name": "Python 3 (ipykernel)",
   "language": "python",
   "name": "python3"
  },
  "language_info": {
   "codemirror_mode": {
    "name": "ipython",
    "version": 3
   },
   "file_extension": ".py",
   "mimetype": "text/x-python",
   "name": "python",
   "nbconvert_exporter": "python",
   "pygments_lexer": "ipython3",
   "version": "3.11.5"
  }
 },
 "nbformat": 4,
 "nbformat_minor": 5
}
