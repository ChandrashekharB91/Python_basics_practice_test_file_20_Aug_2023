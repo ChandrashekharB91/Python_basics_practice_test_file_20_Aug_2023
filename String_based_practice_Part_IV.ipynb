{
 "cells": [
  {
   "cell_type": "code",
   "execution_count": 1,
   "id": "7ca8f2ea-0fe7-45f6-928f-2a24fd4e6b2d",
   "metadata": {
    "tags": []
   },
   "outputs": [],
   "source": [
    "import numpy as np\n",
    "import math\n",
    "from collections import Counter\n",
    "import random"
   ]
  },
  {
   "cell_type": "markdown",
   "id": "50668196-3535-4c0c-8b0a-dec06153628c",
   "metadata": {},
   "source": [
    "# <span style='color:green'>Set Based Practice Problems</span>"
   ]
  },
  {
   "cell_type": "markdown",
   "id": "65c98023-8790-4a54-bdfd-24f8972987aa",
   "metadata": {},
   "source": [
    "1. Create a set with integers from 1 to 5."
   ]
  },
  {
   "cell_type": "code",
   "execution_count": 2,
   "id": "e48ad6dd-a71f-4624-a7f3-351f1958f594",
   "metadata": {
    "tags": []
   },
   "outputs": [
    {
     "name": "stdout",
     "output_type": "stream",
     "text": [
      "set of numbers from 1 to 5 is: set_1_to_5 = {1, 2, 3, 4, 5}\n"
     ]
    }
   ],
   "source": [
    "# We can create a list of n numbers. This way we create bigger list as per requirement\n",
    "n = 5\n",
    "data = {}\n",
    "key = f'set_1_to_{n}' # Naming the list dynamically\n",
    "data[key] = set(i for i in range(1, n+1))\n",
    "print(\"set of numbers from 1 to 5 is:\", str(key) + ' = ' + str(data[key]))"
   ]
  },
  {
   "cell_type": "markdown",
   "id": "68d52c7c-4afb-4bb5-b22a-647a768d2441",
   "metadata": {},
   "source": [
    "2. Add an element to a set."
   ]
  },
  {
   "cell_type": "code",
   "execution_count": 3,
   "id": "3e00ca43-9a4e-4b35-965d-18de4640f320",
   "metadata": {
    "tags": []
   },
   "outputs": [
    {
     "name": "stdout",
     "output_type": "stream",
     "text": [
      "Set after adding the required element is: {'b', 'a', 'e', 'd', 'c'}\n"
     ]
    }
   ],
   "source": [
    "element_to_add = 'a'\n",
    "set1 = {'b', 'c', 'd', 'e'}\n",
    "set1.add(element_to_add)\n",
    "\n",
    "print(f'Set after adding the required element is: {set1}')"
   ]
  },
  {
   "cell_type": "markdown",
   "id": "f6af2e0f-2aab-49ad-97cf-b423d2200f7b",
   "metadata": {},
   "source": [
    "3. Remove an element from a set."
   ]
  },
  {
   "cell_type": "code",
   "execution_count": 4,
   "id": "fa09a7c0-1aa4-45f1-ac98-5141fa8e8042",
   "metadata": {
    "tags": []
   },
   "outputs": [
    {
     "name": "stdout",
     "output_type": "stream",
     "text": [
      "Set after adding the required element is: {'e', 'f', 'd', 'b', 'g', 'c'}\n"
     ]
    }
   ],
   "source": [
    "element_to_remove = 'a'\n",
    "set1 = {'b', 'c', 'd', 'e', 'a', 'f', 'g'}\n",
    "set1.remove(element_to_remove)\n",
    "\n",
    "print(f'Set after adding the required element is: {set1}')"
   ]
  },
  {
   "cell_type": "markdown",
   "id": "d1ffb90b-c0b6-4853-b956-2675ef4e50b9",
   "metadata": {},
   "source": [
    "4. Check if an element exists in a set."
   ]
  },
  {
   "cell_type": "code",
   "execution_count": 5,
   "id": "40a8beaf-4eb7-4ca4-aaf2-b72ee7e87460",
   "metadata": {
    "tags": []
   },
   "outputs": [
    {
     "name": "stdout",
     "output_type": "stream",
     "text": [
      "a exists in the given set\n",
      "None\n"
     ]
    }
   ],
   "source": [
    "def is_element(input_element, input_set):\n",
    "    for elt in input_set:\n",
    "        if elt == input_element:\n",
    "            print(f'{elt} exists in the given set')\n",
    "    \n",
    "input_element = 'a'\n",
    "input_set = {'a','b','c','d'}\n",
    "result = is_element(input_element, input_set)\n",
    "print(result)"
   ]
  },
  {
   "cell_type": "code",
   "execution_count": 6,
   "id": "27a6868a-09d0-4a57-ab27-e5b84de21230",
   "metadata": {
    "tags": []
   },
   "outputs": [
    {
     "name": "stdout",
     "output_type": "stream",
     "text": [
      "The element 'a' exists in the given set\n"
     ]
    }
   ],
   "source": [
    "def is_element(input_element, input_set):\n",
    "    for elt in input_set:\n",
    "        if elt == input_element:\n",
    "            return True\n",
    "    return False\n",
    "\n",
    "input_element = 'a'\n",
    "input_set = {'a', 'b', 'c', 'd'}\n",
    "if is_element(input_element, input_set):\n",
    "    print(f\"The element '{input_element}' exists in the given set\")\n",
    "else:\n",
    "    print(f\"The element '{input_element}' does not exist in the given set\")"
   ]
  },
  {
   "cell_type": "code",
   "execution_count": 7,
   "id": "3efe1b6e-1591-4096-bd9a-248f60eebcc9",
   "metadata": {
    "tags": []
   },
   "outputs": [
    {
     "name": "stdout",
     "output_type": "stream",
     "text": [
      "The element 'a' exists in the given set\n"
     ]
    }
   ],
   "source": [
    "# We can define more precise function as following\n",
    "def is_element(input_element, input_set):\n",
    "    return input_element in input_set\n",
    "\n",
    "input_element = 'a'\n",
    "input_set = {'a', 'b', 'c', 'd'}\n",
    "if is_element(input_element, input_set):\n",
    "    print(f\"The element '{input_element}' exists in the given set\")\n",
    "else:\n",
    "    print(f\"The element '{input_element}' does not exist in the given set\")"
   ]
  },
  {
   "cell_type": "markdown",
   "id": "9bcb28e2-481f-4e52-9163-58411b4b0c40",
   "metadata": {},
   "source": [
    "5. Find the length of a set without using the `len()` function."
   ]
  },
  {
   "cell_type": "code",
   "execution_count": 8,
   "id": "f3940c89-6d8a-4f1a-b8ce-265ba112c7e8",
   "metadata": {
    "tags": []
   },
   "outputs": [
    {
     "name": "stdout",
     "output_type": "stream",
     "text": [
      "Length of given set is 8\n"
     ]
    }
   ],
   "source": [
    "set1 = {1,2,3,4,5,5,10,11,12}\n",
    "\n",
    "len_set1 = list(set1).index(list(set1)[-1]) + 1\n",
    "print(f'Length of given set is {len_set1}')"
   ]
  },
  {
   "cell_type": "code",
   "execution_count": 9,
   "id": "90af1d9b-17eb-4c92-aaa8-3d058427254f",
   "metadata": {
    "tags": []
   },
   "outputs": [
    {
     "data": {
      "text/plain": [
       "8"
      ]
     },
     "execution_count": 9,
     "metadata": {},
     "output_type": "execute_result"
    }
   ],
   "source": [
    "len(set1)"
   ]
  },
  {
   "cell_type": "code",
   "execution_count": 10,
   "id": "61c53b00-7dc3-4356-a9fe-fac65052d891",
   "metadata": {
    "tags": []
   },
   "outputs": [
    {
     "name": "stdout",
     "output_type": "stream",
     "text": [
      "Length of the given set is 8\n"
     ]
    }
   ],
   "source": [
    "# Another way\n",
    "set1 = {1, 2, 3, 4, 5, 5, 10, 11, 12}\n",
    "\n",
    "count = 0\n",
    "for _ in set1:\n",
    "    count += 1\n",
    "\n",
    "print(f'Length of the given set is {count}')"
   ]
  },
  {
   "cell_type": "markdown",
   "id": "bd7cf0bb-b902-47da-905a-338d755aa291",
   "metadata": {},
   "source": [
    "6. Clear all elements from a set."
   ]
  },
  {
   "cell_type": "code",
   "execution_count": 11,
   "id": "f3e047ce-ab28-4787-ba76-0cebf66595a9",
   "metadata": {
    "tags": []
   },
   "outputs": [
    {
     "name": "stdout",
     "output_type": "stream",
     "text": [
      "Set after clearing: set()\n"
     ]
    }
   ],
   "source": [
    "set1 = {1, 2, 3, 4, 5, 5, 10, 11, 12}\n",
    "set1.clear()\n",
    "\n",
    "print(\"Set after clearing:\", set1)"
   ]
  },
  {
   "cell_type": "markdown",
   "id": "b5314050-bc3d-4cce-969a-35abff515f07",
   "metadata": {},
   "source": [
    "7. Create a set of even numbers from 1 to 10."
   ]
  },
  {
   "cell_type": "code",
   "execution_count": 12,
   "id": "79d473bf-5644-4cd0-a78f-eacfe3f37e47",
   "metadata": {
    "tags": []
   },
   "outputs": [
    {
     "name": "stdout",
     "output_type": "stream",
     "text": [
      "The set of even numbers from 1 to 10 is: {2, 4, 6, 8, 10}\n"
     ]
    }
   ],
   "source": [
    "n = 10 \n",
    "even_set = set(i for i in range(1, n + 1) if i%2 == 0)\n",
    "print(f\"The set of even numbers from 1 to {n} is:\", even_set)"
   ]
  },
  {
   "cell_type": "markdown",
   "id": "a1df43b1-93e5-41e2-a4ab-43e3690b4223",
   "metadata": {},
   "source": [
    "8. Create a set of odd numbers from 1 to 10."
   ]
  },
  {
   "cell_type": "code",
   "execution_count": 13,
   "id": "d332b7fb-31a4-4e55-acd8-ff769ab3d7c7",
   "metadata": {
    "tags": []
   },
   "outputs": [
    {
     "name": "stdout",
     "output_type": "stream",
     "text": [
      "The set of odd numbers from 1 to 10 is: {1, 3, 5, 7, 9}\n"
     ]
    }
   ],
   "source": [
    "n = 10 \n",
    "odd_set = set(i for i in range(1, n + 1) if i%2 == 1)\n",
    "print(f\"The set of odd numbers from 1 to {n} is:\", odd_set)"
   ]
  },
  {
   "cell_type": "markdown",
   "id": "aa21b50f-8600-442d-8a68-0061b8156ce2",
   "metadata": {},
   "source": [
    "9. Find the union of two sets."
   ]
  },
  {
   "cell_type": "code",
   "execution_count": 14,
   "id": "85f47e5f-7075-446b-8b82-19065d999362",
   "metadata": {
    "tags": []
   },
   "outputs": [
    {
     "name": "stdout",
     "output_type": "stream",
     "text": [
      "The union of set1 and set2 is: {1, 2, 3, 4, 5, 6, 7, 8, 9, 10, 11, 12, 13}\n"
     ]
    }
   ],
   "source": [
    "set1 = {1,2,3,4,5,6,7,8,9,10}\n",
    "set2 = {8,9,10,11,12,13}\n",
    "union_set = set1.union(set2)\n",
    "print(\"The union of set1 and set2 is:\", union_set)"
   ]
  },
  {
   "cell_type": "markdown",
   "id": "d260a0da-9508-48f1-94c1-1bff05d7254b",
   "metadata": {},
   "source": [
    "10. Find the intersection of two sets."
   ]
  },
  {
   "cell_type": "code",
   "execution_count": 15,
   "id": "a12424bd-99a9-42ac-928e-b3c488d227bd",
   "metadata": {
    "tags": []
   },
   "outputs": [
    {
     "name": "stdout",
     "output_type": "stream",
     "text": [
      "The intersection of set1 and set2 is: {8, 9, 10}\n"
     ]
    }
   ],
   "source": [
    "set1 = {1,2,3,4,5,6,7,8,9,10}\n",
    "set2 = {8,9,10,11,12,13}\n",
    "intersection_set = set1.intersection(set2)\n",
    "print(\"The intersection of set1 and set2 is:\", intersection_set)"
   ]
  },
  {
   "cell_type": "markdown",
   "id": "e7a59bda-43f2-404f-971a-ff0b4f082dda",
   "metadata": {},
   "source": [
    "11. Find the difference between two sets."
   ]
  },
  {
   "cell_type": "code",
   "execution_count": 16,
   "id": "ca99f230-e205-422f-9b19-45b7db3a7935",
   "metadata": {
    "tags": []
   },
   "outputs": [
    {
     "name": "stdout",
     "output_type": "stream",
     "text": [
      "Difference of set1 and set2 is: {1, 2, 3, 4, 5, 6, 7}\n"
     ]
    }
   ],
   "source": [
    "diff_set = set1.difference(set2)\n",
    "print(\"Difference of set1 and set2 is:\", diff_set)"
   ]
  },
  {
   "cell_type": "markdown",
   "id": "6f006d59-566e-43b8-90bf-5b2cc349d644",
   "metadata": {},
   "source": [
    "12. Check if a set is a subset of another set."
   ]
  },
  {
   "cell_type": "code",
   "execution_count": 17,
   "id": "b4ee6fef-763c-412c-ab90-664a21b4cc03",
   "metadata": {
    "tags": []
   },
   "outputs": [
    {
     "name": "stdout",
     "output_type": "stream",
     "text": [
      "set1 is a subset of set2\n"
     ]
    }
   ],
   "source": [
    "# Python has built-in function for checking subset\n",
    "set1 = {1, 2, 3}\n",
    "set2 = {1, 2, 3, 4, 5, 6}\n",
    "\n",
    "is_subset = set1.issubset(set2)\n",
    "\n",
    "if is_subset:\n",
    "    print(\"set1 is a subset of set2\")\n",
    "else:\n",
    "    print(\"set1 is not a subset of set2\")"
   ]
  },
  {
   "cell_type": "markdown",
   "id": "ad8df77f-8463-4dc5-9c01-9b34503f2fec",
   "metadata": {},
   "source": [
    "13. Check if a set is a superset of another set."
   ]
  },
  {
   "cell_type": "code",
   "execution_count": 2,
   "id": "fe3dc7d0-c890-4c4d-8471-590fd34465d4",
   "metadata": {
    "tags": []
   },
   "outputs": [
    {
     "name": "stdout",
     "output_type": "stream",
     "text": [
      "Set1 is a superset of set2\n"
     ]
    }
   ],
   "source": [
    "set1 = {1, 2, 3, 4, 5, 6}\n",
    "set2 = {1, 2, 3}\n",
    "\n",
    "is_superset = set1.issuperset(set2)\n",
    "\n",
    "if is_superset:\n",
    "    print(\"Set1 is a superset of set2\")\n",
    "else:\n",
    "    print(\"Set1 is not a superset of set2\")"
   ]
  },
  {
   "cell_type": "markdown",
   "id": "49801ecc-cab7-4902-aba2-2e9ee9433e27",
   "metadata": {},
   "source": [
    "14. Create a set from a list."
   ]
  },
  {
   "cell_type": "code",
   "execution_count": 3,
   "id": "2b67d5d1-3575-4e99-9bd4-cadb8c6ccef7",
   "metadata": {},
   "outputs": [
    {
     "name": "stdout",
     "output_type": "stream",
     "text": [
      "The set from the given list is {1, 2, 3, 4, 5, 6}\n"
     ]
    }
   ],
   "source": [
    "list1 = [1,2,3,4,5]\n",
    "set1 = set(set1)\n",
    "print(f\"The set from the given list is {set1}\")"
   ]
  },
  {
   "cell_type": "markdown",
   "id": "c37242a0-d7f4-4816-bb07-03e514bd5d2c",
   "metadata": {},
   "source": [
    "15. Convert a set to a list."
   ]
  },
  {
   "cell_type": "code",
   "execution_count": 4,
   "id": "f42fabd3-12f3-4818-8601-a90f459a75e9",
   "metadata": {},
   "outputs": [
    {
     "name": "stdout",
     "output_type": "stream",
     "text": [
      "The list from the given set is [1, 2, 3, 4, 5, 6]\n"
     ]
    }
   ],
   "source": [
    "set1 = {1,2,3,4,5,6}\n",
    "list1 = list(set1)\n",
    "print(f\"The list from the given set is {list1}\")"
   ]
  },
  {
   "cell_type": "markdown",
   "id": "d7371016-f08f-4dbf-be38-d112bb36138e",
   "metadata": {},
   "source": [
    "16. Remove a random element from a set."
   ]
  },
  {
   "cell_type": "code",
   "execution_count": 6,
   "id": "d0f6b4d3-7a0a-4a05-bb3e-5e62f9a84a4f",
   "metadata": {},
   "outputs": [
    {
     "name": "stdout",
     "output_type": "stream",
     "text": [
      "Removed element from the set is 1\n",
      "The set after removing the element is {100, 4, 150, 200, 350}\n"
     ]
    }
   ],
   "source": [
    "set1 = {1,200,350,4,100,150}\n",
    "random_element = set1.pop()\n",
    "print(f\"Removed element from the set is {random_element}\")\n",
    "print(f\"The set after removing the element is {set1}\")"
   ]
  },
  {
   "cell_type": "code",
   "execution_count": 7,
   "id": "fbd69f85-e7ad-451e-9be6-e32294e29140",
   "metadata": {
    "tags": []
   },
   "outputs": [],
   "source": [
    "# We can also use remove method for this purpose\n",
    "set1.remove(100)"
   ]
  },
  {
   "cell_type": "code",
   "execution_count": 8,
   "id": "b9b91d93-ea6a-4f37-b96b-ae4a0372ecc6",
   "metadata": {
    "tags": []
   },
   "outputs": [
    {
     "data": {
      "text/plain": [
       "{4, 150, 200, 350}"
      ]
     },
     "execution_count": 8,
     "metadata": {},
     "output_type": "execute_result"
    }
   ],
   "source": [
    "set1"
   ]
  },
  {
   "cell_type": "markdown",
   "id": "5698c704-c4f6-49bb-9e30-133167062e3c",
   "metadata": {},
   "source": [
    "17. Pop an element from a set."
   ]
  },
  {
   "cell_type": "code",
   "execution_count": 10,
   "id": "a2523c4c-14ba-460e-8138-ee920fae85e6",
   "metadata": {},
   "outputs": [
    {
     "data": {
      "text/plain": [
       "{10, 20, 30, 40}"
      ]
     },
     "execution_count": 10,
     "metadata": {},
     "output_type": "execute_result"
    }
   ],
   "source": [
    "set2 = {10, 20, 30, 40, 50}\n",
    "set2.pop()\n",
    "set2"
   ]
  },
  {
   "cell_type": "markdown",
   "id": "4ca15747-29b5-446a-8d4f-2bb6f465c635",
   "metadata": {},
   "source": [
    "18. Check if two sets have no elements in common."
   ]
  },
  {
   "cell_type": "code",
   "execution_count": 12,
   "id": "b36162bb-9f53-4a39-9a21-508695c26570",
   "metadata": {},
   "outputs": [
    {
     "name": "stdout",
     "output_type": "stream",
     "text": [
      "The set of intersection of two given sets is: {1, 3, 5, 7}\n"
     ]
    }
   ],
   "source": [
    "# Using len function \n",
    "set1 = {1,2,3,4,5,6,7}\n",
    "set2 = {1,3,5,7,11,13,17}\n",
    "\n",
    "int_set = set1.intersection(set2)\n",
    "if len(int_set) == 0:\n",
    "    print(\"The two sets are disjoint\")\n",
    "else:\n",
    "    print(\"The set of intersection of two given sets is:\", int_set)"
   ]
  },
  {
   "cell_type": "code",
   "execution_count": 14,
   "id": "85925362-1155-4a27-8937-0cef3ab616bf",
   "metadata": {},
   "outputs": [
    {
     "name": "stdout",
     "output_type": "stream",
     "text": [
      "The set of intersection of two given sets is: {1, 3, 5, 7}\n"
     ]
    }
   ],
   "source": [
    "# Using is disjoint function\n",
    "set1 = {1, 2, 3, 4, 5, 6, 7}\n",
    "set2 = {1, 3, 5, 7, 11, 13, 17}\n",
    "\n",
    "if set1.isdisjoint(set2):\n",
    "    print(\"The two sets are disjoint\")\n",
    "else:\n",
    "    common_elements = set1.intersection(set2)\n",
    "    print(\"The set of intersection of two given sets is:\", common_elements)"
   ]
  },
  {
   "cell_type": "markdown",
   "id": "edb98211-ae00-46e2-8a2e-d7f3857a2854",
   "metadata": {},
   "source": [
    "19. Find the symmetric difference between two sets."
   ]
  },
  {
   "cell_type": "markdown",
   "id": "acd6fbd4-5c07-48a0-8e7e-d3b6e722a73e",
   "metadata": {},
   "source": [
    "* The symmetric difference of set1 and set2 is (set1 - set2) union (set2 - set1)"
   ]
  },
  {
   "cell_type": "code",
   "execution_count": 16,
   "id": "7923dec0-a862-4c45-9772-0d05e8794a80",
   "metadata": {
    "tags": []
   },
   "outputs": [
    {
     "name": "stdout",
     "output_type": "stream",
     "text": [
      "The symmetric difference of the two given sets is: {17, 2, 4, 6, 11, 13}\n"
     ]
    }
   ],
   "source": [
    "# Manually finding the symmetric difference\n",
    "set1 = {1, 2, 3, 4, 5, 6, 7}\n",
    "set2 = {1, 3, 5, 7, 11, 13, 17}\n",
    "\n",
    "symm_difference = (set1 - set2).union(set2 - set1)\n",
    "print(f\"The symmetric difference of the two given sets is: {symm_difference}\")"
   ]
  },
  {
   "cell_type": "code",
   "execution_count": 18,
   "id": "651acef7-53e4-4181-b6c1-2e643a671869",
   "metadata": {
    "tags": []
   },
   "outputs": [
    {
     "name": "stdout",
     "output_type": "stream",
     "text": [
      "The symmetric difference of the two given sets is: {2, 4, 6, 11, 13, 17}\n"
     ]
    }
   ],
   "source": [
    "# Using python's built-in symmetric_difference function\n",
    "set1 = {1, 2, 3, 4, 5, 6, 7}\n",
    "set2 = {1, 3, 5, 7, 11, 13, 17}\n",
    "\n",
    "symm_difference = set1.symmetric_difference(set2)\n",
    "print(f\"The symmetric difference of the two given sets is: {symm_difference}\")"
   ]
  },
  {
   "cell_type": "markdown",
   "id": "672d0608-8df7-48be-ada4-2195290465d3",
   "metadata": {},
   "source": [
    "20. Update a set with elements from another set."
   ]
  },
  {
   "cell_type": "code",
   "execution_count": 20,
   "id": "72e19afa-b8a9-496e-82e9-94f6453e2765",
   "metadata": {
    "tags": []
   },
   "outputs": [
    {
     "name": "stdout",
     "output_type": "stream",
     "text": [
      "{1, 2, 3, 4, 5, 6, 7, 11, 13, 17}\n"
     ]
    }
   ],
   "source": [
    "# Using union of two set\n",
    "set1 = set1.union(set2)\n",
    "print(set1)"
   ]
  },
  {
   "cell_type": "markdown",
   "id": "b61191a0-e14c-4f04-b699-d10b0081b656",
   "metadata": {},
   "source": [
    "21. Create a set of the first 5 prime numbers."
   ]
  },
  {
   "cell_type": "code",
   "execution_count": 23,
   "id": "02f86b41-2733-4c8f-9df9-b5df4fab002a",
   "metadata": {
    "tags": []
   },
   "outputs": [
    {
     "name": "stdout",
     "output_type": "stream",
     "text": [
      "{2, 3, 5, 7, 11}\n"
     ]
    }
   ],
   "source": [
    "# Simply type first five prime numbers\n",
    "set_prime = {2, 3, 5, 7, 11}\n",
    "print(set_prime)"
   ]
  },
  {
   "cell_type": "code",
   "execution_count": 25,
   "id": "9ff46e25-327e-41f6-b6fd-21ad4a6c20a1",
   "metadata": {
    "tags": []
   },
   "outputs": [
    {
     "name": "stdout",
     "output_type": "stream",
     "text": [
      "{2, 3, 5, 7, 521, 11, 523, 13, 17, 19, 23, 29, 541, 31, 37, 41, 43, 47, 53, 59, 61, 67, 71, 73, 79, 83, 89, 97, 101, 103, 107, 109, 113, 127, 131, 137, 139, 149, 151, 157, 163, 167, 173, 179, 181, 191, 193, 197, 199, 211, 223, 227, 229, 233, 239, 241, 251, 257, 263, 269, 271, 277, 281, 283, 293, 307, 311, 313, 317, 331, 337, 347, 349, 353, 359, 367, 373, 379, 383, 389, 397, 401, 409, 419, 421, 431, 433, 439, 443, 449, 457, 461, 463, 467, 479, 487, 491, 499, 503, 509}\n"
     ]
    }
   ],
   "source": [
    "# Print the set containing first n prime numbers\n",
    "def is_prime(num):\n",
    "    if num <= 1:\n",
    "        return False\n",
    "    if num <= 3:\n",
    "        return True\n",
    "    if num % 2 == 0 or num % 3 == 0:\n",
    "        return False\n",
    "    i = 5\n",
    "    while i * i <= num:\n",
    "        if num % i == 0 or num % (i + 2) == 0:\n",
    "            return False\n",
    "        i += 6\n",
    "    return True\n",
    "\n",
    "def first_n_primes(n):\n",
    "    prime_list = []\n",
    "    num = 2\n",
    "    while len(prime_list) < n:\n",
    "        if is_prime(num):\n",
    "            prime_list.append(num)\n",
    "        num += 1\n",
    "    return tuple(prime_list)\n",
    "\n",
    "n = 100  # Creating the list of first 100 primes\n",
    "prime_numbers = set(first_n_primes(n))\n",
    "print(prime_numbers)"
   ]
  },
  {
   "cell_type": "markdown",
   "id": "6b28f1b5-d647-4edb-8d71-706269d41124",
   "metadata": {},
   "source": [
    "22. Check if two sets are identical."
   ]
  },
  {
   "cell_type": "code",
   "execution_count": 27,
   "id": "213b24ad-a540-4c49-9504-23e6338ee604",
   "metadata": {
    "tags": []
   },
   "outputs": [
    {
     "name": "stdout",
     "output_type": "stream",
     "text": [
      "Given sets are equal\n"
     ]
    }
   ],
   "source": [
    "set1 = {5, 10, 45, 100, 20, 30}\n",
    "set2 = {5, 10, 20, 30, 45, 100}\n",
    "if set1 == set2:\n",
    "    print(\"Given sets are equal\")\n",
    "else:\n",
    "    print(\"Given sets are not eqaul\")"
   ]
  },
  {
   "cell_type": "markdown",
   "id": "b83db938-1dc4-45e0-a4ec-22bda7fa6bcf",
   "metadata": {},
   "source": [
    "23. Create a frozen set."
   ]
  },
  {
   "cell_type": "markdown",
   "id": "187928ed-81f1-4db9-8077-f7c2619cca72",
   "metadata": {},
   "source": [
    "* A frozen set in Python is an immutable version of a set. This means that once we create a frozen set, we cannot         add, remove, or modify elements within it. Frozen sets are useful in scenarios where we need an unchangeable     set     of elements, such as using sets as keys in dictionaries or elements in other sets."
   ]
  },
  {
   "cell_type": "code",
   "execution_count": 28,
   "id": "112292db-6d97-4d55-88ad-a492a91502be",
   "metadata": {
    "tags": []
   },
   "outputs": [
    {
     "name": "stdout",
     "output_type": "stream",
     "text": [
      "frozenset({1, 2, 3, 4, 5})\n"
     ]
    }
   ],
   "source": [
    "ex_set = {1, 2, 3, 4, 5}\n",
    "frozen_set = frozenset(ex_set)\n",
    "print(frozen_set)"
   ]
  },
  {
   "cell_type": "markdown",
   "id": "bcfe108d-efc7-4de6-9926-8f9c9cb03ae9",
   "metadata": {
    "tags": []
   },
   "source": [
    "24. Check if a set is disjoint with another set."
   ]
  },
  {
   "cell_type": "code",
   "execution_count": 32,
   "id": "23354869-123c-4301-9611-1121bb9af78c",
   "metadata": {
    "tags": []
   },
   "outputs": [
    {
     "name": "stdout",
     "output_type": "stream",
     "text": [
      "The two sets are disjoint\n"
     ]
    }
   ],
   "source": [
    "# Using is dijoint function in python\n",
    "set1 = {1,2,3,4,5,6,7,8,9,10}\n",
    "set2 = {11,12,13,14,15}\n",
    "\n",
    "if set1.isdisjoint(set2):\n",
    "    print(\"The two sets are disjoint\")\n",
    "else:\n",
    "    common_elements = set1.intersection(set2)\n",
    "    print(\"The set of intersection of two given sets is:\", common_elements)"
   ]
  },
  {
   "cell_type": "markdown",
   "id": "9f01acc9-98cf-4d74-b403-cb5c863bbd19",
   "metadata": {},
   "source": [
    "25. Create a set of squares of numbers from 1 to 5."
   ]
  },
  {
   "cell_type": "code",
   "execution_count": 33,
   "id": "cab34239-c1b2-4c94-8410-690f028335e9",
   "metadata": {
    "tags": []
   },
   "outputs": [
    {
     "name": "stdout",
     "output_type": "stream",
     "text": [
      "Set of squares is: {1, 4, 9, 16, 25}\n"
     ]
    }
   ],
   "source": [
    "set1 = {1,2,3,4,5}\n",
    "set_of_squares = set(i**2 for i in set1)\n",
    "print(f\"Set of squares is: {set_of_squares}\")"
   ]
  },
  {
   "cell_type": "markdown",
   "id": "f3669a2c-b818-4772-ba62-e4c2f24caf48",
   "metadata": {},
   "source": [
    "26. Filter out all even numbers from a set."
   ]
  },
  {
   "cell_type": "code",
   "execution_count": 34,
   "id": "1c45921f-f9ef-47b4-87ba-e0a08dcaf0c0",
   "metadata": {
    "tags": []
   },
   "outputs": [
    {
     "name": "stdout",
     "output_type": "stream",
     "text": [
      "The set of odd numbers from the given set is: {1, 3, 5, 7, 9}\n"
     ]
    }
   ],
   "source": [
    "set2 = {1,2,3,4,5,6,7,8,9,10}\n",
    "set_of_odds = set(i for i in set2 if i%2 != 0)\n",
    "print(f\"The set of odd numbers from the given set is: {set_of_odds}\")"
   ]
  },
  {
   "cell_type": "markdown",
   "id": "ecbced1c-b189-440e-b307-8eede8e85572",
   "metadata": {},
   "source": [
    "27. Multiply all elements in a set by 2."
   ]
  },
  {
   "cell_type": "code",
   "execution_count": 35,
   "id": "a1471ff7-e9cf-4170-bbab-3ab62566c168",
   "metadata": {
    "tags": []
   },
   "outputs": [
    {
     "name": "stdout",
     "output_type": "stream",
     "text": [
      "The given set after multiplying all the elements by 2 is: {2, 4, 6, 8, 10, 12, 14, 16, 18, 20}\n"
     ]
    }
   ],
   "source": [
    "set2 = {1,2,3,4,5,6,7,8,9,10}\n",
    "mult_of_two = set(i*2 for i in set2)\n",
    "print(f\"The given set after multiplying all the elements by 2 is: {mult_of_two}\")"
   ]
  },
  {
   "cell_type": "markdown",
   "id": "92103575-e7fe-4110-bf6e-5faaf56109d3",
   "metadata": {},
   "source": [
    "28. Create a set of random numbers."
   ]
  },
  {
   "cell_type": "code",
   "execution_count": 36,
   "id": "c7bbba35-083a-4d35-a208-b227dfef8d40",
   "metadata": {
    "tags": []
   },
   "outputs": [
    {
     "name": "stdout",
     "output_type": "stream",
     "text": [
      "Random set of integers: {96, 99, 5, 70, 75, 76, 47, 49, 81, 55}\n"
     ]
    }
   ],
   "source": [
    "# Generate a set of 10 random integers between 1 and 100\n",
    "random_set = set(random.sample(range(1, 101), 10))\n",
    "\n",
    "print(\"Random set of integers:\", random_set)"
   ]
  },
  {
   "cell_type": "markdown",
   "id": "1ca9de82-f7f5-4676-ad13-f20aee7788ce",
   "metadata": {},
   "source": [
    "29. Check if a set is empty."
   ]
  },
  {
   "cell_type": "code",
   "execution_count": 37,
   "id": "50504d57-bc04-4bcb-96a5-1af0a13c9030",
   "metadata": {
    "tags": []
   },
   "outputs": [
    {
     "name": "stdout",
     "output_type": "stream",
     "text": [
      "Given set is empty\n"
     ]
    }
   ],
   "source": [
    "eset = {}\n",
    "if len(eset) == 0:\n",
    "    print(\"Given set is empty\")\n",
    "else:\n",
    "    print(\"Given set is not empty\")"
   ]
  },
  {
   "cell_type": "markdown",
   "id": "1571d477-077c-4740-a69c-b6d3b53a29f6",
   "metadata": {},
   "source": [
    "30. Create a nested set (hint: use frozenset)."
   ]
  },
  {
   "cell_type": "code",
   "execution_count": 40,
   "id": "d4d19fba-02ed-410e-8586-854d1435c3d8",
   "metadata": {
    "tags": []
   },
   "outputs": [
    {
     "name": "stdout",
     "output_type": "stream",
     "text": [
      "Nested set: frozenset({frozenset({1, 2, 3}), frozenset({4, 5, 6}), frozenset({8, 9, 7})})\n"
     ]
    }
   ],
   "source": [
    "# Create nested sets using frozenset\n",
    "set1 = frozenset([1, 2, 3])\n",
    "inner_set2 = frozenset([4, 5, 6])\n",
    "inner_set3 = frozenset([7, 8, 9])\n",
    "\n",
    "nested_set = frozenset([inner_set1, inner_set2, inner_set3])\n",
    "\n",
    "print(\"Nested set:\",nested_set)"
   ]
  },
  {
   "cell_type": "markdown",
   "id": "62e2ddff-ab5f-4667-adfd-d75f670b3286",
   "metadata": {},
   "source": [
    "31. Remove an element from a set using the discard method."
   ]
  },
  {
   "cell_type": "code",
   "execution_count": 41,
   "id": "4366924c-b849-4a4b-84e7-940756a24eb9",
   "metadata": {
    "tags": []
   },
   "outputs": [],
   "source": [
    "set1 = {1,2,3,4,5,6}\n",
    "set1.discard(1)"
   ]
  },
  {
   "cell_type": "code",
   "execution_count": 42,
   "id": "aefb8105-53c6-4812-b9b3-b0b68a2a6b59",
   "metadata": {
    "tags": []
   },
   "outputs": [
    {
     "data": {
      "text/plain": [
       "{2, 3, 4, 5, 6}"
      ]
     },
     "execution_count": 42,
     "metadata": {},
     "output_type": "execute_result"
    }
   ],
   "source": [
    "set1"
   ]
  },
  {
   "cell_type": "markdown",
   "id": "04abeb50-8324-4cc5-99f1-ca54aba6bfbc",
   "metadata": {},
   "source": [
    "32. Compare two sets."
   ]
  },
  {
   "cell_type": "code",
   "execution_count": 44,
   "id": "e5e542eb-5717-41bb-b1eb-f1994b517894",
   "metadata": {
    "tags": []
   },
   "outputs": [
    {
     "name": "stdout",
     "output_type": "stream",
     "text": [
      "set2 is a subset of set1\n"
     ]
    }
   ],
   "source": [
    "set1 = {1,2,3,4,5,6,7,8,9,10}\n",
    "set2 = {10,9,7,8,5,2,3,6}\n",
    "\n",
    "def compare_sets(set1, set2):\n",
    "    if set1.issubset(set2):\n",
    "        print(\"set1 is a subset of set2\")\n",
    "    elif set2.issubset(set1):\n",
    "        print(\"set2 is a subset of set1\")\n",
    "    elif set1 == set2:\n",
    "        print(\"set1 and set2 are identical sets\")\n",
    "    else:\n",
    "        print(\"set1 and set2 are not comparable\")\n",
    "compare_sets(set1, set2)"
   ]
  },
  {
   "cell_type": "markdown",
   "id": "603ae464-6b0a-4968-af8e-96bba0d0c99c",
   "metadata": {
    "tags": []
   },
   "source": [
    "33. Create a set from a string."
   ]
  },
  {
   "cell_type": "code",
   "execution_count": 46,
   "id": "b46ee54f-648f-429a-aff4-3bfb183c5764",
   "metadata": {
    "tags": []
   },
   "outputs": [],
   "source": [
    "#string_set = {'India', 'Australia', 'New zealand', 'South Africa', 'England', 'Netherlands'}"
   ]
  },
  {
   "cell_type": "code",
   "execution_count": 51,
   "id": "e12df4dd-5833-4cf6-b62c-4f45a73cda43",
   "metadata": {
    "tags": []
   },
   "outputs": [
    {
     "name": "stdout",
     "output_type": "stream",
     "text": [
      "Set of strings is ['I', 'a', 'd', 'i', 'n']\n"
     ]
    }
   ],
   "source": [
    "string = 'India'\n",
    "string_set = sorted(set(char for char in string))\n",
    "print(f\"Set of strings is {string_set}\")"
   ]
  },
  {
   "cell_type": "markdown",
   "id": "86edc3cc-ff29-4088-aad9-7db928b13581",
   "metadata": {},
   "source": [
    "34. Convert a set of strings to a set of integers."
   ]
  },
  {
   "cell_type": "code",
   "execution_count": 53,
   "id": "e7708796-350b-4c61-9c68-d10d518f5af6",
   "metadata": {
    "tags": []
   },
   "outputs": [
    {
     "data": {
      "text/plain": [
       "{1, 2, 3, 4, 5}"
      ]
     },
     "execution_count": 53,
     "metadata": {},
     "output_type": "execute_result"
    }
   ],
   "source": [
    "string_set = {'1','2','3','4','5'} \n",
    "int_set = set(int(i) for i in string_set)\n",
    "int_set"
   ]
  },
  {
   "cell_type": "markdown",
   "id": "3742e737-3abb-4434-80e4-b09ddd240a0a",
   "metadata": {},
   "source": [
    "35. Convert a set of integers to a set of strings."
   ]
  },
  {
   "cell_type": "code",
   "execution_count": 54,
   "id": "5081a7ee-b4ba-437f-aa6a-8e5b86e205d8",
   "metadata": {
    "tags": []
   },
   "outputs": [
    {
     "data": {
      "text/plain": [
       "{'1', '2', '3', '4', '5'}"
      ]
     },
     "execution_count": 54,
     "metadata": {},
     "output_type": "execute_result"
    }
   ],
   "source": [
    "string_set = set(str(i) for i in int_set)\n",
    "string_set"
   ]
  },
  {
   "cell_type": "markdown",
   "id": "c9c71d84-bb88-437a-907b-cfea4bb8abf1",
   "metadata": {},
   "source": [
    "36. Create a set from a tuple."
   ]
  },
  {
   "cell_type": "code",
   "execution_count": 55,
   "id": "16de2126-1d45-4848-a583-42795701e013",
   "metadata": {
    "tags": []
   },
   "outputs": [
    {
     "data": {
      "text/plain": [
       "{1, 2, 3, 4, 5}"
      ]
     },
     "execution_count": 55,
     "metadata": {},
     "output_type": "execute_result"
    }
   ],
   "source": [
    "tup = (1, 2, 3, 4, 5)\n",
    "set_from_tup = set(tup)\n",
    "set_from_tup"
   ]
  },
  {
   "cell_type": "markdown",
   "id": "e81653bc-09d7-4c08-8cd1-67f9cc308b30",
   "metadata": {},
   "source": [
    "37. Convert a set to a tuple."
   ]
  },
  {
   "cell_type": "code",
   "execution_count": 56,
   "id": "42f8cfdb-6ae5-4976-910c-4deb12189f29",
   "metadata": {
    "tags": []
   },
   "outputs": [
    {
     "data": {
      "text/plain": [
       "(1, 2, 3, 4, 5)"
      ]
     },
     "execution_count": 56,
     "metadata": {},
     "output_type": "execute_result"
    }
   ],
   "source": [
    "set1 = {1,2,3,4,5}\n",
    "tup = tuple(set1)\n",
    "tup"
   ]
  },
  {
   "cell_type": "markdown",
   "id": "b7add09c-eb96-4101-9bfa-5ec1a5f756ce",
   "metadata": {},
   "source": [
    "38. Find the maximum value in a set."
   ]
  },
  {
   "cell_type": "code",
   "execution_count": 57,
   "id": "504ce043-e248-4d4c-98ce-71ae9dcbc3be",
   "metadata": {
    "tags": []
   },
   "outputs": [
    {
     "data": {
      "text/plain": [
       "5"
      ]
     },
     "execution_count": 57,
     "metadata": {},
     "output_type": "execute_result"
    }
   ],
   "source": [
    "max_value = max(set1)\n",
    "max_value"
   ]
  },
  {
   "cell_type": "markdown",
   "id": "e4605783-60bc-4370-aee4-359d2a628003",
   "metadata": {},
   "source": [
    "39. Find the minimum value in a set."
   ]
  },
  {
   "cell_type": "code",
   "execution_count": 58,
   "id": "438915ee-3d5b-48be-91d4-faf62ccfaa64",
   "metadata": {
    "tags": []
   },
   "outputs": [
    {
     "data": {
      "text/plain": [
       "1"
      ]
     },
     "execution_count": 58,
     "metadata": {},
     "output_type": "execute_result"
    }
   ],
   "source": [
    "min_value = min(set1)\n",
    "min_value"
   ]
  },
  {
   "cell_type": "markdown",
   "id": "c05a30a4-44d9-4c05-a7c7-378ca8278e8d",
   "metadata": {},
   "source": [
    "40. Create a set from user input."
   ]
  },
  {
   "cell_type": "code",
   "execution_count": 61,
   "id": "06cbb022-e1ed-4972-9715-ce0fc772c91b",
   "metadata": {
    "tags": []
   },
   "outputs": [
    {
     "name": "stdin",
     "output_type": "stream",
     "text": [
      "Enter a list of elements separated by spaces:  1 2 3 4 5\n"
     ]
    },
    {
     "name": "stdout",
     "output_type": "stream",
     "text": [
      "The set created by user is: {'1', '2', '4', '3', '5'}\n"
     ]
    }
   ],
   "source": [
    "# Get input from the user\n",
    "user_input = input(\"Enter a list of elements separated by spaces: \")\n",
    "\n",
    "# Split the user input into a list\n",
    "elements = user_input.split()\n",
    "\n",
    "# Create a set from the list of elements\n",
    "user_set = set(elements)\n",
    "\n",
    "print(\"The set created by user is:\", user_set)"
   ]
  },
  {
   "cell_type": "markdown",
   "id": "0f9a4c74-4955-46f9-9e13-fc02dc99aa95",
   "metadata": {},
   "source": [
    "41. Check if the intersection of two sets is empty."
   ]
  },
  {
   "cell_type": "code",
   "execution_count": 62,
   "id": "411b8eb5-a38b-4b04-ab5e-f64d62b22f56",
   "metadata": {
    "tags": []
   },
   "outputs": [
    {
     "name": "stdout",
     "output_type": "stream",
     "text": [
      "The intersection of set1 and set2 is empty\n"
     ]
    }
   ],
   "source": [
    "set1 = {1,3,5,7,9}\n",
    "set2 = {2,4,6,8,10}\n",
    "\n",
    "intersection_set = set1.intersection(set2)\n",
    "if len(intersection_set) == 0:\n",
    "    print(\"The intersection of set1 and set2 is empty\")\n",
    "else:\n",
    "    print(\"The intersection of set1 and set2 is not empty\")"
   ]
  },
  {
   "cell_type": "markdown",
   "id": "81d26844-faa2-4d48-afcc-e293300bb647",
   "metadata": {},
   "source": [
    "42. Create a set of the first 5 Fibonacci numbers."
   ]
  },
  {
   "cell_type": "code",
   "execution_count": 63,
   "id": "89ed2180-5f02-4e62-a1c2-2249642571c6",
   "metadata": {
    "tags": []
   },
   "outputs": [],
   "source": [
    "def fibonacci(n):\n",
    "    fib_sequence = [0, 1]\n",
    "    \n",
    "    while len(fib_sequence) < n:\n",
    "        next_number = fib_sequence[-1] + fib_sequence[-2]\n",
    "        fib_sequence.append(next_number)\n",
    "    \n",
    "    return fib_sequence"
   ]
  },
  {
   "cell_type": "code",
   "execution_count": 64,
   "id": "109b3b45-afeb-48f5-98a9-040e46c2239a",
   "metadata": {
    "tags": []
   },
   "outputs": [
    {
     "name": "stdout",
     "output_type": "stream",
     "text": [
      "The set containing first five Fibonacci numbers is: {0, 1, 2, 3}\n"
     ]
    }
   ],
   "source": [
    "fibo_set = set(fibonacci(5))\n",
    "print(f\"The set containing first five Fibonacci numbers is: {fibo_set}\")"
   ]
  },
  {
   "cell_type": "code",
   "execution_count": 67,
   "id": "6a046bc3-9312-440f-9fef-98dca678d393",
   "metadata": {
    "tags": []
   },
   "outputs": [
    {
     "name": "stdout",
     "output_type": "stream",
     "text": [
      "Set of the first 5 Fibonacci numbers: {0, 1, 2, 3}\n"
     ]
    }
   ],
   "source": [
    "# We can define the function in another way as below:\n",
    "def generate_first_5_fibonacci_numbers():\n",
    "    fib_set = set()\n",
    "    a, b = 0, 1\n",
    "    for _ in range(5):\n",
    "        fib_set.add(a)\n",
    "        a, b = b, a + b\n",
    "    return fib_set\n",
    "\n",
    "# Call the function\n",
    "fibonacci_set = generate_first_5_fibonacci_numbers()\n",
    "print(\"Set of the first 5 Fibonacci numbers:\", fibonacci_set)"
   ]
  },
  {
   "cell_type": "markdown",
   "id": "5b959902-6e16-4b70-bb93-426f36b3a0b5",
   "metadata": {},
   "source": [
    "* 1 will not be repeated after 1 because set do not contain duplicate elements"
   ]
  },
  {
   "cell_type": "markdown",
   "id": "d0bc2d7e-15da-42a9-8626-fed2a1c1bb56",
   "metadata": {},
   "source": [
    "43. Remove duplicates from a list using sets."
   ]
  },
  {
   "cell_type": "code",
   "execution_count": 69,
   "id": "a121e85c-68f3-4443-9969-994cd03c766a",
   "metadata": {
    "tags": []
   },
   "outputs": [
    {
     "data": {
      "text/plain": [
       "[1, 2, 3, 4, 5]"
      ]
     },
     "execution_count": 69,
     "metadata": {},
     "output_type": "execute_result"
    }
   ],
   "source": [
    "list1 = [1,1,2,2,3,3,4,4,5,5]\n",
    "set_from_list = set(list1)\n",
    "unique_elt_list = list(set_from_list)\n",
    "unique_elt_list"
   ]
  },
  {
   "cell_type": "markdown",
   "id": "11160811-703a-4727-9940-a04363e2cc4b",
   "metadata": {},
   "source": [
    "44. Check if two sets have the same elements, regardless of their count."
   ]
  },
  {
   "cell_type": "code",
   "execution_count": 70,
   "id": "6fa86f2b-89d3-4bac-a7ef-9d2db707f84b",
   "metadata": {
    "tags": []
   },
   "outputs": [
    {
     "name": "stdout",
     "output_type": "stream",
     "text": [
      "The sets have the same elements, regardless of their count\n"
     ]
    }
   ],
   "source": [
    "set1 = {1, 2, 3, 4, 5}\n",
    "set2 = {5, 4, 3, 2, 1, 1, 2, 3, 4}  # Contains duplicates \n",
    "\n",
    "if set1.issubset(set2) and set2.issubset(set1):\n",
    "    print(\"The sets have the same elements, regardless of their count\")\n",
    "else:\n",
    "    print(\"The sets are not identical in terms of elements\")"
   ]
  },
  {
   "cell_type": "markdown",
   "id": "0653f0e4-ca98-4f81-954b-b229dcf5dbd4",
   "metadata": {},
   "source": [
    "45. Create a set of the first `n` powers of 2."
   ]
  },
  {
   "cell_type": "code",
   "execution_count": 72,
   "id": "eeafbd88-1b3b-4633-95cf-5c78caeb0516",
   "metadata": {
    "tags": []
   },
   "outputs": [
    {
     "name": "stdout",
     "output_type": "stream",
     "text": [
      "set containing First 10 powers of 2 is: [2, 4, 8, 16, 32, 64, 128, 256, 512, 1024]\n"
     ]
    }
   ],
   "source": [
    "# Using list comprehension\n",
    "n = 10\n",
    "powers_of_2_set = sorted(set(2**i for i in range(1, n+1)))\n",
    "print(f\"set containing First {n} powers of 2 is: {powers_of_2_set}\")"
   ]
  },
  {
   "cell_type": "markdown",
   "id": "da2d7ed9-bfc4-4e1d-ba07-be265445665d",
   "metadata": {},
   "source": [
    "46. Find the common elements between a set and a list."
   ]
  },
  {
   "cell_type": "code",
   "execution_count": 75,
   "id": "5572caf5-fa33-4784-b633-c5f930d0ddec",
   "metadata": {
    "tags": []
   },
   "outputs": [
    {
     "name": "stdout",
     "output_type": "stream",
     "text": [
      "The intersection set of given list and set is {1, 3, 5, 7}\n"
     ]
    }
   ],
   "source": [
    "list1 = [1,2,3,4,5,6,7,8,9,10]\n",
    "set1 = {1,3,5,7,11,13,17,19,23}\n",
    "int_list_set = set1.intersection(list1)\n",
    "print(\"The intersection set of given list and set is\", int_list_set)"
   ]
  },
  {
   "cell_type": "markdown",
   "id": "ae4d570e-b2fb-4064-a92d-a940c41e4922",
   "metadata": {},
   "source": [
    "47. Create a set of the first `n` triangular numbers."
   ]
  },
  {
   "cell_type": "code",
   "execution_count": 77,
   "id": "90f23c98-8027-4c1f-bf57-9e6aef52dabe",
   "metadata": {
    "tags": []
   },
   "outputs": [
    {
     "name": "stdout",
     "output_type": "stream",
     "text": [
      "The set conatining first 10 triangular numbers is: {1, 3, 36, 6, 10, 45, 15, 21, 55, 28}\n"
     ]
    }
   ],
   "source": [
    "# Define the function to create triangular numbers\n",
    "def triangular_num(n):\n",
    "    triangular_numbers = []\n",
    "    for i in range(1, n + 1):\n",
    "        triangular_number = i * (i + 1) // 2\n",
    "        triangular_numbers.append(triangular_number)\n",
    "    return triangular_numbers\n",
    "\n",
    "n = 10 \n",
    "result = set(triangular_num(n))\n",
    "print(f\"The set conatining first {n} triangular numbers is: {result}\")"
   ]
  },
  {
   "cell_type": "markdown",
   "id": "ae80bfaa-0a5b-4be4-b47b-e6ea682dbbf6",
   "metadata": {},
   "source": [
    "48. Check if a set contains another set as a subset."
   ]
  },
  {
   "cell_type": "code",
   "execution_count": 79,
   "id": "ec5c2052-6693-4add-90c3-90df4c71ebbe",
   "metadata": {
    "tags": []
   },
   "outputs": [
    {
     "name": "stdout",
     "output_type": "stream",
     "text": [
      "Set1 is a subset of set2\n"
     ]
    }
   ],
   "source": [
    "set1 = {1,2,3,4}\n",
    "set2 = {1,2,3,4,5,6,7,8,9,10}\n",
    "\n",
    "if set1.issubset(set2):\n",
    "    print(\"Set1 is a subset of set2\")\n",
    "elif set2.issubset(set1):\n",
    "    print(\"Set2 is a subset of set1\")\n",
    "else:\n",
    "    print(\"set1 and set2 are not fully comparable\")"
   ]
  },
  {
   "cell_type": "markdown",
   "id": "298580c8-e957-479b-8ba1-1177ba5fc655",
   "metadata": {},
   "source": [
    "49. Create a set of alternating 1s and 0s of length `n`."
   ]
  },
  {
   "cell_type": "code",
   "execution_count": 80,
   "id": "2e65c215-6bf7-4f3e-8d9e-a6eadde629ed",
   "metadata": {
    "tags": []
   },
   "outputs": [
    {
     "name": "stdout",
     "output_type": "stream",
     "text": [
      "Set of alternating 1s and 0s: {0, 1}\n"
     ]
    }
   ],
   "source": [
    "n = 10  \n",
    "# Create a list of alternating 1s and 0s\n",
    "alternating_sequence = [1 if i % 2 == 0 else 0 for i in range(n)]\n",
    "\n",
    "# Convert the list to a set\n",
    "alternating_set = set(alternating_sequence)\n",
    "\n",
    "print(\"Set of alternating 1s and 0s:\", alternating_set)"
   ]
  },
  {
   "cell_type": "code",
   "execution_count": 81,
   "id": "f0f2e3ba-d398-4424-afed-1d35b0a7a923",
   "metadata": {
    "tags": []
   },
   "outputs": [
    {
     "data": {
      "text/plain": [
       "{0, 1}"
      ]
     },
     "execution_count": 81,
     "metadata": {},
     "output_type": "execute_result"
    }
   ],
   "source": [
    "alterneting_set = {1, 0, 1, 0, 1, 0, 1, 0, 1, 0}\n",
    "alterneting_set"
   ]
  },
  {
   "cell_type": "markdown",
   "id": "760e35df-c52a-4672-be7f-242a98428d70",
   "metadata": {},
   "source": [
    "* Note: Set can not contain duplicate elements"
   ]
  },
  {
   "cell_type": "markdown",
   "id": "195516f3-363b-4d82-a20d-23952f703194",
   "metadata": {},
   "source": [
    "50. Merge multiple sets into one."
   ]
  },
  {
   "cell_type": "code",
   "execution_count": 82,
   "id": "752f270c-4119-492d-b12a-13711f64cd1a",
   "metadata": {
    "tags": []
   },
   "outputs": [
    {
     "name": "stdout",
     "output_type": "stream",
     "text": [
      "Merged set: {1, 2, 3, 4, 5, 6, 7, 8, 9, 10, 11, 12}\n"
     ]
    }
   ],
   "source": [
    "# Using union operator\n",
    "set1 = {1,2,3}\n",
    "set2 = {4,5,6}\n",
    "set3 = {7,8,9}\n",
    "set4 = {10,11,12}\n",
    "\n",
    "merged_set = set1.union(set2, set3, set4)\n",
    "\n",
    "print(\"Merged set:\", merged_set)"
   ]
  },
  {
   "cell_type": "code",
   "execution_count": 84,
   "id": "70c7a3e1-e84e-4c53-980c-0d6a9fbf8f76",
   "metadata": {
    "tags": []
   },
   "outputs": [
    {
     "name": "stdout",
     "output_type": "stream",
     "text": [
      "Merged set: {1, 2, 3, 4, 5, 6, 7, 8, 9, 10, 11, 12}\n"
     ]
    }
   ],
   "source": [
    "# Using or operator\n",
    "set1 = {1,2,3}\n",
    "set2 = {4,5,6}\n",
    "set3 = {7,8,9}\n",
    "set4 = {10,11,12}\n",
    "\n",
    "merged_set = set1 | set2 | set3 | set4\n",
    "\n",
    "print(\"Merged set:\", merged_set)"
   ]
  },
  {
   "cell_type": "code",
   "execution_count": null,
   "id": "0e463148-2296-4fb0-8aba-85d0d3d7bfb4",
   "metadata": {},
   "outputs": [],
   "source": []
  }
 ],
 "metadata": {
  "kernelspec": {
   "display_name": "Python 3 (ipykernel)",
   "language": "python",
   "name": "python3"
  },
  "language_info": {
   "codemirror_mode": {
    "name": "ipython",
    "version": 3
   },
   "file_extension": ".py",
   "mimetype": "text/x-python",
   "name": "python",
   "nbconvert_exporter": "python",
   "pygments_lexer": "ipython3",
   "version": "3.11.5"
  }
 },
 "nbformat": 4,
 "nbformat_minor": 5
}
