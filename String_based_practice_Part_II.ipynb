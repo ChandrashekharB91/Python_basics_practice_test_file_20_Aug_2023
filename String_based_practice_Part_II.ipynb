{
 "cells": [
  {
   "cell_type": "code",
   "execution_count": 1,
   "id": "c182a0df-13ce-447d-ad6b-429f61049386",
   "metadata": {},
   "outputs": [],
   "source": [
    "import numpy as np\n",
    "import re\n",
    "import random\n",
    "from sklearn.preprocessing import OneHotEncoder\n",
    "import gensim.downloader as api\n",
    "from itertools import chain\n",
    "from math import factorial"
   ]
  },
  {
   "cell_type": "markdown",
   "id": "a0dd110b-502d-4739-b352-d00a665eaa5e",
   "metadata": {},
   "source": [
    "# <span style='color:green'>Topic: List Based Practice Problems</span>"
   ]
  },
  {
   "cell_type": "markdown",
   "id": "0bd2af37-0243-443a-8603-37cb4d1a234b",
   "metadata": {},
   "source": [
    "1. Create a list with integers from 1 to 10."
   ]
  },
  {
   "cell_type": "code",
   "execution_count": null,
   "id": "91a5629d-02dc-4c68-8359-f1764656d955",
   "metadata": {},
   "outputs": [],
   "source": [
    "int_list = list(range(1, 11))\n",
    "int_list"
   ]
  },
  {
   "cell_type": "markdown",
   "id": "294fc082-f217-4b02-8f2a-a14faf1f907b",
   "metadata": {},
   "source": [
    "2. Find the length of a list without using the `len()` function."
   ]
  },
  {
   "cell_type": "code",
   "execution_count": null,
   "id": "1f195fe4-9a4e-436f-9084-9a8a599902a3",
   "metadata": {},
   "outputs": [],
   "source": [
    "# Using index function \n",
    "len_list = int_list.index(int_list[-1]) +  1\n",
    "len_list"
   ]
  },
  {
   "cell_type": "code",
   "execution_count": null,
   "id": "8c83e250-147d-4910-80d7-a690e9824eed",
   "metadata": {},
   "outputs": [],
   "source": [
    "# Lets check for another list. We can also define a function for this purpose\n",
    "second_list = list(range(0, 101))"
   ]
  },
  {
   "cell_type": "code",
   "execution_count": null,
   "id": "10d47533-51ee-4495-8bb3-a1d79f67f053",
   "metadata": {},
   "outputs": [],
   "source": [
    "len_list = second_list.index(second_list[-1]) +  1\n",
    "len_list"
   ]
  },
  {
   "cell_type": "markdown",
   "id": "ff692e16-37ea-4d64-9d90-ce7de15b1756",
   "metadata": {},
   "source": [
    "3. Append an element to the end of a list."
   ]
  },
  {
   "cell_type": "code",
   "execution_count": null,
   "id": "01d2eb4d-b3e7-4a89-935f-4edc24c30b87",
   "metadata": {},
   "outputs": [],
   "source": [
    "# Create a list\n",
    "\n",
    "list1 = ['pycharm', 'vscode', 'jupyter', 'anaconda']\n",
    "\n",
    "# Suppose we want to append any element at the end of this list\n",
    "\n",
    "list1.append('spyder')\n",
    "print(list1)"
   ]
  },
  {
   "cell_type": "markdown",
   "id": "1ccbf695-f037-413a-96b1-f4b44701f5c2",
   "metadata": {},
   "source": [
    "4. Insert an element at a specific index in a list."
   ]
  },
  {
   "cell_type": "code",
   "execution_count": null,
   "id": "2f06da50-8bc3-45a0-8649-fe204f9fc628",
   "metadata": {},
   "outputs": [],
   "source": [
    "list1 = ['pycharm', 'vscode', 'jupyter', 'anaconda']\n",
    "\n",
    "# Suppose we want to insert a number 10 at 2nd postion in above list\n",
    "\n",
    "list1.insert(1, 10)\n",
    "print(list1)"
   ]
  },
  {
   "cell_type": "markdown",
   "id": "5b21c0fc-381d-4fe5-953a-109e7e63230e",
   "metadata": {},
   "source": [
    "5. Remove an element from a list by its value."
   ]
  },
  {
   "cell_type": "code",
   "execution_count": null,
   "id": "a5116a2d-dfb8-4d4a-bc0b-28f9fbc2cadf",
   "metadata": {},
   "outputs": [],
   "source": [
    "# We can use remove function\n",
    "list1.remove(10)\n",
    "list1"
   ]
  },
  {
   "cell_type": "markdown",
   "id": "185a3279-3041-4fe1-979d-539a44fb3cfe",
   "metadata": {},
   "source": [
    "7. Check if an element exists in a list."
   ]
  },
  {
   "cell_type": "code",
   "execution_count": null,
   "id": "78a0f00a-c68a-4ce5-b450-3c00d89f3248",
   "metadata": {},
   "outputs": [],
   "source": [
    "word = input('Enter the word: ')\n",
    "\n",
    "if word in list1:\n",
    "    print(f'The Word {word} is present in the given list')\n",
    "else:\n",
    "    print(f'The Word {word} is not present in the given list')"
   ]
  },
  {
   "cell_type": "markdown",
   "id": "64ccdd1b-f984-4ee5-ad2d-20728a4f02e1",
   "metadata": {},
   "source": [
    "8. Find the index of the first occurrence of an element in a list."
   ]
  },
  {
   "cell_type": "code",
   "execution_count": null,
   "id": "9507ed90-6d4c-4af8-b9b4-fb66061dd42a",
   "metadata": {},
   "outputs": [],
   "source": [
    "list2 = [10,20,30,40,50,30,60,30]\n",
    "\n",
    "elt_to_find = 30\n",
    "\n",
    "first_occurance = list2.index(elt_to_find)\n",
    "\n",
    "print(f'The first occurance of element {elt_to_find} is at index: ', first_occurance)"
   ]
  },
  {
   "cell_type": "markdown",
   "id": "c9816e5e-df53-4da9-b239-c995eb89bba0",
   "metadata": {},
   "source": [
    "9. Count the occurrences of an element in a list."
   ]
  },
  {
   "cell_type": "code",
   "execution_count": null,
   "id": "93609335-5174-4ee2-96af-b5250863945f",
   "metadata": {},
   "outputs": [],
   "source": [
    "list2 = [10,20,30,40,50,30,60,30,20,80,20]\n",
    "\n",
    "element = 20\n",
    "\n",
    "count_elt = list2.count(element)\n",
    "\n",
    "print(f'The number of time the element {element} occured in the given list is:', count_elt)"
   ]
  },
  {
   "cell_type": "markdown",
   "id": "5d87510d-82dc-46fc-b49a-60b5e2d0b1b9",
   "metadata": {},
   "source": [
    "10. Reverse the order of elements in a list."
   ]
  },
  {
   "cell_type": "code",
   "execution_count": null,
   "id": "cdda7b9f-12a0-4fe0-b546-42c1198c0fb8",
   "metadata": {},
   "outputs": [],
   "source": [
    "reversed_list = list2[::-1]\n",
    "print('Reversed list is: ', reversed_list)"
   ]
  },
  {
   "cell_type": "markdown",
   "id": "74a267d2-9def-4dd9-9900-6ecbb76e1f8d",
   "metadata": {},
   "source": [
    "11. Sort a list in ascending order."
   ]
  },
  {
   "cell_type": "code",
   "execution_count": null,
   "id": "9d20c508-8cee-4c04-821f-45c2f3389244",
   "metadata": {},
   "outputs": [],
   "source": [
    "list2.sort()"
   ]
  },
  {
   "cell_type": "code",
   "execution_count": null,
   "id": "66255201-ab1d-4fc7-9887-d6341e5673a6",
   "metadata": {},
   "outputs": [],
   "source": [
    "list2"
   ]
  },
  {
   "cell_type": "markdown",
   "id": "f45298bc-9f9b-4f3a-9f90-685c4d49899d",
   "metadata": {},
   "source": [
    "12. Sort a list in descending order."
   ]
  },
  {
   "cell_type": "code",
   "execution_count": null,
   "id": "01994418-bfe6-47d0-9681-7384f5103291",
   "metadata": {},
   "outputs": [],
   "source": [
    "list2.sort(reverse=True)\n",
    "list2"
   ]
  },
  {
   "cell_type": "markdown",
   "id": "af78e134-439c-4a38-8038-8f5830e68b66",
   "metadata": {},
   "source": [
    "13. Create a list of even numbers from 1 to 20."
   ]
  },
  {
   "cell_type": "code",
   "execution_count": null,
   "id": "1cd98744-7008-458e-a4d1-953ef4027cd7",
   "metadata": {},
   "outputs": [],
   "source": [
    "# List of even numbers from 1 to 20 using step 2 in range function.\n",
    "list3 = list(range(2, 21, 2))\n",
    "list3"
   ]
  },
  {
   "cell_type": "markdown",
   "id": "a828c748-d4a3-4850-ba5b-fba07774e9c2",
   "metadata": {},
   "source": [
    "14. Create a list of odd numbers from 1 to 20."
   ]
  },
  {
   "cell_type": "code",
   "execution_count": null,
   "id": "c10f933e-4cec-4e22-93f3-96754533d36e",
   "metadata": {},
   "outputs": [],
   "source": [
    "list4 = list(range(1, 21, 2))\n",
    "list4"
   ]
  },
  {
   "cell_type": "markdown",
   "id": "a6c998bf-41d1-4a92-94c5-f92b70cb4931",
   "metadata": {},
   "source": [
    "15. Find the sum of all elements in a list."
   ]
  },
  {
   "cell_type": "code",
   "execution_count": null,
   "id": "bf050317-ba8b-4d7c-9fef-844d03dfa651",
   "metadata": {},
   "outputs": [],
   "source": [
    "sum3 = sum(list3)\n",
    "sum4 = sum(list4)\n",
    "\n",
    "print('Sum of even numbers from 1 to 20 is: ',sum3)\n",
    "print('Sum of odd numbers from 1 to 20 is: ',sum4)"
   ]
  },
  {
   "cell_type": "markdown",
   "id": "76119b30-c988-4aab-a7fe-19ad48c0a8db",
   "metadata": {},
   "source": [
    "16. Find the maximum value in a list."
   ]
  },
  {
   "cell_type": "code",
   "execution_count": null,
   "id": "6fe80555-5881-473e-aa15-768900748f02",
   "metadata": {},
   "outputs": [],
   "source": [
    "# We can use max() function\n",
    "max(list3)"
   ]
  },
  {
   "cell_type": "code",
   "execution_count": null,
   "id": "5a65e29a-eebf-4c93-bb89-a9e67668abb8",
   "metadata": {},
   "outputs": [],
   "source": [
    "# We can use min() function\n",
    "min(list3)"
   ]
  },
  {
   "cell_type": "markdown",
   "id": "540dc46f-b7c7-49f2-b317-575c3fabb0b7",
   "metadata": {},
   "source": [
    "18. Create a list of squares of numbers from 1 to 10."
   ]
  },
  {
   "cell_type": "code",
   "execution_count": null,
   "id": "b2537cf4-06ac-467e-8112-db07cc7f360f",
   "metadata": {},
   "outputs": [],
   "source": [
    "int_list"
   ]
  },
  {
   "cell_type": "code",
   "execution_count": null,
   "id": "ce677a4a-b64f-4775-8e91-ba8f6a6715d0",
   "metadata": {},
   "outputs": [],
   "source": [
    "squares = []\n",
    "for i in int_list:\n",
    "    square = i**2\n",
    "    squares.append(square)\n",
    "print('List of squares of numbers from 1 to 10 is: ',squares)"
   ]
  },
  {
   "cell_type": "markdown",
   "id": "619edd0d-b40f-43a9-bf63-1aab0f3a6d1c",
   "metadata": {},
   "source": [
    "19. Create a list of random numbers."
   ]
  },
  {
   "cell_type": "code",
   "execution_count": null,
   "id": "0f57a9b9-3a0f-4b61-bea1-b97a094633c9",
   "metadata": {},
   "outputs": [],
   "source": [
    "# Creating the list of 10 random integers from 1 to 100 \n",
    "random_numbers = [np.random.randint(1, 100) for _ in range(10)]\n",
    "\n",
    "print(random_numbers)"
   ]
  },
  {
   "cell_type": "code",
   "execution_count": null,
   "id": "34069d95-5107-4c0e-b0a4-2414911ba02c",
   "metadata": {},
   "outputs": [],
   "source": [
    "# Create a list of 10 random floating-point numbers between 1 and 100\n",
    "random_numbers = [random.uniform(1, 100) for _ in range(10)]\n",
    "\n",
    "print(random_numbers)"
   ]
  },
  {
   "cell_type": "code",
   "execution_count": null,
   "id": "6679852a-6522-497a-b8d5-5373dadd17d6",
   "metadata": {},
   "outputs": [],
   "source": [
    "# Create a list of 10 random numbers between 0 and 1\n",
    "random_numbers = [np.random.random() for _ in range(10)]\n",
    "\n",
    "print(random_numbers)"
   ]
  },
  {
   "cell_type": "markdown",
   "id": "a8f647e0-1687-40f7-ba76-0d4fe988ac61",
   "metadata": {},
   "source": [
    "20. Remove duplicates from a list."
   ]
  },
  {
   "cell_type": "code",
   "execution_count": null,
   "id": "66fc578a-1742-47c8-b7e6-88f9f5510528",
   "metadata": {},
   "outputs": [],
   "source": [
    "list2"
   ]
  },
  {
   "cell_type": "code",
   "execution_count": null,
   "id": "d30f2fcc-c947-480d-a79c-995e17426f67",
   "metadata": {},
   "outputs": [],
   "source": [
    "unique_list2 = list(set(list2))\n",
    "unique_list2"
   ]
  },
  {
   "cell_type": "markdown",
   "id": "26ded55e-ed4a-4eba-9388-98e68a73f811",
   "metadata": {},
   "source": [
    "21. Find the common elements between two lists."
   ]
  },
  {
   "cell_type": "code",
   "execution_count": null,
   "id": "a23eae81-e022-4035-bc72-6cfd0bd8fd75",
   "metadata": {},
   "outputs": [],
   "source": [
    "# We can turn list into set and then find common elements using intersection.\n",
    "\n",
    "list5 = [100, 200, 300, 400, 500, 600, 700, 800, 1000]\n",
    "list6 = [100, 300, 500, 700, 900, 1100, 1300, 1500, 1700]\n",
    "\n",
    "common_elts = list(set(list5).intersection(list6))\n",
    "common_elts"
   ]
  },
  {
   "cell_type": "markdown",
   "id": "071b4a4c-8b2a-481f-bc24-302aa834411f",
   "metadata": {},
   "source": [
    "22. Find the difference between two lists."
   ]
  },
  {
   "cell_type": "code",
   "execution_count": null,
   "id": "592c7e77-255d-4f1e-aca5-e19300d35cb4",
   "metadata": {},
   "outputs": [],
   "source": [
    "diff_set = list(set(list5).difference(list6))\n",
    "diff_set"
   ]
  },
  {
   "cell_type": "markdown",
   "id": "b92bd661-38f1-4414-bf89-083a3721e875",
   "metadata": {},
   "source": [
    "23. Merge two lists."
   ]
  },
  {
   "cell_type": "code",
   "execution_count": null,
   "id": "4622b09e-259e-4964-b70a-5d07abe24b40",
   "metadata": {},
   "outputs": [],
   "source": [
    "union_list = list(set(list5).union(set(list6)))\n",
    "union_list"
   ]
  },
  {
   "cell_type": "markdown",
   "id": "c808d803-2682-4940-9506-700da6cb8b9e",
   "metadata": {},
   "source": [
    "24. Multiply all elements in a list by 2."
   ]
  },
  {
   "cell_type": "code",
   "execution_count": null,
   "id": "257832b8-76cc-4ab0-81a0-7ffb507c911e",
   "metadata": {},
   "outputs": [],
   "source": [
    "# By using for loop\n",
    "\n",
    "mult_by_2 = []\n",
    "for i in union_list:\n",
    "    j = i*2\n",
    "    mult_by_2.append(j)\n",
    "print(mult_by_2)"
   ]
  },
  {
   "cell_type": "code",
   "execution_count": null,
   "id": "46011e84-0055-49ac-bea0-a0d8afb79bc5",
   "metadata": {},
   "outputs": [],
   "source": [
    "# By using list comprehension\n",
    "\n",
    "mult_by_2 = [x * 2 for x in union_list]\n",
    "\n",
    "print(mult_by_2)"
   ]
  },
  {
   "cell_type": "markdown",
   "id": "2e494a02-5afc-4dc9-a52f-3c68ce3d8808",
   "metadata": {},
   "source": [
    "25. Filter out all even numbers from a list."
   ]
  },
  {
   "cell_type": "code",
   "execution_count": null,
   "id": "abebbe7c-454b-4f8a-b9a8-f5ac1d8e20f1",
   "metadata": {},
   "outputs": [],
   "source": [
    "int_list"
   ]
  },
  {
   "cell_type": "code",
   "execution_count": null,
   "id": "fa7c92a5-2a8b-4834-87ea-03f99a005b8f",
   "metadata": {},
   "outputs": [],
   "source": [
    "odd_list = [x for x in int_list if x % 2 != 0]\n",
    "odd_list"
   ]
  },
  {
   "cell_type": "code",
   "execution_count": null,
   "id": "610efacb-50a8-4f56-a23b-7643a2915706",
   "metadata": {},
   "outputs": [],
   "source": [
    "even_list = [x for x in int_list if x % 2 == 0]\n",
    "\n",
    "print(even_list)"
   ]
  },
  {
   "cell_type": "markdown",
   "id": "4c1d2c65-3c82-4aba-aed8-f4302b301d13",
   "metadata": {},
   "source": [
    "26. Convert a list of strings to a list of integers."
   ]
  },
  {
   "cell_type": "code",
   "execution_count": null,
   "id": "0d7fadc8-a28d-44f6-9c6b-4e13e286f984",
   "metadata": {},
   "outputs": [],
   "source": [
    "# Define the list of strings\n",
    "strings = [\"10\", \"20\", \"30\", \"40\", \"50\", \"60\"]\n",
    "\n",
    "# Convert the list of strings to a list of integers\n",
    "integers = [int(x) for x in strings]\n",
    "\n",
    "print(integers)"
   ]
  },
  {
   "cell_type": "markdown",
   "id": "5426b04b-7dc1-428a-851d-cc97409aec99",
   "metadata": {},
   "source": [
    "* Suppose there are only words and we want to encode them into vectors then we can use the following techniques"
   ]
  },
  {
   "cell_type": "code",
   "execution_count": null,
   "id": "3df1761b-2713-4821-9994-40332a4924ba",
   "metadata": {},
   "outputs": [],
   "source": [
    "# list of words\n",
    "word_list = [\"apple\", \"banana\", \"cherry\", \"apple\"]\n",
    "\n",
    "# Create a one-hot encoder\n",
    "encoder = OneHotEncoder(sparse=False)\n",
    "\n",
    "# Fit the encoder on the words and transform them into one-hot vectors\n",
    "one_hot_encoded = encoder.fit_transform(np.array(word_list).reshape(-1, 1))\n",
    "\n",
    "print(one_hot_encoded)"
   ]
  },
  {
   "cell_type": "code",
   "execution_count": null,
   "id": "50efdd11-4c9e-44c3-af64-6687cda7009e",
   "metadata": {},
   "outputs": [],
   "source": [
    "# word_list = [\"apple\", \"banana\", \"cherry\", \"apple\"]\n",
    "\n",
    "# # Download pre-trained Word2Vec embeddings\n",
    "# word_vectors = api.load(\"word2vec-google-news-300\")\n",
    "\n",
    "# # Get the embeddings for the words\n",
    "# embeddings = [word_vectors[word] for word in word_list]\n",
    "\n",
    "# print(embeddings)"
   ]
  },
  {
   "cell_type": "markdown",
   "id": "f46ad3f3-c001-4860-9539-e83ec4521712",
   "metadata": {},
   "source": [
    "27. Convert a list of integers to a list of strings."
   ]
  },
  {
   "cell_type": "code",
   "execution_count": null,
   "id": "7d1844c0-8fe9-4cf9-af24-1d08c8df0a16",
   "metadata": {},
   "outputs": [],
   "source": [
    "integers = [10, 15, 20, 25, 30, 35, 40]\n",
    "\n",
    "# Convert the list of integers to a list of strings\n",
    "strings = [str(x) for x in strings]\n",
    "\n",
    "print(strings)"
   ]
  },
  {
   "cell_type": "markdown",
   "id": "af5278bd-c55f-4b03-82c6-287e508e800b",
   "metadata": {},
   "source": [
    "28. Flatten a nested list."
   ]
  },
  {
   "cell_type": "code",
   "execution_count": null,
   "id": "4423eedb-4ef0-4241-ab4b-02b5150f3389",
   "metadata": {},
   "outputs": [],
   "source": [
    "nested_list = [1,2,[4,5,[6,7]]]"
   ]
  },
  {
   "cell_type": "code",
   "execution_count": null,
   "id": "27c0cd12-e5e8-46ba-b357-247966bd870a",
   "metadata": {},
   "outputs": [],
   "source": [
    "# We can flatten the list using the user defined function\n",
    "\n",
    "def flatten_nested_list(nested_list):\n",
    "    flat_list = []\n",
    "    for item in nested_list:\n",
    "        if isinstance(item, list):\n",
    "            flat_list.extend(flatten_nested_list(item))\n",
    "        else:\n",
    "            flat_list.append(item)\n",
    "    return flat_list"
   ]
  },
  {
   "cell_type": "code",
   "execution_count": null,
   "id": "3cccf712-5bbc-4b66-8a47-3a4e4dc6ef53",
   "metadata": {},
   "outputs": [],
   "source": [
    "flattened_list = flatten_nested_list(nested_list)\n",
    "\n",
    "print(flattened_list)"
   ]
  },
  {
   "cell_type": "code",
   "execution_count": null,
   "id": "fbc7cf7a-c17c-43bd-a3ff-0290f887c998",
   "metadata": {},
   "outputs": [],
   "source": [
    "# Another way to define the same function but handeling more exceptions\n",
    "\n",
    "def flatten_nested(iterable):\n",
    "    for item in iterable:\n",
    "        if isinstance(item, list):\n",
    "            yield from flatten_nested(item)\n",
    "        else:\n",
    "            yield item\n",
    "\n",
    "nested_list = [1, 2, [4, 5, [6, 7]]]\n",
    "flattened_list = list(flatten_nested(nested_list))\n",
    "\n",
    "print(flattened_list)"
   ]
  },
  {
   "cell_type": "markdown",
   "id": "1e7cb466-c892-4ce0-865b-c26d555e9173",
   "metadata": {},
   "source": [
    "29. Create a list of the first 10 Fibonacci numbers."
   ]
  },
  {
   "cell_type": "markdown",
   "id": "06c44b12-96e4-4c03-be3f-b24bd919aeac",
   "metadata": {},
   "source": [
    "* Fibonacci sequence is an arrangement of numbers as follows:    \n",
    "1, 1, 2, 3, 5, 8, 13 and so on..."
   ]
  },
  {
   "cell_type": "code",
   "execution_count": null,
   "id": "e973fef9-5374-4f18-bcb1-d4376a1d9a7a",
   "metadata": {},
   "outputs": [],
   "source": [
    "# We create a function that computes the next number by adding previous two numbers\n",
    "def fibonacci(n):\n",
    "    fib_sequence = [0, 1]\n",
    "    \n",
    "    while len(fib_sequence) < n:\n",
    "        next_number = fib_sequence[-1] + fib_sequence[-2]\n",
    "        fib_sequence.append(next_number)\n",
    "    \n",
    "    return fib_sequence"
   ]
  },
  {
   "cell_type": "code",
   "execution_count": null,
   "id": "74fb761f-6d86-4719-a402-a5be6ce9ddae",
   "metadata": {},
   "outputs": [],
   "source": [
    "n = 10\n",
    "result = fibonacci(n)\n",
    "print(result)"
   ]
  },
  {
   "cell_type": "markdown",
   "id": "2654c9b8-e694-4c58-b095-c6409e4bd531",
   "metadata": {},
   "source": [
    "30. Check if a list is sorted."
   ]
  },
  {
   "cell_type": "code",
   "execution_count": null,
   "id": "18e60d0e-9d00-4561-a87d-fc062e6d6ede",
   "metadata": {},
   "outputs": [],
   "source": [
    "# Define the function that will check whether previous numnber is less than or equal to the next number in the list\n",
    "\n",
    "def is_sorted(lst):\n",
    "    return all(lst[i] <= lst[i + 1] for i in range(len(lst) - 1))"
   ]
  },
  {
   "cell_type": "code",
   "execution_count": null,
   "id": "37470771-81d0-4d1a-ba25-2b2c74c0f9f4",
   "metadata": {},
   "outputs": [],
   "source": [
    "my_list = [1, 2, 3, 4, 5, 6, 10, 100, 1250]\n",
    "if is_sorted(my_list):\n",
    "    print(\"The list is sorted.\")\n",
    "else:\n",
    "    print(\"The list is not sorted.\")"
   ]
  },
  {
   "cell_type": "markdown",
   "id": "605d441d-809f-4332-84b9-3eccf9ae26da",
   "metadata": {},
   "source": [
    "31. Rotate a list to the left by `n` positions."
   ]
  },
  {
   "cell_type": "code",
   "execution_count": null,
   "id": "86db0a40-28ab-4718-9567-38ee23c9ffa3",
   "metadata": {},
   "outputs": [],
   "source": [
    "def rotate_left(lst, n):\n",
    "    n = n % len(lst)  \n",
    "    return lst[n:] + lst[:n]"
   ]
  },
  {
   "cell_type": "code",
   "execution_count": null,
   "id": "771e9fe3-3fd3-4ba5-8d65-5a7fedd85c88",
   "metadata": {},
   "outputs": [],
   "source": [
    "my_list = [1, 2, 3, 4, 5]\n",
    "n = 2\n",
    "rotated_list = rotate_left(my_list, n)\n",
    "print(rotated_list)"
   ]
  },
  {
   "cell_type": "markdown",
   "id": "db65c157-8acb-4167-bba8-db7a68660a9c",
   "metadata": {},
   "source": [
    "32. Rotate a list to the right by `n` positions."
   ]
  },
  {
   "cell_type": "code",
   "execution_count": null,
   "id": "77f37392-e552-440d-aea6-b9b8eb3579fe",
   "metadata": {},
   "outputs": [],
   "source": [
    "def rotate_right(lst, n):\n",
    "    n = n % len(lst)\n",
    "    return lst[-n:] + lst[:-n]"
   ]
  },
  {
   "cell_type": "code",
   "execution_count": null,
   "id": "9c823756-95d1-4a81-8c02-46a2a5849925",
   "metadata": {},
   "outputs": [],
   "source": [
    "my_list = [1, 2, 3, 4, 5]\n",
    "n = 2\n",
    "rotated_list = rotate_right(my_list, n)\n",
    "print(rotated_list)"
   ]
  },
  {
   "cell_type": "markdown",
   "id": "2f0ddfbb-d8e6-4141-86ec-01d490fad27d",
   "metadata": {},
   "source": [
    "33. Create a list of prime numbers up to 50."
   ]
  },
  {
   "cell_type": "code",
   "execution_count": null,
   "id": "86e77aee-cfe3-404e-96fc-abd323d2735f",
   "metadata": {},
   "outputs": [],
   "source": [
    "# def prime_no_list(n):\n",
    "#     prime_no = []\n",
    "#     for i in range(n):\n",
    "#         if i == 2:\n",
    "#             prime_no.append(i)\n",
    "#         elif \n",
    "#             for  j in range(i):\n",
    "#                 if i % j != 0:\n",
    "#                     prime_no.append(i)"
   ]
  },
  {
   "cell_type": "code",
   "execution_count": null,
   "id": "b2855c86-88d1-41ac-b6af-3d938e46d563",
   "metadata": {},
   "outputs": [],
   "source": [
    "# Define a function to check given number is prime or not\n",
    "def is_prime(num):\n",
    "    if num <= 1:\n",
    "        return False\n",
    "    if num == 2:\n",
    "        return True\n",
    "    if num % 2 == 0:\n",
    "        return False\n",
    "    for i in range(3, int(num**0.5) + 1, 2):\n",
    "        if num % i == 0:\n",
    "            return False\n",
    "    return True\n",
    "\n",
    "# Define a function to create the list of prime numbers upto n\n",
    "def prime_no_list(n):\n",
    "    prime_numbers = []\n",
    "    for i in range(2, n + 1):\n",
    "        if is_prime(i):\n",
    "            prime_numbers.append(i)\n",
    "    return prime_numbers"
   ]
  },
  {
   "cell_type": "code",
   "execution_count": null,
   "id": "f02fbcf6-2123-45bc-99f0-9b27f272c231",
   "metadata": {},
   "outputs": [],
   "source": [
    "n = 100\n",
    "prime_numbers = prime_no_list(n)\n",
    "print(prime_numbers)"
   ]
  },
  {
   "cell_type": "code",
   "execution_count": null,
   "id": "416ac6be-19e4-4f43-8c45-df7e050bb52b",
   "metadata": {},
   "outputs": [],
   "source": [
    "for i in range(3, int(49**0.5) + 1, 2):\n",
    "    print(i)"
   ]
  },
  {
   "cell_type": "code",
   "execution_count": null,
   "id": "9c670d1e-71f8-43c7-ad70-580d9e1a51ea",
   "metadata": {},
   "outputs": [],
   "source": [
    "int(20**0.5)"
   ]
  },
  {
   "cell_type": "markdown",
   "id": "1a716279-d092-4889-bc7f-4083512e6059",
   "metadata": {},
   "source": [
    "34. Split a list into chunks of size `n`."
   ]
  },
  {
   "cell_type": "code",
   "execution_count": null,
   "id": "e08559c5-06b8-4908-96e7-5ecee64810b4",
   "metadata": {},
   "outputs": [],
   "source": [
    "# Define the function to yield n chunks of input list \n",
    "def split_into_chunks(input_list, n):\n",
    "    for i in range(0, len(input_list), n):\n",
    "        yield input_list[i : i + n]"
   ]
  },
  {
   "cell_type": "code",
   "execution_count": null,
   "id": "97ae6962-bde7-4005-8ad7-d21f76468fd7",
   "metadata": {},
   "outputs": [],
   "source": [
    "list1 = [1, 2, 3, 4, 5, 6, 7, 8, 9]\n",
    "chunk_size = 3\n",
    "result = list(split_into_chunks(list1, chunk_size))\n",
    "print(result)"
   ]
  },
  {
   "cell_type": "markdown",
   "id": "15f2b60f-c24a-48f3-8a8d-3af2757d025f",
   "metadata": {},
   "source": [
    "35. Find the second largest number in a list."
   ]
  },
  {
   "cell_type": "code",
   "execution_count": null,
   "id": "27f02c27-2e29-405c-ac02-644ec90ce768",
   "metadata": {},
   "outputs": [],
   "source": [
    "def second_largest_num(input_list):\n",
    "    sorted_list = sorted(input_list, reverse=True)  # Sort the list into descending order\n",
    "    if len(sorted_list) >= 2:\n",
    "        return sorted_list[1]    # Return the second element of the sorted list\n",
    "    else:\n",
    "        return \"List doesn't have a second largest element.\""
   ]
  },
  {
   "cell_type": "code",
   "execution_count": null,
   "id": "331f567d-fb37-4ad3-8afd-8aaa995ca530",
   "metadata": {},
   "outputs": [],
   "source": [
    "input_list = [1, 100, 101, 105, 106.5]\n",
    "result = second_largest_num(input_list)\n",
    "print(result)"
   ]
  },
  {
   "cell_type": "markdown",
   "id": "2df69e15-d5fb-4680-a691-ae452955d889",
   "metadata": {},
   "source": [
    "36. Replace every element in a list with its square."
   ]
  },
  {
   "cell_type": "code",
   "execution_count": null,
   "id": "03d8d883-9dd1-470f-92ae-61f54285bd2b",
   "metadata": {},
   "outputs": [],
   "source": [
    "# def squared_list(input_list):\n",
    "#     for i in input_list:\n",
    "#         i = i**2\n",
    "#     return input_list"
   ]
  },
  {
   "cell_type": "code",
   "execution_count": null,
   "id": "28ea5343-cc4c-49ac-ac75-bb0d02c39724",
   "metadata": {},
   "outputs": [],
   "source": [
    "# Using for loop\n",
    "def squared_list(input_list):\n",
    "    for i in range(len(input_list)):\n",
    "        input_list[i] = input_list[i]**2\n",
    "    return input_list"
   ]
  },
  {
   "cell_type": "code",
   "execution_count": null,
   "id": "dfb0fe9d-f21a-474d-b5f5-6b0287516b0f",
   "metadata": {},
   "outputs": [],
   "source": [
    "input_list = [1,3,5,7,9]\n",
    "sq_list = squared_list(input_list)\n",
    "print(sq_list)"
   ]
  },
  {
   "cell_type": "code",
   "execution_count": null,
   "id": "337f7c04-34cd-4f1b-b1b0-3b3fc743995f",
   "metadata": {},
   "outputs": [],
   "source": [
    "# Using list comprehension\n",
    "def squared_list(input_list):\n",
    "    return [x**2 for x in input_list]"
   ]
  },
  {
   "cell_type": "code",
   "execution_count": null,
   "id": "709afdcb-9d45-4b43-b8ba-4b2b01c0ce4e",
   "metadata": {},
   "outputs": [],
   "source": [
    "original_list = [1, 2, 3, 4, 5]\n",
    "squared = squared_list(original_list)\n",
    "print(squared)"
   ]
  },
  {
   "cell_type": "markdown",
   "id": "5dfc3fd4-5070-4c5f-803c-2ca45a3c6940",
   "metadata": {},
   "source": [
    "37. Convert a list to a dictionary where list elements become keys and their\n",
    "indices become values."
   ]
  },
  {
   "cell_type": "code",
   "execution_count": null,
   "id": "a0eab949-6a69-40b4-a049-fce441231982",
   "metadata": {},
   "outputs": [],
   "source": [
    "# My code\n",
    "def list_dict(input_list):\n",
    "    index_list = []\n",
    "    for i in range(len(input_list)):\n",
    "        index_list.append(i)\n",
    "    dictinary = dict(zip(input_list, index_list))\n",
    "    return dictinary"
   ]
  },
  {
   "cell_type": "code",
   "execution_count": null,
   "id": "2f534695-d655-4e9c-a5e8-9e9e9427672b",
   "metadata": {},
   "outputs": [],
   "source": [
    "input_list = ['python', 'snowpark', 'django', 'react', 'snowflake']\n",
    "op_list = list_dict(input_list)\n",
    "print(op_list)"
   ]
  },
  {
   "cell_type": "code",
   "execution_count": null,
   "id": "b271fb95-f9ad-41ca-b4be-08ca4bdb4d03",
   "metadata": {},
   "outputs": [],
   "source": [
    "# Chatgpt's code\n",
    "def list_to_dict(input_list):\n",
    "    return {element: index for index, element in enumerate(input_list)}"
   ]
  },
  {
   "cell_type": "code",
   "execution_count": null,
   "id": "d6a0d77a-e6a9-415e-b987-a4863eb842bd",
   "metadata": {},
   "outputs": [],
   "source": [
    "input_list = ['python', 'snowpark', 'django', 'react', 'snowflake']\n",
    "op_list = list_to_dict(input_list)\n",
    "print(op_list)"
   ]
  },
  {
   "cell_type": "code",
   "execution_count": null,
   "id": "b7b4f8ac-a34c-4b1a-8281-e51c1922ab9e",
   "metadata": {},
   "outputs": [],
   "source": [
    "# Chatgpt's code is more efficient but hard to understand"
   ]
  },
  {
   "cell_type": "markdown",
   "id": "a87e1005-df20-47a2-9d80-929a5ec0d7b1",
   "metadata": {},
   "source": [
    "38. Shuffle the elements of a list randomly."
   ]
  },
  {
   "cell_type": "code",
   "execution_count": null,
   "id": "f4cabcca-6e47-4774-a181-b1e650aeb5d2",
   "metadata": {},
   "outputs": [],
   "source": [
    "import random\n",
    "\n",
    "def shuffle_list(input_list):\n",
    "    shuffled_list = input_list.copy()  # Create a copy to avoid modifying the original list\n",
    "    random.shuffle(shuffled_list)   # random.shuffle function randomizes the list \n",
    "    return shuffled_list"
   ]
  },
  {
   "cell_type": "code",
   "execution_count": null,
   "id": "8a161c02-611c-49b5-9d07-2669d5d830b7",
   "metadata": {},
   "outputs": [],
   "source": [
    "original_list = ['jupyterlab', 'vscode', 'pycharm', 'spyder', 'jupyter_notebook']\n",
    "shuffled = shuffle_list(original_list)\n",
    "print(shuffled)"
   ]
  },
  {
   "cell_type": "markdown",
   "id": "89f9474e-f7fb-4b0e-8fa6-72ad866a5e78",
   "metadata": {},
   "source": [
    "39. Create a list of the first 10 factorial numbers."
   ]
  },
  {
   "cell_type": "code",
   "execution_count": null,
   "id": "e31dcc3e-1759-48a9-bf80-a2bd95b9ac4e",
   "metadata": {},
   "outputs": [],
   "source": [
    "def factorialize(list_nums):\n",
    "    return [factorial(num) for num in list_nums]\n",
    "\n",
    "list_nums = [1, 2, 3, 4, 5]\n",
    "fctorial_list = factorialize(list_nums)\n",
    "print(fctorial_list)"
   ]
  },
  {
   "cell_type": "code",
   "execution_count": null,
   "id": "63a32c52-0e00-4c73-83d0-4b916d4daaf2",
   "metadata": {},
   "outputs": [],
   "source": [
    "# We can define the function like following also\n",
    "def factorial(n):\n",
    "    if n == 0:\n",
    "        return 1\n",
    "    else:\n",
    "        return n * factorial(n - 1)\n",
    "\n",
    "first_10_factorials = [factorial(i) for i in range(1, 11)]\n",
    "\n",
    "print(first_10_factorials)"
   ]
  },
  {
   "cell_type": "markdown",
   "id": "18a00892-41da-4e6c-9b58-232cb60cfb1a",
   "metadata": {},
   "source": [
    "40. Check if two lists have at least one element in common."
   ]
  },
  {
   "cell_type": "code",
   "execution_count": null,
   "id": "b372042b-3b64-4646-8e16-dec76e21e437",
   "metadata": {},
   "outputs": [],
   "source": [
    "def is_intersection(list1, list2):\n",
    "    list3 = set(list1).intersection(set(list2))\n",
    "    if not list3:\n",
    "        print('Two lists have no element in common')\n",
    "    else:\n",
    "        print('The common elements in list1 and list2 are: ', list(list3))\n",
    "\n",
    "list1 = [2, 4, 6, 8, 10, 12, 14, 16]\n",
    "list2 = [1, 4, 9, 16, 25, 36]\n",
    "is_intersection(list1, list2)"
   ]
  },
  {
   "cell_type": "markdown",
   "id": "7f47ff08-6af9-4e5f-b416-c90c7debebab",
   "metadata": {},
   "source": [
    "\n",
    "41. Remove all elements from a list."
   ]
  },
  {
   "cell_type": "code",
   "execution_count": null,
   "id": "db16b45d-202c-4f30-851d-adfde947b8ea",
   "metadata": {},
   "outputs": [],
   "source": [
    "# def remove_elements(input_list):\n",
    "#     for i in range(len(input_list)):\n",
    "#             input_list.pop(i)\n",
    "#     return input_list\n",
    "# input_list = [1,2,3,4,5]\n",
    "# empyt_list = remove_elements(input_list)\n",
    "# print(empyt_list)"
   ]
  },
  {
   "cell_type": "code",
   "execution_count": null,
   "id": "5e522f9a-7851-4a09-b9f7-16ec999849cf",
   "metadata": {},
   "outputs": [],
   "source": [
    "def remove_elements(input_list):\n",
    "    input_list.clear()  # Use the clear() method to remove all elements from the list\n",
    "    return input_list\n",
    "\n",
    "input_list = [1, 2, 3, 4, 5]\n",
    "empty_list = remove_elements(input_list)\n",
    "print(empty_list)"
   ]
  },
  {
   "cell_type": "code",
   "execution_count": null,
   "id": "24a1ead8-5020-49e4-85c6-b9fc5889c980",
   "metadata": {},
   "outputs": [],
   "source": [
    "def clear_list(input_list, modify_original=False):\n",
    "    if modify_original:\n",
    "        input_list.clear()\n",
    "    else:\n",
    "        return []\n",
    "\n",
    "input_list = [1, 2, 3, 4, 5]\n",
    "\n",
    "# Remove all elements in-place (modify the original list)\n",
    "clear_list(input_list, modify_original=True)\n",
    "print(input_list)  # The original list is now empty"
   ]
  },
  {
   "cell_type": "markdown",
   "id": "0b700451-0d05-45e0-b0c7-e6259d2135da",
   "metadata": {},
   "source": [
    "42. Replace negative numbers in a list with 0."
   ]
  },
  {
   "cell_type": "code",
   "execution_count": 3,
   "id": "f9421668-9da8-430e-ad80-5d2568fb9a5c",
   "metadata": {},
   "outputs": [],
   "source": [
    "def non_negative_list(input_list):\n",
    "    return [x if x >= 0 else 0 for x in input_list]"
   ]
  },
  {
   "cell_type": "code",
   "execution_count": 4,
   "id": "7df718d6-94b4-4929-948d-6bf043febac3",
   "metadata": {},
   "outputs": [
    {
     "name": "stdout",
     "output_type": "stream",
     "text": [
      "[1, 0, 0, 0, 0, 0, 3.2, 0.25, 1.95]\n"
     ]
    }
   ],
   "source": [
    "input_list = [1, -1, -2, -3, 0, -0.5, 3.2, 0.25, 1.95]\n",
    "result = non_negative_list(input_list)\n",
    "print(result)"
   ]
  },
  {
   "cell_type": "markdown",
   "id": "ae806883-ddaa-406c-b6f5-4634d4d91f9c",
   "metadata": {},
   "source": [
    "43. Convert a string into a list of words."
   ]
  },
  {
   "cell_type": "code",
   "execution_count": 6,
   "id": "b7394d88-839b-4186-a22e-5b63b6294b83",
   "metadata": {},
   "outputs": [
    {
     "name": "stdout",
     "output_type": "stream",
     "text": [
      "['This', 'is', 'a', 'python', 'code']\n"
     ]
    }
   ],
   "source": [
    "def convert_to_list_of_words(input_string):\n",
    "    word_list = input_string.split()\n",
    "    return(word_list)\n",
    "\n",
    "input_string = 'This is a python code'\n",
    "result = convert_to_list_of_words(input_string)\n",
    "print(result)"
   ]
  },
  {
   "cell_type": "markdown",
   "id": "530e4870-8572-4c20-be7a-d11d5e7455af",
   "metadata": {},
   "source": [
    "44. Convert a list of words into a string."
   ]
  },
  {
   "cell_type": "code",
   "execution_count": 25,
   "id": "2826de6b-3c8a-4440-a325-01de4f0f8742",
   "metadata": {},
   "outputs": [
    {
     "name": "stdout",
     "output_type": "stream",
     "text": [
      "I like python programming language\n"
     ]
    }
   ],
   "source": [
    "def convert_into_string(list_of_words):\n",
    "    string = ' '.join(list_of_words)\n",
    "    return string\n",
    "\n",
    "list_of_words = ['I', 'like', 'python', 'programming', 'language']\n",
    "result = convert_into_string(list_of_words)\n",
    "print(result)"
   ]
  },
  {
   "cell_type": "markdown",
   "id": "4f31f9c5-6a1f-4b6e-816d-1819f49e0efc",
   "metadata": {},
   "source": [
    "45. Create a list of the first `n` powers of 2."
   ]
  },
  {
   "cell_type": "code",
   "execution_count": 11,
   "id": "74c587fe-f242-40c3-9589-49bab5a05084",
   "metadata": {},
   "outputs": [
    {
     "name": "stdout",
     "output_type": "stream",
     "text": [
      "Powers of 2 upto 10 are [2, 4, 8, 16, 32, 64, 128, 256, 512, 1024]\n"
     ]
    }
   ],
   "source": [
    "def powers_of_two(n):\n",
    "    power_list = []\n",
    "    for i in range(n):\n",
    "        j = 2**(i + 1)\n",
    "        power_list.append(j)\n",
    "    return(power_list)\n",
    "\n",
    "n = 10\n",
    "result = powers_of_two(n)\n",
    "print(f'Powers of 2 upto {n} are', result)"
   ]
  },
  {
   "cell_type": "code",
   "execution_count": 12,
   "id": "27984941-e0a8-4fa8-9fb1-02ad397a9923",
   "metadata": {},
   "outputs": [
    {
     "name": "stdout",
     "output_type": "stream",
     "text": [
      "Powers of 2 up to 10 are [2, 4, 8, 16, 32, 64, 128, 256, 512, 1024]\n"
     ]
    }
   ],
   "source": [
    "# We can create required list using the list comprehension\n",
    "def powers_of_two(n):\n",
    "    return [2 ** i for i in range(1, n + 1)]\n",
    "\n",
    "n = 10\n",
    "result = powers_of_two(n)\n",
    "print(f'Powers of 2 up to {n} are', result)"
   ]
  },
  {
   "cell_type": "markdown",
   "id": "ad9aeb27-3679-4f76-8a01-665dea4141d9",
   "metadata": {},
   "source": [
    "46. Find the longest string in a list of strings."
   ]
  },
  {
   "cell_type": "code",
   "execution_count": 16,
   "id": "d4fc87e5-6319-47ad-af91-8e213349916f",
   "metadata": {},
   "outputs": [],
   "source": [
    "# def longest_string(list_of_strings):\n",
    "#     return max([len(string) for string in list_of_strings])\n",
    "\n",
    "# list_of_strings = ['pandas', 'numpy', 'tensorflow', 'keras', 'scikitlearn', 'seaborn', 'matplotlib']\n",
    "# result = longest_string(list_of_strings)\n",
    "# print(result)"
   ]
  },
  {
   "cell_type": "code",
   "execution_count": 24,
   "id": "13b4f016-52b4-442a-ba8d-03bb61bad261",
   "metadata": {},
   "outputs": [
    {
     "name": "stdout",
     "output_type": "stream",
     "text": [
      "Longest string in the given list is:\n",
      "scikitlearn\n",
      "The length of the longest string is: 11\n"
     ]
    }
   ],
   "source": [
    "def longest_string(list_of_strings):\n",
    "    max_length = max(len(string) for string in list_of_strings)\n",
    "    longest_strings = [string for string in list_of_strings if len(string) == max_length]\n",
    "    return longest_strings, max_length\n",
    "\n",
    "list_of_strings = ['pandas', 'numpy', 'tensorflow', 'keras', 'scikitlearn', 'seaborn', 'matplotlib']\n",
    "result, length = longest_string(list_of_strings)\n",
    "print(\"Longest string in the given list is:\\n\" + \"\\n\".join(result))\n",
    "print(\"The length of the longest string is:\", length)"
   ]
  },
  {
   "cell_type": "markdown",
   "id": "91883db9-6486-4147-9384-7c163c0e2508",
   "metadata": {},
   "source": [
    "47. Find the shortest string in a list of strings."
   ]
  },
  {
   "cell_type": "code",
   "execution_count": 29,
   "id": "a72d4bc3-c206-4ad6-8773-31b62c3d9970",
   "metadata": {},
   "outputs": [
    {
     "name": "stdout",
     "output_type": "stream",
     "text": [
      "Shortest string(s) in the given list is/are:\n",
      "numpy\n",
      "keras\n",
      "The length of the longest string is: 5\n"
     ]
    }
   ],
   "source": [
    "# Define the similar function as above\n",
    "def shortest_string(list_of_strings):\n",
    "    min_length = min(len(string) for string in list_of_strings)\n",
    "    shortest_strings = [string for string in list_of_strings if len(string) == min_length]\n",
    "    return shortest_strings, min_length\n",
    "\n",
    "list_of_strings = ['pandas', 'numpy', 'tensorflow', 'keras', 'scikitlearn', 'seaborn', 'matplotlib']\n",
    "result, length = shortest_string(list_of_strings)\n",
    "print(\"Shortest string(s) in the given list is/are:\\n\" + \"\\n\".join(result))\n",
    "print(\"The length of the longest string is:\", length)"
   ]
  },
  {
   "cell_type": "markdown",
   "id": "cafc09d6-557c-45cc-bd25-590271555689",
   "metadata": {},
   "source": [
    "48. Create a list of the first `n` triangular numbers."
   ]
  },
  {
   "cell_type": "markdown",
   "id": "3a66c51a-806a-416f-b888-3a019252196d",
   "metadata": {},
   "source": [
    "* Triangular number is the sum of the numbers upto n\n",
    "  The sum of first n natural numbers which is give by     \n",
    "  $\\frac{{i\\,}\\times{\\,i+1}}{2}$"
   ]
  },
  {
   "cell_type": "code",
   "execution_count": 30,
   "id": "82f18892-9f51-44e3-9922-06c97252b09b",
   "metadata": {},
   "outputs": [
    {
     "name": "stdout",
     "output_type": "stream",
     "text": [
      "The first 10 triangular numbers are: [1, 3, 6, 10, 15, 21, 28, 36, 45, 55]\n"
     ]
    }
   ],
   "source": [
    "def triangular_num(n):\n",
    "    triangular_numbers = []\n",
    "    for i in range(1, n + 1):\n",
    "        triangular_number = i * (i + 1) // 2\n",
    "        triangular_numbers.append(triangular_number)\n",
    "    return triangular_numbers\n",
    "\n",
    "n = 10 \n",
    "result = triangular_num(n)\n",
    "print(\"The first\", n, \"triangular numbers are:\", result)"
   ]
  },
  {
   "cell_type": "markdown",
   "id": "ad988bfe-dd7d-40f7-a8d5-d568eddc7078",
   "metadata": {},
   "source": [
    "49. Check if a list contains another list as a subsequence."
   ]
  },
  {
   "cell_type": "code",
   "execution_count": 31,
   "id": "fb58c983-faec-42fd-856c-6129e1c51053",
   "metadata": {},
   "outputs": [],
   "source": [
    "def is_subsequence(sublist, mainlist):\n",
    "    sub_len = len(sublist)\n",
    "    main_len = len(mainlist)\n",
    "    if sub_len == 0:\n",
    "        return True\n",
    "    if main_len < sub_len:\n",
    "        return False\n",
    "    \n",
    "    sub_index = 0\n",
    "    for element in mainlist:\n",
    "        if element == sublist[sub_index]:\n",
    "            sub_index += 1\n",
    "            if sub_index == sub_len:\n",
    "                return True\n",
    "    \n",
    "    return False"
   ]
  },
  {
   "cell_type": "code",
   "execution_count": 34,
   "id": "46c7d548-546b-4732-a214-5b9041b8c732",
   "metadata": {},
   "outputs": [
    {
     "name": "stdout",
     "output_type": "stream",
     "text": [
      "Given sublist is a sublist of the main list\n"
     ]
    }
   ],
   "source": [
    "main_list = [1, 2, 3, 4, 5, 6, 7, 8, 10, 12]\n",
    "sub_list = [2, 4, 6]\n",
    "\n",
    "result = is_subsequence(sub_list, main_list)\n",
    "if result:\n",
    "    print('Given sublist is a sublist of the main list')\n",
    "else:\n",
    "    print('Given sublist is not a sublist of the main list')"
   ]
  },
  {
   "cell_type": "markdown",
   "id": "311d4bca-de63-4259-861a-7a34df045d3f",
   "metadata": {},
   "source": [
    "50. Swap two elements in a list by their indices."
   ]
  },
  {
   "cell_type": "code",
   "execution_count": 35,
   "id": "7c06e81a-c9d5-4805-bd8e-7268b4173715",
   "metadata": {},
   "outputs": [],
   "source": [
    "def swap_elements_by_indices(input_list, index1, index2):\n",
    "    if 0 <= index1 < len(input_list) and 0 <= index2 < len(input_list):\n",
    "        input_list[index1], input_list[index2] = input_list[index2], input_list[index1]"
   ]
  },
  {
   "cell_type": "code",
   "execution_count": 37,
   "id": "2b3e0a53-22c7-431a-ae71-dd00a7c693c1",
   "metadata": {},
   "outputs": [
    {
     "name": "stdout",
     "output_type": "stream",
     "text": [
      "['Apple', 'Lenovo', 'Dell', 'Samsumng', 'HP', 'MSI', 'Asus']\n"
     ]
    }
   ],
   "source": [
    "my_list = ['Apple', 'Samsumng', 'Dell', 'Lenovo', 'HP', 'MSI', 'Asus']\n",
    "swap_elements_by_indices(my_list, 1, 3)  # Swap elements at index 1 and 3\n",
    "print(my_list)"
   ]
  },
  {
   "cell_type": "code",
   "execution_count": null,
   "id": "b1a49f12-353d-4989-9579-476e26849e68",
   "metadata": {},
   "outputs": [],
   "source": []
  }
 ],
 "metadata": {
  "kernelspec": {
   "display_name": "Python 3 (ipykernel)",
   "language": "python",
   "name": "python3"
  },
  "language_info": {
   "codemirror_mode": {
    "name": "ipython",
    "version": 3
   },
   "file_extension": ".py",
   "mimetype": "text/x-python",
   "name": "python",
   "nbconvert_exporter": "python",
   "pygments_lexer": "ipython3",
   "version": "3.11.5"
  }
 },
 "nbformat": 4,
 "nbformat_minor": 5
}
